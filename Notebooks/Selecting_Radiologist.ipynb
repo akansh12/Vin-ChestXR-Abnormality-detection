{
 "cells": [
  {
   "cell_type": "markdown",
   "id": "8a6be7ca",
   "metadata": {},
   "source": [
    "### Selcting the Radiologist\n",
    "\n",
    "- Randomly Select one\n",
    "- Agreement Between two, remove the third\n",
    "- Agreement of three\n",
    "- All \n",
    "- One radiologist in one epoch"
   ]
  },
  {
   "cell_type": "code",
   "execution_count": 1,
   "id": "e73ab403",
   "metadata": {},
   "outputs": [],
   "source": [
    "import numpy as np\n",
    "import pandas as pd\n",
    "import os\n",
    "from tqdm.auto import tqdm"
   ]
  },
  {
   "cell_type": "code",
   "execution_count": 2,
   "id": "8e0317a9",
   "metadata": {},
   "outputs": [],
   "source": [
    "import warnings\n",
    "warnings.filterwarnings('ignore')\n",
    "import torch\n",
    "from torchvision import transforms, models, datasets\n",
    "import numpy as np\n",
    "import torch.optim as optim\n",
    "import torch.nn as nn\n",
    "import pandas as pd\n",
    "import os\n",
    "from tqdm.auto import tqdm\n",
    "from torch.utils.data import DataLoader, Dataset\n",
    "from torch.nn import functional as F\n",
    "import cv2\n",
    "import timm\n",
    "import matplotlib.pyplot as plt\n",
    "from PIL import Image"
   ]
  },
  {
   "cell_type": "code",
   "execution_count": 3,
   "id": "fb8f205f",
   "metadata": {},
   "outputs": [],
   "source": [
    "from collections import OrderedDict"
   ]
  },
  {
   "cell_type": "code",
   "execution_count": 4,
   "id": "95e194b0",
   "metadata": {},
   "outputs": [],
   "source": [
    "labels_csv = {'train': \"/scratch/scratch6/akansh12/DeepEXrays/physionet.org/files/vindr-cxr/1.0.0/annotations/image_labels_train.csv\",\n",
    "             'test': \"/scratch/scratch6/akansh12/DeepEXrays/physionet.org/files/vindr-cxr/1.0.0/annotations/image_labels_test.csv\"\n",
    "             }\n",
    "\n",
    "data_dir = {'train': \"/scratch/scratch6/akansh12/DeepEXrays/data/data_256/train/\",\n",
    "           'test': \"/scratch/scratch6/akansh12/DeepEXrays/data/data_256/test/\"}"
   ]
  },
  {
   "cell_type": "code",
   "execution_count": 5,
   "id": "75d6c6c2",
   "metadata": {},
   "outputs": [],
   "source": [
    "global_labels = ['Pleural effusion', 'Lung tumor', 'Pneumonia', 'Tuberculosis', 'Other diseases', 'No finding']"
   ]
  },
  {
   "cell_type": "code",
   "execution_count": 6,
   "id": "3ebc1b86",
   "metadata": {},
   "outputs": [],
   "source": [
    "selec_radio = ['rand_one', 'agree_two', 'agree_three', 'radio_per_epoch', 'all']"
   ]
  },
  {
   "cell_type": "code",
   "execution_count": 7,
   "id": "8045f62d",
   "metadata": {},
   "outputs": [],
   "source": [
    "#dataset\n",
    "class Vin_big_dataset(Dataset):\n",
    "    def __init__(self, image_loc, label_loc, transforms, data_type, selec_radio, radio_id = None):\n",
    "        global_labels = ['Pleural effusion', 'Lung tumor', 'Pneumonia', 'Tuberculosis', 'Other diseases', 'No finding']\n",
    "        \n",
    "        if data_type == 'train':\n",
    "            label_df = pd.read_csv(label_loc)\n",
    "            if selec_radio == 'rand_one':\n",
    "                label_df['labels'] = label_df['image_id']\n",
    "                label_df.set_index(\"labels\", inplace = True)\n",
    "                filenames = np.unique(label_df.index.values).tolist()\n",
    "                self.full_filenames = [os.path.join(image_loc, i +'.png') for i in filenames]\n",
    "                self.labels = []\n",
    "                for i in (filenames):\n",
    "                    self.labels.append(label_df[global_labels].loc[i].values.tolist()[np.random.choice([0,1,2])])\n",
    "                self.labels = torch.tensor(self.labels)\n",
    "            if selec_radio == 'agree_two':\n",
    "                label_df['labels'] = label_df['image_id']\n",
    "                label_df.set_index(\"labels\", inplace = True)\n",
    "                filenames_temp = np.unique(label_df.index.values).tolist()\n",
    "                self.labels = []\n",
    "                filenames = []\n",
    "                for i in filenames_temp:\n",
    "                    a,b = np.unique(label_df.loc[i][global_labels].values, axis = 0, return_counts=True)\n",
    "                    if b[0] >= 2:\n",
    "                        filenames.append(i)\n",
    "                        self.labels.append(a[0])\n",
    "                self.labels = torch.tensor(self.labels)\n",
    "                self.full_filenames = [os.path.join(image_loc, i +'.png') for i in filenames]\n",
    "            if selec_radio == 'agree_three':\n",
    "                label_df['labels'] = label_df['image_id']\n",
    "                label_df.set_index(\"labels\", inplace = True)\n",
    "                filenames_temp = np.unique(label_df.index.values).tolist()\n",
    "                self.labels = []\n",
    "                filenames = []\n",
    "                for i in filenames_temp:\n",
    "                    a,b = np.unique(label_df.loc[i][global_labels].values, axis = 0, return_counts=True)\n",
    "                    if b[0] == 3:\n",
    "                        filenames.append(i)\n",
    "                        self.labels.append(a[0])\n",
    "                self.labels = torch.tensor(self.labels)\n",
    "                self.full_filenames = [os.path.join(image_loc, i +'.png') for i in filenames]\n",
    "            if selec_radio == 'radio_per_epoch':\n",
    "                label_df['labels'] = label_df['image_id']\n",
    "                label_df.set_index(\"labels\", inplace = True)\n",
    "                filenames = np.unique(label_df.index.values).tolist()\n",
    "                self.labels = []\n",
    "                for i in filenames:\n",
    "                    self.labels.append(label_df.loc[i][global_labels].values[radio_id].tolist())\n",
    "                self.labels = torch.tensor(self.labels)\n",
    "                self.full_filenames = [os.path.join(image_loc, i +'.png') for i in filenames]\n",
    "            if selec_radio == 'all': \n",
    "                label_df['labels'] = label_df['image_id'] +'_'+ label_df['rad_id']\n",
    "                label_df.set_index(\"labels\", inplace = True)\n",
    "                filenames = label_df.index.values.tolist()\n",
    "            \n",
    "                self.full_filenames = [os.path.join(image_loc, i.split('_')[0]+'.png') for i in filenames]\n",
    "                self.labels = []\n",
    "                for i in tqdm(filenames):\n",
    "                    self.labels.append(label_df[global_labels].loc[i].values.tolist())         \n",
    "                self.labels = torch.tensor(self.labels)\n",
    "                \n",
    "        if data_type == 'test':                     \n",
    "            filenames = os.listdir(image_loc)\n",
    "            self.full_filenames = [os.path.join(image_loc, i) for i in filenames]\n",
    "            label_df = pd.read_csv(label_loc)\n",
    "            label_df.set_index(\"image_id\", inplace = True)\n",
    "            self.labels = [label_df[global_labels].loc[filename[:-4]].values for filename in filenames]\n",
    "            \n",
    "        self.transforms = transforms\n",
    "#         self.data_type = data_type\n",
    "    def __len__(self):\n",
    "        return len(self.full_filenames)\n",
    "    \n",
    "    def __getitem__(self, idx):\n",
    "        image = Image.open(self.full_filenames[idx])\n",
    "        image = self.transforms(image)\n",
    "        \n",
    "        return image, self.labels[idx]\n",
    "    \n",
    "            "
   ]
  },
  {
   "cell_type": "code",
   "execution_count": 8,
   "id": "922e3d42",
   "metadata": {},
   "outputs": [],
   "source": [
    "def train_one_epoch(model, optimizer, lr_scheduler,\n",
    "                    dataloader, epoch, criterion):\n",
    "    \n",
    "    print(\"Start Train ...\")\n",
    "    model.train()\n",
    "\n",
    "    losses_train = []\n",
    "    model_train_result = []\n",
    "    train_target = []\n",
    "\n",
    "\n",
    "    for data, targets in tqdm(dataloader):\n",
    "        data = data.to(device)\n",
    "        targets = targets.to(device).type(torch.float)\n",
    "\n",
    "\n",
    "        outputs = model(data)\n",
    "        model_train_result.extend(outputs.detach().cpu().numpy().tolist())\n",
    "        train_target.extend(targets.cpu().numpy())\n",
    "\n",
    "\n",
    "        loss = criterion(outputs, targets)\n",
    "\n",
    "        losses_train.append(loss.item())\n",
    "\n",
    "        optimizer.zero_grad()\n",
    "        loss.backward()\n",
    "        optimizer.step()\n",
    "        \n",
    "    train_auc = roc_auc_score(train_target, np.array(model_train_result), average=None)\n",
    "\n",
    "        \n",
    "    if lr_scheduler is not None:\n",
    "        lr_scheduler.step()\n",
    "\n",
    "    lr = lr_scheduler.get_last_lr()[0]\n",
    "    print(\"Epoch [%d]\" % (epoch),\n",
    "          \"Mean loss on train:\", np.array(losses_train).mean(), \n",
    "          \"AUC score:\",np.array(train_auc),\n",
    "          \"Mean AUC score on train:\", np.array(train_auc).mean(), \n",
    "          \"Learning Rate:\", lr)\n",
    "\n",
    "    \n",
    "    return np.array(losses_train).mean(), np.array(train_auc), lr\n",
    "\n",
    "\n",
    "def val_epoch(model, dataloader, epoch, criterion):\n",
    "    \n",
    "    print(\"Start Validation ...\")\n",
    "    model.eval()\n",
    "    \n",
    "    model_val_result = []\n",
    "    val_target = []\n",
    "    losses_val = []\n",
    "\n",
    "    with torch.no_grad():\n",
    "        for data, targets in tqdm(dataloader):\n",
    "\n",
    "            data = data.to('cuda')\n",
    "            targets = targets.to('cuda').type(torch.float)\n",
    "\n",
    "            outputs = model(data)\n",
    "            \n",
    "            #loss\n",
    "            loss = criterion(outputs, targets)\n",
    "            losses_val.append(loss.item())\n",
    "\n",
    "            \n",
    "            model_val_result.extend(outputs.detach().cpu().numpy().tolist())\n",
    "            val_target.extend(targets.cpu().numpy())\n",
    "            \n",
    "        val_auc = roc_auc_score(val_target, np.array(model_val_result), average=None)\n",
    "\n",
    "\n",
    "\n",
    "\n",
    "        print(\"Epoch:  \" + str(epoch) + \" AUC valid Score:\", np.array(val_auc), \n",
    "              \"Mean valid AUC score\", np.array(val_auc).mean())\n",
    "        \n",
    "    return np.array(losses_val).mean(), np.array(val_auc)"
   ]
  },
  {
   "cell_type": "code",
   "execution_count": 9,
   "id": "44d8dac5",
   "metadata": {},
   "outputs": [],
   "source": [
    "data_transforms = { \n",
    "    \"train\": transforms.Compose([\n",
    "        transforms.RandomHorizontalFlip(p = 0.4), \n",
    "        transforms.RandomPerspective(distortion_scale=0.3),\n",
    "        transforms.RandomRotation((-30,30)),\n",
    "        transforms.ToTensor(),\n",
    "        transforms.Normalize(mean = [0.485, 0.456, 0.406], std = [0.229, 0.224, 0.225])\n",
    "    ]),\n",
    "    \n",
    "    \"test\": transforms.Compose([\n",
    "        transforms.ToTensor(),\n",
    "        transforms.Normalize(mean = [0.485, 0.456, 0.406], std = [0.229, 0.224, 0.225])        \n",
    "    ])\n",
    "    \n",
    "}"
   ]
  },
  {
   "cell_type": "code",
   "execution_count": 10,
   "id": "5f4e7fc6",
   "metadata": {},
   "outputs": [],
   "source": [
    "train_dataset_rand_one = Vin_big_dataset(image_loc = data_dir['train'],\n",
    "                          label_loc = labels_csv['train'],\n",
    "                          transforms = data_transforms['train'],\n",
    "                          data_type = 'train', selec_radio = 'rand_one')\n"
   ]
  },
  {
   "cell_type": "code",
   "execution_count": null,
   "id": "8c3b9d13",
   "metadata": {},
   "outputs": [],
   "source": []
  },
  {
   "cell_type": "code",
   "execution_count": 12,
   "id": "aee3934e",
   "metadata": {},
   "outputs": [
    {
     "name": "stdout",
     "output_type": "stream",
     "text": [
      "torch.Size([8, 3, 1024, 1024])\n",
      "tensor([[0, 0, 0, 0, 0, 1],\n",
      "        [0, 0, 0, 0, 0, 1],\n",
      "        [0, 0, 0, 0, 0, 1],\n",
      "        [0, 0, 0, 0, 0, 1],\n",
      "        [0, 0, 0, 0, 0, 1],\n",
      "        [0, 0, 0, 0, 0, 1],\n",
      "        [0, 0, 0, 0, 0, 1],\n",
      "        [0, 0, 1, 1, 1, 0]])\n"
     ]
    }
   ],
   "source": [
    "for x,y in trainloader:\n",
    "    print(x.shape)\n",
    "    print(y)\n",
    "    break"
   ]
  },
  {
   "cell_type": "code",
   "execution_count": 11,
   "id": "6a4c981d",
   "metadata": {},
   "outputs": [],
   "source": [
    "train_dataset_agree_two = Vin_big_dataset(image_loc = data_dir['train'],\n",
    "                          label_loc = labels_csv['train'],\n",
    "                          transforms = data_transforms['train'],\n",
    "                          data_type = 'train', selec_radio = 'agree_two')\n"
   ]
  },
  {
   "cell_type": "code",
   "execution_count": 13,
   "id": "2cb83b51",
   "metadata": {},
   "outputs": [],
   "source": [
    "train_dataset_agree_three = Vin_big_dataset(image_loc = data_dir['train'],\n",
    "                          label_loc = labels_csv['train'],\n",
    "                          transforms = data_transforms['train'],\n",
    "                          data_type = 'train', selec_radio = 'agree_three')\n"
   ]
  },
  {
   "cell_type": "code",
   "execution_count": 18,
   "id": "11122e2b",
   "metadata": {},
   "outputs": [],
   "source": [
    "train_dataset_r_1 = Vin_big_dataset(image_loc = data_dir['train'],\n",
    "                          label_loc = labels_csv['train'],\n",
    "                          transforms = data_transforms['train'],\n",
    "                          data_type = 'train', selec_radio = 'radio_per_epoch', radio_id = 0)\n",
    "\n",
    "train_dataset_r_2 = Vin_big_dataset(image_loc = data_dir['train'],\n",
    "                          label_loc = labels_csv['train'],\n",
    "                          transforms = data_transforms['train'],\n",
    "                          data_type = 'train', selec_radio = 'radio_per_epoch', radio_id = 1)\n",
    "\n",
    "train_dataset_r_3 = Vin_big_dataset(image_loc = data_dir['train'],\n",
    "                          label_loc = labels_csv['train'],\n",
    "                          transforms = data_transforms['train'],\n",
    "                          data_type = 'train', selec_radio = 'radio_per_epoch', radio_id = 2)"
   ]
  },
  {
   "cell_type": "code",
   "execution_count": 15,
   "id": "73ecf689",
   "metadata": {},
   "outputs": [
    {
     "data": {
      "application/vnd.jupyter.widget-view+json": {
       "model_id": "5067bf5c6076402d8bb9c90881091854",
       "version_major": 2,
       "version_minor": 0
      },
      "text/plain": [
       "  0%|          | 0/45000 [00:00<?, ?it/s]"
      ]
     },
     "metadata": {},
     "output_type": "display_data"
    }
   ],
   "source": [
    "train_dataset_all = Vin_big_dataset(image_loc = data_dir['train'],\n",
    "                          label_loc = labels_csv['train'],\n",
    "                          transforms = data_transforms['train'],\n",
    "                          data_type = 'train', selec_radio = 'all')"
   ]
  },
  {
   "cell_type": "code",
   "execution_count": 27,
   "id": "b0b967b6",
   "metadata": {},
   "outputs": [],
   "source": [
    "### test Data\n",
    "test_data = Vin_big_dataset(image_loc = data_dir['test'],\n",
    "                          label_loc = labels_csv['test'],\n",
    "                          transforms = data_transforms['test'],\n",
    "                          data_type = 'test', selec_radio = None)"
   ]
  },
  {
   "cell_type": "markdown",
   "id": "8028ab5f",
   "metadata": {},
   "source": [
    "### Randomly Selecting one"
   ]
  },
  {
   "cell_type": "code",
   "execution_count": 29,
   "id": "1b097c95",
   "metadata": {},
   "outputs": [],
   "source": [
    "trainloader = DataLoader(train_dataset_rand_one,batch_size = 8,shuffle = True)\n",
    "testloader = DataLoader(test_data,batch_size = 8,shuffle = False)"
   ]
  },
  {
   "cell_type": "code",
   "execution_count": 30,
   "id": "289f4a02",
   "metadata": {},
   "outputs": [
    {
     "data": {
      "text/plain": [
       "<All keys matched successfully>"
      ]
     },
     "execution_count": 30,
     "metadata": {},
     "output_type": "execute_result"
    }
   ],
   "source": [
    "model = timm.create_model('efficientnet_b6', pretrained=False)\n",
    "model.load_state_dict(torch.load(\"/storage/home/akansh12/Vin-ChestXR-Abnormality-detection/model/tf_efficientnet_b6_aa-80ba17e4.pth\"))"
   ]
  },
  {
   "cell_type": "code",
   "execution_count": 33,
   "id": "858185a9",
   "metadata": {},
   "outputs": [],
   "source": [
    "model.classifier = nn.Sequential(OrderedDict([\n",
    "    ('fcl1', nn.Linear(2304,6)),\n",
    "    ('out', nn.Sigmoid()),\n",
    "]))"
   ]
  },
  {
   "cell_type": "code",
   "execution_count": null,
   "id": "42c33883",
   "metadata": {},
   "outputs": [],
   "source": []
  },
  {
   "cell_type": "code",
   "execution_count": null,
   "id": "c2c228ad",
   "metadata": {},
   "outputs": [],
   "source": [
    "device = 'cuda' if torch.cuda.is_available() else 'cpu'\n",
    "if torch.cuda.is_available():\n",
    "    model = model.cuda()\n",
    "    model = nn.DataParallel(model)"
   ]
  },
  {
   "cell_type": "code",
   "execution_count": null,
   "id": "0d6f5233",
   "metadata": {},
   "outputs": [],
   "source": [
    "for param in model.parameters():\n",
    "    param.requires_grad = True\n",
    "    \n",
    "params = [p for p in model.parameters() if p.requires_grad]\n",
    "\n",
    "stage_epoch =  [30, 0, 0] #[12, 8, 5]\n",
    "stage_optimizer = [\n",
    "    torch.optim.Adam(params, lr=0.00005),\n",
    "    torch.optim.Adamax(params, lr=0.0002),\n",
    "    torch.optim.SGD(params, lr=0.00009, momentum=0.9)\n",
    "]\n",
    "\n",
    "stage_scheduler = [\n",
    "    torch.optim.lr_scheduler.CosineAnnealingLR(stage_optimizer[0], 4, 1e-6),\n",
    "    torch.optim.lr_scheduler.CyclicLR(stage_optimizer[1], base_lr=1e-5, max_lr=2e-4),\n",
    "    torch.optim.lr_scheduler.CosineAnnealingLR(stage_optimizer[2], 4, 1e-6),\n",
    "]\n"
   ]
  },
  {
   "cell_type": "code",
   "execution_count": null,
   "id": "751b9a9e",
   "metadata": {},
   "outputs": [],
   "source": [
    "criterion = nn.BCELoss()"
   ]
  },
  {
   "cell_type": "code",
   "execution_count": null,
   "id": "83344e61",
   "metadata": {},
   "outputs": [],
   "source": [
    "weights_dir = \"/scratch/scratch6/akansh12/DeepEXrays/model\"\n",
    "\n",
    "def train(stage_epoch, stage_optimizer, stage_scheduler, trainloader, testloader, model, name = None):\n",
    "    train_loss_history = []\n",
    "    val_loss_history = []\n",
    "    train_AUC_history = []\n",
    "    val_AUC_history = []\n",
    "    lr_history = []\n",
    "\n",
    "    for k, (num_epochs, optimizer, lr_scheduler) in enumerate(zip(stage_epoch, stage_optimizer, stage_scheduler)):\n",
    "        for epoch in range(num_epochs):\n",
    "\n",
    "\n",
    "            train_loss, train_auc, lr = train_one_epoch(model, optimizer, lr_scheduler,trainloader, epoch, criterion)\n",
    "\n",
    "            val_loss, val_auc = val_epoch(model, testloader, epoch, criterion)\n",
    "\n",
    "\n",
    "            # train history\n",
    "            train_loss_history.append(train_loss)\n",
    "            train_AUC_history.append(train_auc)\n",
    "            lr_history.append(lr)\n",
    "\n",
    "            #val history\n",
    "            val_loss_history.append(val_loss)\n",
    "            val_AUC_history.append(val_auc)\n",
    "\n",
    "            # save best weights\n",
    "            best_auc = max(np.mean(val_AUC_history, axis =1 ))\n",
    "            if np.mean(val_auc) >= best_auc:\n",
    "                torch.save({'state_dict': model.state_dict()},\n",
    "                            os.path.join(weights_dir, f\"{np.mean(val_auc):0.6f}_.pth\"))\n",
    "\n",
    "        print(\"\\nNext stage\\n\")\n",
    "        # Load the best weights\n",
    "        best_weights =  sorted(glob.glob(weights_dir + \"/*\"),\n",
    "                           key= lambda x: x[8:-5])[-1]\n",
    "        checkpoint = torch.load(best_weights)\n",
    "        model.load_state_dict(checkpoint['state_dict'])\n",
    "\n",
    "        print(f'Loaded model: {best_weights.split(\"/\")[1]}')\n",
    "        \n",
    "    \n"
   ]
  },
  {
   "cell_type": "code",
   "execution_count": 35,
   "id": "69f24844",
   "metadata": {},
   "outputs": [],
   "source": [
    "os.makedirs(\"/scratch/scratch6/akansh12/DeepEXrays/model_rand_one\")"
   ]
  },
  {
   "cell_type": "code",
   "execution_count": 13,
   "id": "1ea902a8",
   "metadata": {},
   "outputs": [],
   "source": [
    "model = timm.create_model('efficientnet_b6', pretrained=False)\n",
    "model.load_state_dict(torch.load(\"/storage/home/akansh12/Vin-ChestXR-Abnormality-detection/model/tf_efficientnet_b6_aa-80ba17e4.pth\"))\n",
    "\n",
    "model.classifier = nn.Sequential(OrderedDict([\n",
    "    ('fcl1', nn.Linear(2304,6)),\n",
    "    ('out', nn.Sigmoid()),\n",
    "]))"
   ]
  },
  {
   "cell_type": "code",
   "execution_count": null,
   "id": "eaee0719",
   "metadata": {},
   "outputs": [],
   "source": [
    "model(x)"
   ]
  },
  {
   "cell_type": "code",
   "execution_count": null,
   "id": "0aa01d03",
   "metadata": {},
   "outputs": [],
   "source": []
  }
 ],
 "metadata": {
  "kernelspec": {
   "display_name": "env",
   "language": "python",
   "name": "env"
  },
  "language_info": {
   "codemirror_mode": {
    "name": "ipython",
    "version": 3
   },
   "file_extension": ".py",
   "mimetype": "text/x-python",
   "name": "python",
   "nbconvert_exporter": "python",
   "pygments_lexer": "ipython3",
   "version": "3.7.6"
  }
 },
 "nbformat": 4,
 "nbformat_minor": 5
}
