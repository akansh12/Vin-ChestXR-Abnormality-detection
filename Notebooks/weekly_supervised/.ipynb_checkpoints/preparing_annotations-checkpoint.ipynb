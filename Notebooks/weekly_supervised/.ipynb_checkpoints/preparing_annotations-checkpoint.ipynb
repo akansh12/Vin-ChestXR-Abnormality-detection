{
 "cells": [
  {
   "cell_type": "code",
   "execution_count": 1,
   "id": "b1e50d11",
   "metadata": {},
   "outputs": [],
   "source": [
    "import numpy as np\n",
    "import pandas as pd\n",
    "import os"
   ]
  },
  {
   "cell_type": "code",
   "execution_count": null,
   "id": "609e60e8",
   "metadata": {},
   "outputs": [],
   "source": [
    "labels_csv = {'train': \"/scratch/scratch6/akansh12/DeepEXrays/physionet.org/files/vindr-cxr/1.0.0/annotations/image_labels_train.csv\",\n",
    "             'test': \"/scratch/scratch6/akansh12/DeepEXrays/physionet.org/files/vindr-cxr/1.0.0/annotations/image_labels_test.csv\"\n",
    "             }\n",
    "labels_csv_bb = {'train': \"/scratch/scratch6/akansh12/DeepEXrays/physionet.org/files/vindr-cxr/1.0.0/annotations/annotations_train.csv\",\n",
    "             'test': \"/scratch/scratch6/akansh12/DeepEXrays/physionet.org/files/vindr-cxr/1.0.0/annotations/annotations_test.csv\"\n",
    "             }\n",
    "data_dir = {'train': \"/scratch/scratch6/akansh12/DeepEXrays/data/data_256/train/\",\n",
    "           'test': \"/scratch/scratch6/akansh12/DeepEXrays/data/data_256/test/\"}"
   ]
  },
  {
   "cell_type": "markdown",
   "id": "7285adee",
   "metadata": {},
   "source": [
    "- Original_papre: https://www.medrxiv.org/content/10.1101/2021.09.28.21264286v1.full.pdf\n",
    "\n",
    "Local Labels: \n",
    "1. Aortic Enlargement \n",
    "2. Atelectasis \n",
    "3. Cardiomegaly \n",
    "4. Calcification \n",
    "5. Clavicle Fracture \n",
    "6. Consolidation \n",
    "7. Edema  \n",
    "8. Emphysema \n",
    "9. Enlarged PA \n",
    "10. Interstitial Lung Disease (ILD) \n",
    "11. Infiltration \n",
    "12. Lung Cavity \n",
    "13. Lung Cyst \n",
    "14. Lung Opacity \n",
    "15. Mediastinal Shift \n",
    "16. Nodule/Mass \n",
    "17. Pulmonary Fibrosis \n",
    "18. Pneumothorax \n",
    "19. Pleural Thickening \n",
    "20. Pleural Effusion \n",
    "21. Rib Fracture \n",
    "22. Other Lesions\n",
    "\n",
    "Global Labels\n",
    "\n",
    "1. Lung Tumor\n",
    "2. Pneumonia\n",
    "3. Tuberculosis\n",
    "4. Other Diseases\n",
    "5. COPD\n",
    "6. No Finding\n"
   ]
  },
  {
   "cell_type": "code",
   "execution_count": 5,
   "id": "dbef7134",
   "metadata": {},
   "outputs": [],
   "source": [
    "global_labels = ['Lung Tumor', 'COPD', 'Pneumonia', 'Tuberculosis', 'Other diseases', 'No finding']\n",
    "local_labels = ['Aortic enlargement', 'Atelectasis',\n",
    "       'Calcification', 'Cardiomegaly', 'Clavicle fracture', 'Consolidation', 'Edema'\n",
    "       'Emphysema', 'Enlarged PA', 'ILD', 'Infiltration',\n",
    "       'Lung Opacity', 'Lung cavity', 'Lung cyst', 'Mediastinal shift',\n",
    "       'Nodule/Mass', 'Pleural effusion', 'Pneumothorax',\n",
    "       'Pulmonary fibrosis', 'Rib fracture', 'Other lesion','Pleural thickening', 'No finding']"
   ]
  },
  {
   "cell_type": "code",
   "execution_count": null,
   "id": "c00b9cc4",
   "metadata": {},
   "outputs": [],
   "source": []
  },
  {
   "cell_type": "code",
   "execution_count": null,
   "id": "ffb11e45",
   "metadata": {},
   "outputs": [],
   "source": []
  },
  {
   "cell_type": "code",
   "execution_count": null,
   "id": "1fb25126",
   "metadata": {},
   "outputs": [],
   "source": []
  }
 ],
 "metadata": {
  "kernelspec": {
   "display_name": "env",
   "language": "python",
   "name": "env"
  },
  "language_info": {
   "codemirror_mode": {
    "name": "ipython",
    "version": 3
   },
   "file_extension": ".py",
   "mimetype": "text/x-python",
   "name": "python",
   "nbconvert_exporter": "python",
   "pygments_lexer": "ipython3",
   "version": "3.7.6"
  }
 },
 "nbformat": 4,
 "nbformat_minor": 5
}
