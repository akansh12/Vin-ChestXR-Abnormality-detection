{
 "cells": [
  {
   "cell_type": "code",
   "execution_count": 1,
   "id": "b1e50d11",
   "metadata": {},
   "outputs": [],
   "source": [
    "import numpy as np\n",
    "import pandas as pd\n",
    "import os"
   ]
  },
  {
   "cell_type": "code",
   "execution_count": 2,
   "id": "ad27d67a",
   "metadata": {},
   "outputs": [],
   "source": [
    "from tqdm.notebook import tqdm"
   ]
  },
  {
   "cell_type": "code",
   "execution_count": 3,
   "id": "ebe7896c",
   "metadata": {},
   "outputs": [],
   "source": [
    "labels_csv = {'train': \"/scratch/scratch6/akansh12/DeepEXrays/physionet.org/files/vindr-cxr/1.0.0/annotations/image_labels_train.csv\",\n",
    "             'test': \"/scratch/scratch6/akansh12/DeepEXrays/physionet.org/files/vindr-cxr/1.0.0/annotations/image_labels_test.csv\"\n",
    "             }\n",
    "labels_csv_bb = {'train': \"/scratch/scratch6/akansh12/DeepEXrays/physionet.org/files/vindr-cxr/1.0.0/annotations/annotations_train.csv\",\n",
    "             'test': \"/scratch/scratch6/akansh12/DeepEXrays/physionet.org/files/vindr-cxr/1.0.0/annotations/annotations_test.csv\"\n",
    "             }\n",
    "data_dir = {'train': \"/scratch/scratch6/akansh12/DeepEXrays/data/data_256/train/\",\n",
    "           'test': \"/scratch/scratch6/akansh12/DeepEXrays/data/data_256/test/\"}"
   ]
  },
  {
   "cell_type": "markdown",
   "id": "6f391d4f",
   "metadata": {},
   "source": [
    "- Original_papre: https://www.medrxiv.org/content/10.1101/2021.09.28.21264286v1.full.pdf\n",
    "\n",
    "Local Labels: \n",
    "1. Aortic Enlargement \n",
    "2. Atelectasis \n",
    "3. Cardiomegaly \n",
    "4. Calcification \n",
    "5. Clavicle Fracture \n",
    "6. Consolidation \n",
    "7. Edema  \n",
    "8. Emphysema \n",
    "9. Enlarged PA \n",
    "10. Interstitial Lung Disease (ILD) \n",
    "11. Infiltration \n",
    "12. Lung Cavity \n",
    "13. Lung Cyst \n",
    "14. Lung Opacity \n",
    "15. Mediastinal Shift \n",
    "16. Nodule/Mass \n",
    "17. Pulmonary Fibrosis \n",
    "18. Pneumothorax \n",
    "19. Pleural Thickening \n",
    "20. Pleural Effusion \n",
    "21. Rib Fracture \n",
    "22. Other Lesions\n",
    "\n",
    "Global Labels\n",
    "\n",
    "1. Lung Tumor\n",
    "2. Pneumonia\n",
    "3. Tuberculosis\n",
    "4. Other Diseases\n",
    "5. COPD\n",
    "6. No Finding\n"
   ]
  },
  {
   "cell_type": "code",
   "execution_count": 4,
   "id": "d3ebb12a",
   "metadata": {},
   "outputs": [],
   "source": [
    "labels_csv = {'train': \"/scratch/scratch6/akansh12/DeepEXrays/physionet.org/files/vindr-cxr/1.0.0/annotations/image_labels_train.csv\",\n",
    "             'test': \"/scratch/scratch6/akansh12/DeepEXrays/physionet.org/files/vindr-cxr/1.0.0/annotations/image_labels_test.csv\"\n",
    "             }\n",
    "labels_csv_bb = {'train': \"/scratch/scratch6/akansh12/DeepEXrays/physionet.org/files/vindr-cxr/1.0.0/annotations/annotations_train.csv\",\n",
    "             'test': \"/scratch/scratch6/akansh12/DeepEXrays/physionet.org/files/vindr-cxr/1.0.0/annotations/annotations_test.csv\"\n",
    "             }\n",
    "\n",
    "data_dir = {'train': \"/scratch/scratch6/akansh12/DeepEXrays/data/data_256/train/\",\n",
    "           'test': \"/scratch/scratch6/akansh12/DeepEXrays/data/data_256/test/\"}\n",
    "\n",
    "\n",
    "global_labels = ['COPD', 'Lung tumor', 'Pneumonia', 'Tuberculosis', 'Other diseases', 'No finding']\n",
    "\n",
    "local_labels = ['Aortic enlargement', 'Atelectasis',\n",
    "       'Calcification', 'Cardiomegaly', 'Clavicle fracture', 'Consolidation',\n",
    "       'Edema', 'Emphysema', 'Enlarged PA', 'ILD', 'Infiltration',\n",
    "       'Lung Opacity', 'Lung cavity', 'Lung cyst', 'Mediastinal shift',\n",
    "       'Nodule/Mass', 'Pleural effusion', 'Pleural thickening', 'Pneumothorax',\n",
    "       'Pulmonary fibrosis', 'Rib fracture', 'Other lesion', 'No finding']"
   ]
  },
  {
   "cell_type": "code",
   "execution_count": 5,
   "id": "4e584f48",
   "metadata": {},
   "outputs": [],
   "source": [
    "train_label = pd.read_csv(labels_csv['train'])\n",
    "test_label = pd.read_csv(labels_csv['test'])\n",
    "train_label_bb = pd.read_csv(labels_csv_bb['train'])\n",
    "test_label_bb = pd.read_csv(labels_csv_bb['test'])"
   ]
  },
  {
   "cell_type": "code",
   "execution_count": 6,
   "id": "c7397226",
   "metadata": {},
   "outputs": [
    {
     "data": {
      "application/vnd.jupyter.widget-view+json": {
       "model_id": "9e3b455a07ac4588b6d15d676a073c96",
       "version_major": 2,
       "version_minor": 0
      },
      "text/plain": [
       "  0%|          | 0/45000 [00:00<?, ?it/s]"
      ]
     },
     "metadata": {},
     "output_type": "display_data"
    }
   ],
   "source": [
    "train_label.set_index('image_id', inplace=True)\n",
    "train_label.drop('rad_id', inplace = True, axis = 1)\n",
    "new_train_labels = pd.DataFrame(columns= train_label.columns)\n",
    "new_train_labels['image_id'] = np.unique(train_label.index)\n",
    "new_train_labels.set_index('image_id', inplace=True)\n",
    "\n",
    "for i in tqdm(train_label.index):\n",
    "    new_train_labels.loc[i] = np.array(np.sum(train_label.loc[i]).values >= 1).astype('int')"
   ]
  },
  {
   "cell_type": "code",
   "execution_count": 7,
   "id": "bf698bd7",
   "metadata": {},
   "outputs": [],
   "source": [
    "new_train_labels.to_csv('new_image_labels_train.csv')"
   ]
  },
  {
   "cell_type": "code",
   "execution_count": null,
   "id": "cbc059a5",
   "metadata": {},
   "outputs": [],
   "source": []
  }
 ],
 "metadata": {
  "kernelspec": {
   "display_name": "env",
   "language": "python",
   "name": "env"
  },
  "language_info": {
   "codemirror_mode": {
    "name": "ipython",
    "version": 3
   },
   "file_extension": ".py",
   "mimetype": "text/x-python",
   "name": "python",
   "nbconvert_exporter": "python",
   "pygments_lexer": "ipython3",
   "version": "3.7.6"
  }
 },
 "nbformat": 4,
 "nbformat_minor": 5
}
