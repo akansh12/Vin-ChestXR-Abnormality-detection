{
 "cells": [
  {
   "cell_type": "code",
   "execution_count": 1,
   "id": "612162d8",
   "metadata": {},
   "outputs": [],
   "source": [
    "import warnings\n",
    "warnings.filterwarnings('ignore')\n",
    "import torch\n",
    "from torchvision import transforms, models, datasets\n",
    "import numpy as np\n",
    "import torch.optim as optim\n",
    "import torch.nn as nn\n",
    "import pandas as pd\n",
    "import os\n",
    "from tqdm.auto import tqdm\n",
    "from torch.utils.data import DataLoader, Dataset\n",
    "from torch.nn import functional as F\n",
    "from collections import OrderedDict\n",
    "import timm\n",
    "import matplotlib.pyplot as plt\n",
    "from PIL import Image\n",
    "from collections import OrderedDict\n",
    "from torch import nn"
   ]
  },
  {
   "cell_type": "code",
   "execution_count": 2,
   "id": "b65f83e8",
   "metadata": {},
   "outputs": [],
   "source": [
    "data_dir = {'train': \"/scratch/scratch6/akansh12/DeepEXrays/data/data_256/train/\",\n",
    "           'test': \"/scratch/scratch6/akansh12/DeepEXrays/data/data_256/test/\"}\n",
    "labels = ['Aortic enlargement', 'Atelectasis','Calcification', 'Cardiomegaly', 'Consolidation','ILD', 'Infiltration','Lung Opacity','Nodule/Mass','Other lesion', 'Pleural effusion', 'Pleural thickening', 'Pneumothorax',\n",
    "       'Pulmonary fibrosis', 'No finding']"
   ]
  },
  {
   "cell_type": "code",
   "execution_count": 3,
   "id": "0fc366e5",
   "metadata": {},
   "outputs": [],
   "source": [
    "class fourteen_class(Dataset):\n",
    "    def __init__(self, label_loc, img_location, transform,  data_type= 'train'):\n",
    "        label_dataframe = pd.read_csv(label_loc)\n",
    "        label_dataframe.set_index(\"image_id\", inplace = True)\n",
    "        filenames = label_dataframe.index.values\n",
    "        self.full_filename = [os.path.join(img_location,i+'.png') for i in filenames]\n",
    "        self.labels = label_dataframe.iloc[:].values\n",
    "        self.transform = transform\n",
    "    def __len__(self):\n",
    "        return len(self.full_filename)\n",
    "    \n",
    "    def __getitem__(self, idx):\n",
    "        \n",
    "        image = Image.open(self.full_filename[idx])\n",
    "        image = self.transform(image)\n",
    "        return image, self.labels[idx]        \n",
    "\n",
    "data_transforms = { \n",
    "    \"train\": transforms.Compose([\n",
    "        transforms.RandomHorizontalFlip(p = 0.5), \n",
    "        transforms.RandomPerspective(distortion_scale=0.3),\n",
    "        transforms.RandomRotation((-30,30)),\n",
    "        transforms.ToTensor(),\n",
    "        transforms.Normalize(mean =  [0.485, 0.456, 0.406], std = [0.229, 0.224, 0.225])\n",
    "    ]),\n",
    "    \n",
    "    \"test\": transforms.Compose([\n",
    "        transforms.ToTensor(),\n",
    "        transforms.Normalize(mean =  [0.485, 0.456, 0.406], std = [0.229, 0.224, 0.225])        \n",
    "    ])\n",
    "    \n",
    "}"
   ]
  },
  {
   "cell_type": "code",
   "execution_count": 5,
   "id": "f0e88f87",
   "metadata": {},
   "outputs": [],
   "source": [
    "train_data = fourteen_class(\"/storage/home/akansh12/Vin-ChestXR-Abnormality-detection/Notebooks/14_class/labels/exp_3.csv\",\n",
    "                                       img_location = \"/scratch/scratch6/akansh12/DeepEXrays/data/data_256/train/\", transform =data_transforms['train'])\n",
    "test_data = fourteen_class(\"/storage/home/akansh12/Vin-ChestXR-Abnormality-detection/Notebooks/14_class/labels/test.csv\",\n",
    "                                       img_location = \"/scratch/scratch6/akansh12/DeepEXrays/data/data_256/test/\", transform =data_transforms['test'])\n"
   ]
  },
  {
   "cell_type": "code",
   "execution_count": 6,
   "id": "a9de3210",
   "metadata": {},
   "outputs": [],
   "source": [
    "trainloader = DataLoader(train_data,batch_size = 4,shuffle = True)\n",
    "testloader = DataLoader(test_data,batch_size = 4,shuffle = False)"
   ]
  },
  {
   "cell_type": "code",
   "execution_count": 7,
   "id": "cfd8a1ef",
   "metadata": {},
   "outputs": [],
   "source": [
    "def exp_model(path):\n",
    "    model = timm.models.efficientnet_b0(pretrained=False)\n",
    "    model.classifier = nn.Sequential(OrderedDict([\n",
    "        ('fcl1', nn.Linear(1280,15)),\n",
    "        ('out', nn.Sigmoid()),\n",
    "    ]))    \n",
    "    state_dict = torch.load(path, map_location = 'cpu')['state_dict']\n",
    "    for keyA, keyB in zip(state_dict, model.state_dict()):\n",
    "        state_dict = OrderedDict((keyB if k == keyA else k, v) for k, v in state_dict.items())\n",
    "\n",
    "    model.load_state_dict(state_dict)\n",
    "    \n",
    "    return model\n",
    "\n",
    "device = 'cuda' if torch.cuda.is_available() else 'cpu'"
   ]
  },
  {
   "cell_type": "code",
   "execution_count": 8,
   "id": "74b20154",
   "metadata": {},
   "outputs": [],
   "source": [
    "exp_5_model = exp_model(\"/scratch/scratch6/akansh12/DeepEXrays/radiologist_selection/exp_5/exp_5_eff_b00.183247_20_.pth\")"
   ]
  },
  {
   "cell_type": "code",
   "execution_count": null,
   "id": "9e08b96d",
   "metadata": {},
   "outputs": [],
   "source": []
  },
  {
   "cell_type": "code",
   "execution_count": null,
   "id": "695a29ab",
   "metadata": {},
   "outputs": [],
   "source": []
  },
  {
   "cell_type": "code",
   "execution_count": null,
   "id": "e0db9418",
   "metadata": {},
   "outputs": [],
   "source": []
  },
  {
   "cell_type": "code",
   "execution_count": null,
   "id": "4238a766",
   "metadata": {},
   "outputs": [],
   "source": []
  }
 ],
 "metadata": {
  "kernelspec": {
   "display_name": "env",
   "language": "python",
   "name": "env"
  },
  "language_info": {
   "codemirror_mode": {
    "name": "ipython",
    "version": 3
   },
   "file_extension": ".py",
   "mimetype": "text/x-python",
   "name": "python",
   "nbconvert_exporter": "python",
   "pygments_lexer": "ipython3",
   "version": "3.7.6"
  }
 },
 "nbformat": 4,
 "nbformat_minor": 5
}
