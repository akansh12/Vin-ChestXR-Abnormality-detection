{
 "cells": [
  {
   "cell_type": "code",
   "execution_count": null,
   "id": "dd922911",
   "metadata": {},
   "outputs": [
    {
     "name": "stdout",
     "output_type": "stream",
     "text": [
      "Start Train ...\n"
     ]
    },
    {
     "data": {
      "application/vnd.jupyter.widget-view+json": {
       "model_id": "587fb0a97e7c424bae4a8f2ed5561d92",
       "version_major": 2,
       "version_minor": 0
      },
      "text/plain": [
       "  0%|          | 0/3750 [00:00<?, ?it/s]"
      ]
     },
     "metadata": {},
     "output_type": "display_data"
    },
    {
     "name": "stdout",
     "output_type": "stream",
     "text": [
      "Epoch [0] Mean loss on train: 0.5575977627118428 Learning Rate: 8.000014977880005e-07\n",
      "Start Validation ...\n"
     ]
    },
    {
     "data": {
      "application/vnd.jupyter.widget-view+json": {
       "model_id": "cce4f40427224fdaa4a58c98057001a7",
       "version_major": 2,
       "version_minor": 0
      },
      "text/plain": [
       "  0%|          | 0/375 [00:00<?, ?it/s]"
      ]
     },
     "metadata": {},
     "output_type": "display_data"
    },
    {
     "name": "stdout",
     "output_type": "stream",
     "text": [
      "Epoch:  0 AUC valid Score: 0.6008370237913516 Mean Loss 0.48373296999931337\n",
      "saving model\n",
      "Start Train ...\n"
     ]
    },
    {
     "data": {
      "application/vnd.jupyter.widget-view+json": {
       "model_id": "7a68cff2f84f4896955d45428f9c547a",
       "version_major": 2,
       "version_minor": 0
      },
      "text/plain": [
       "  0%|          | 0/3750 [00:00<?, ?it/s]"
      ]
     },
     "metadata": {},
     "output_type": "display_data"
    },
    {
     "name": "stdout",
     "output_type": "stream",
     "text": [
      "Epoch [1] Mean loss on train: 0.3045116166551908 Learning Rate: 8.000059911515403e-07\n",
      "Start Validation ...\n"
     ]
    },
    {
     "data": {
      "application/vnd.jupyter.widget-view+json": {
       "model_id": "6d77923fef104ec99885ac67a14079fe",
       "version_major": 2,
       "version_minor": 0
      },
      "text/plain": [
       "  0%|          | 0/375 [00:00<?, ?it/s]"
      ]
     },
     "metadata": {},
     "output_type": "display_data"
    },
    {
     "name": "stdout",
     "output_type": "stream",
     "text": [
      "Epoch:  1 AUC valid Score: 0.7231199950950732 Mean Loss 0.2989071535269419\n",
      "saving model\n",
      "Start Train ...\n"
     ]
    },
    {
     "data": {
      "application/vnd.jupyter.widget-view+json": {
       "model_id": "9cd81d615ae7476585b3ee3432fa8e38",
       "version_major": 2,
       "version_minor": 0
      },
      "text/plain": [
       "  0%|          | 0/3750 [00:00<?, ?it/s]"
      ]
     },
     "metadata": {},
     "output_type": "display_data"
    },
    {
     "name": "stdout",
     "output_type": "stream",
     "text": [
      "Epoch [2] Mean loss on train: 0.2071421289006869 Learning Rate: 8.00013480089216e-07\n",
      "Start Validation ...\n"
     ]
    },
    {
     "data": {
      "application/vnd.jupyter.widget-view+json": {
       "model_id": "7a77c82f4fdf4afdaa6381eec96e08f3",
       "version_major": 2,
       "version_minor": 0
      },
      "text/plain": [
       "  0%|          | 0/375 [00:00<?, ?it/s]"
      ]
     },
     "metadata": {},
     "output_type": "display_data"
    },
    {
     "name": "stdout",
     "output_type": "stream",
     "text": [
      "Epoch:  2 AUC valid Score: 0.7686729299633591 Mean Loss 0.2323017342487971\n",
      "saving model\n",
      "Start Train ...\n"
     ]
    },
    {
     "data": {
      "application/vnd.jupyter.widget-view+json": {
       "model_id": "6b8b226551d54fc8b58cdf16c168cb34",
       "version_major": 2,
       "version_minor": 0
      },
      "text/plain": [
       "  0%|          | 0/3750 [00:00<?, ?it/s]"
      ]
     },
     "metadata": {},
     "output_type": "display_data"
    },
    {
     "name": "stdout",
     "output_type": "stream",
     "text": [
      "Epoch [3] Mean loss on train: 0.1768051279683908 Learning Rate: 8.000239645986897e-07\n",
      "Start Validation ...\n"
     ]
    },
    {
     "data": {
      "application/vnd.jupyter.widget-view+json": {
       "model_id": "4e9a8bbc6d41490cbd7f042ae23cfba5",
       "version_major": 2,
       "version_minor": 0
      },
      "text/plain": [
       "  0%|          | 0/375 [00:00<?, ?it/s]"
      ]
     },
     "metadata": {},
     "output_type": "display_data"
    },
    {
     "name": "stdout",
     "output_type": "stream",
     "text": [
      "Epoch:  3 AUC valid Score: 0.7903441401759109 Mean Loss 0.20754125246405603\n",
      "saving model\n",
      "Start Train ...\n"
     ]
    },
    {
     "data": {
      "application/vnd.jupyter.widget-view+json": {
       "model_id": "90166d829bfa484681d122ba5ea8d68a",
       "version_major": 2,
       "version_minor": 0
      },
      "text/plain": [
       "  0%|          | 0/3750 [00:00<?, ?it/s]"
      ]
     },
     "metadata": {},
     "output_type": "display_data"
    },
    {
     "name": "stdout",
     "output_type": "stream",
     "text": [
      "Epoch [4] Mean loss on train: 0.16397305652300517 Learning Rate: 8.000374446766885e-07\n",
      "Start Validation ...\n"
     ]
    },
    {
     "data": {
      "application/vnd.jupyter.widget-view+json": {
       "model_id": "0004359fd7694f61a19b8a18a1e0725d",
       "version_major": 2,
       "version_minor": 0
      },
      "text/plain": [
       "  0%|          | 0/375 [00:00<?, ?it/s]"
      ]
     },
     "metadata": {},
     "output_type": "display_data"
    },
    {
     "name": "stdout",
     "output_type": "stream",
     "text": [
      "Epoch:  4 AUC valid Score: 0.798050600139115 Mean Loss 0.20141815948486327\n",
      "saving model\n",
      "Start Train ...\n"
     ]
    },
    {
     "data": {
      "application/vnd.jupyter.widget-view+json": {
       "model_id": "c5789521dbfb4e2cbb1f5fdb886b68be",
       "version_major": 2,
       "version_minor": 0
      },
      "text/plain": [
       "  0%|          | 0/3750 [00:00<?, ?it/s]"
      ]
     },
     "metadata": {},
     "output_type": "display_data"
    },
    {
     "name": "stdout",
     "output_type": "stream",
     "text": [
      "Epoch [5] Mean loss on train: 0.15586371997793516 Learning Rate: 8.000539203190077e-07\n",
      "Start Validation ...\n"
     ]
    },
    {
     "data": {
      "application/vnd.jupyter.widget-view+json": {
       "model_id": "5926bf005704436a9dac2c54532b7530",
       "version_major": 2,
       "version_minor": 0
      },
      "text/plain": [
       "  0%|          | 0/375 [00:00<?, ?it/s]"
      ]
     },
     "metadata": {},
     "output_type": "display_data"
    },
    {
     "name": "stdout",
     "output_type": "stream",
     "text": [
      "Epoch:  5 AUC valid Score: 0.8132627705366235 Mean Loss 0.19415836394329866\n",
      "saving model\n",
      "Start Train ...\n"
     ]
    },
    {
     "data": {
      "application/vnd.jupyter.widget-view+json": {
       "model_id": "abefd91f986945e2b299c09d41e5315b",
       "version_major": 2,
       "version_minor": 0
      },
      "text/plain": [
       "  0%|          | 0/3750 [00:00<?, ?it/s]"
      ]
     },
     "metadata": {},
     "output_type": "display_data"
    }
   ],
   "source": [
    "import numpy as np\n",
    "import torch\n",
    "from PIL import Image\n",
    "import pandas as pd\n",
    "import os\n",
    "import matplotlib.pyplot as plt\n",
    "torch.manual_seed(0)\n",
    "from glob import glob\n",
    "import numpy as np\n",
    "import pandas as pd\n",
    "import os\n",
    "import torch\n",
    "from torch.utils.data import Dataset, DataLoader\n",
    "from torchvision import transforms\n",
    "from torchvision import transforms, models, datasets\n",
    "from PIL import Image\n",
    "from torch import nn\n",
    "from torch import optim\n",
    "from tqdm.auto import tqdm\n",
    "from sklearn.metrics import roc_auc_score, auc\n",
    "from sklearn.metrics import precision_score,recall_score, f1_score\n",
    "import timm\n",
    "\n",
    "class fourteen_class(Dataset):\n",
    "    def __init__(self, label_loc, img_location, transform,  data_type= 'train'):\n",
    "        label_dataframe = pd.read_csv(label_loc)\n",
    "        label_dataframe.set_index(\"image_id\", inplace = True)\n",
    "        filenames = label_dataframe.index.values\n",
    "        self.full_filename = [os.path.join(img_location,i+'.png') for i in filenames]\n",
    "        self.labels = label_dataframe.iloc[:].values\n",
    "        self.transform = transform\n",
    "    def __len__(self):\n",
    "        return len(self.full_filename)\n",
    "    \n",
    "    def __getitem__(self, idx):\n",
    "        \n",
    "        image = Image.open(self.full_filename[idx])\n",
    "        image = self.transform(image)\n",
    "        return image, self.labels[idx]\n",
    "#         return image, np.expand_dims(np.array(self.labels[idx]), axis = 0)\n",
    "        \n",
    "\n",
    "data_transforms = { \n",
    "    \"train\": transforms.Compose([\n",
    "        transforms.RandomHorizontalFlip(p = 0.5), \n",
    "        transforms.RandomPerspective(distortion_scale=0.3),\n",
    "        transforms.RandomRotation((-30,30)),\n",
    "        transforms.ToTensor(),\n",
    "        transforms.Normalize(mean =  [0.485, 0.456, 0.406], std = [0.229, 0.224, 0.225])\n",
    "    ]),\n",
    "    \n",
    "    \"test\": transforms.Compose([\n",
    "        transforms.ToTensor(),\n",
    "        transforms.Normalize(mean =  [0.485, 0.456, 0.406], std = [0.229, 0.224, 0.225])        \n",
    "    ])\n",
    "    \n",
    "}\n",
    "\n",
    "train_data = fourteen_class(\"/storage/home/akansh12/Vin-ChestXR-Abnormality-detection/Notebooks/14_class/labels/exp_5.csv\",\n",
    "                                       img_location = \"/scratch/scratch6/akansh12/DeepEXrays/data/data_256/train/\", transform =data_transforms['train'])\n",
    "test_data = fourteen_class(\"/storage/home/akansh12/Vin-ChestXR-Abnormality-detection/Notebooks/14_class/labels/test.csv\",\n",
    "                                       img_location = \"/scratch/scratch6/akansh12/DeepEXrays/data/data_256/test/\", transform =data_transforms['test'])\n",
    "\n",
    "\n",
    "trainloader = DataLoader(train_data,batch_size = 4,shuffle = True)\n",
    "testloader = DataLoader(test_data,batch_size = 8,shuffle = False)\n",
    "\n",
    "model = timm.models.efficientnet_b0(pretrained=False)\n",
    "\n",
    "model.load_state_dict(torch.load(\"/scratch/scratch6/akansh12/DeepEXrays/radiologist_selection/eff_bo.pt\"))\n",
    "\n",
    "from collections import OrderedDict\n",
    "from torch import nn\n",
    "model.classifier = nn.Sequential(OrderedDict([\n",
    "    ('fcl1', nn.Linear(1280,15)),\n",
    "    ('out', nn.Sigmoid()),\n",
    "]))\n",
    "\n",
    "device = 'cuda' if torch.cuda.is_available() else 'cpu'\n",
    "if torch.cuda.is_available():\n",
    "    model = model.cuda()\n",
    "    print(\"cuda\")\n",
    "    model = nn.DataParallel(model)\n",
    "\n",
    "def train_one_epoch(model, optimizer, lr_scheduler,\n",
    "                    dataloader, epoch, criterion, device):\n",
    "    \n",
    "    print(\"Start Train ...\")\n",
    "    model.train()\n",
    "\n",
    "    losses_train = []\n",
    "    model_train_result = []\n",
    "    train_target = []\n",
    "\n",
    "\n",
    "    for data, targets in tqdm(dataloader):\n",
    "        data = data.to(device)\n",
    "        targets = targets.to(device).type(torch.float)\n",
    "\n",
    "\n",
    "        outputs = model(data)\n",
    "        model_train_result.extend(outputs.detach().cpu().numpy().tolist())\n",
    "        train_target.extend(targets.cpu().numpy())\n",
    "\n",
    "\n",
    "        loss = criterion(outputs, targets)\n",
    "\n",
    "        losses_train.append(loss.item())\n",
    "\n",
    "        optimizer.zero_grad()\n",
    "        loss.backward()\n",
    "        optimizer.step()\n",
    "\n",
    "\n",
    "        \n",
    "    if lr_scheduler is not None:\n",
    "        lr_scheduler.step()\n",
    "\n",
    "    lr = lr_scheduler.get_last_lr()[0]\n",
    "    print(\"Epoch [%d]\" % (epoch),\n",
    "          \"Mean loss on train:\", np.array(losses_train).mean(), \n",
    "          \"Learning Rate:\", lr)\n",
    "\n",
    "    \n",
    "    return np.array(losses_train).mean(), lr\n",
    "\n",
    "\n",
    "def val_epoch(model, dataloader, epoch, criterion, device):\n",
    "    \n",
    "    print(\"Start Validation ...\")\n",
    "    model.eval()\n",
    "    \n",
    "    model_val_result = []\n",
    "    val_target = []\n",
    "    losses_val = []\n",
    "\n",
    "    with torch.no_grad():\n",
    "        for data, targets in tqdm(dataloader):\n",
    "\n",
    "            data = data.to(device)\n",
    "            targets = targets.to(device).type(torch.float)\n",
    "\n",
    "            outputs = model(data)\n",
    "            \n",
    "            #loss\n",
    "            loss = criterion(outputs, targets)\n",
    "            losses_val.append(loss.item())\n",
    "\n",
    "            \n",
    "            model_val_result.extend(outputs.detach().cpu().numpy().tolist())\n",
    "            val_target.extend(targets.cpu().numpy())\n",
    "\n",
    "        auc_score_valid = roc_auc_score(val_target, model_val_result)    \n",
    "    \n",
    "        print(\"Epoch:  \" + str(epoch) + \" AUC valid Score:\", np.array(auc_score_valid), \n",
    "              \"Mean Loss\", np.array(losses_val).mean())\n",
    "        \n",
    "    return np.array(losses_val).mean(), np.array(auc_score_valid)\n",
    "\n",
    "\n",
    "\n",
    "for param in model.parameters():\n",
    "    param.requires_grad = True\n",
    "\n",
    "num_epochs = 25\n",
    "optimizer = optimizer = torch.optim.Adam(model.parameters(), lr=2e-4)\n",
    "lr_scheduler = torch.optim.lr_scheduler.OneCycleLR(optimizer, max_lr = 0.00002, steps_per_epoch=len(trainloader), epochs=5)\n",
    "criterion = nn.BCELoss()\n",
    "\n",
    "train_loss_history = []\n",
    "val_loss_history = []\n",
    "val_auc_history = []\n",
    "lr_history = []\n",
    "weights_dir = \"/scratch/scratch6/akansh12/DeepEXrays/radiologist_selection/exp_5/\"\n",
    "\n",
    "\n",
    "for epoch in range(num_epochs):\n",
    "    \n",
    "    \n",
    "    train_loss, lr = train_one_epoch(model, optimizer, lr_scheduler,trainloader, epoch, criterion, device = device)\n",
    "    val_loss, val_auc = val_epoch(model, testloader, epoch, criterion, device = device)\n",
    "    \n",
    "    \n",
    "#     train history\n",
    "    train_loss_history.append(train_loss)\n",
    "    lr_history.append(lr)\n",
    "    \n",
    "    #val history\n",
    "    val_loss_history.append(val_loss)\n",
    "    val_auc_history.append(val_auc)\n",
    "    \n",
    "    # save best weights\n",
    "    best_loss = min(val_loss_history)\n",
    "    if (val_loss <= best_loss) or (epoch % 10 == 0):\n",
    "        print('saving model')\n",
    "        torch.save({'state_dict': model.state_dict()},\n",
    "                    os.path.join(weights_dir, f\"exp_5_eff_b0{val_loss:0.6f}_{epoch}_.pth\"))\n",
    "\n",
    "\n",
    "np.save(\"/storage/home/akansh12/Vin-ChestXR-Abnormality-detection/model/exp_5_train_loss_hist_label.npy\", np.array(train_loss_history))\n",
    "np.save(\"/storage/home/akansh12/Vin-ChestXR-Abnormality-detection/model/exp_5_test_loss_hist_label.npy\", np.array(val_loss_history))\n",
    "np.save(\"/storage/home/akansh12/Vin-ChestXR-Abnormality-detection/model/exp_5_test_auc_hist_label.npy\", np.array(val_auc_history))\n"
   ]
  },
  {
   "cell_type": "code",
   "execution_count": null,
   "id": "94b0b627",
   "metadata": {},
   "outputs": [],
   "source": []
  }
 ],
 "metadata": {
  "kernelspec": {
   "display_name": "env",
   "language": "python",
   "name": "env"
  },
  "language_info": {
   "codemirror_mode": {
    "name": "ipython",
    "version": 3
   },
   "file_extension": ".py",
   "mimetype": "text/x-python",
   "name": "python",
   "nbconvert_exporter": "python",
   "pygments_lexer": "ipython3",
   "version": "3.7.6"
  }
 },
 "nbformat": 4,
 "nbformat_minor": 5
}
