{
 "cells": [
  {
   "cell_type": "code",
   "execution_count": null,
   "id": "95176ad3",
   "metadata": {},
   "outputs": [
    {
     "name": "stdout",
     "output_type": "stream",
     "text": [
      "Start Train ...\n"
     ]
    },
    {
     "data": {
      "application/vnd.jupyter.widget-view+json": {
       "model_id": "faeadf4e72e74e6c86c324b2225d3aa1",
       "version_major": 2,
       "version_minor": 0
      },
      "text/plain": [
       "  0%|          | 0/3750 [00:00<?, ?it/s]"
      ]
     },
     "metadata": {},
     "output_type": "display_data"
    },
    {
     "name": "stdout",
     "output_type": "stream",
     "text": [
      "Epoch [0] Mean loss on train: 0.1703953655511141 Learning Rate: 0.001\n",
      "Start Validation ...\n"
     ]
    },
    {
     "data": {
      "application/vnd.jupyter.widget-view+json": {
       "model_id": "0ff96e2f4c654f38a0ec2d5b98bca437",
       "version_major": 2,
       "version_minor": 0
      },
      "text/plain": [
       "  0%|          | 0/375 [00:00<?, ?it/s]"
      ]
     },
     "metadata": {},
     "output_type": "display_data"
    },
    {
     "name": "stdout",
     "output_type": "stream",
     "text": [
      "Epoch:  0 AUC valid Score: 0.7836074391539121 Mean Loss 0.20239513772105178\n",
      "saving model\n",
      "Start Train ...\n"
     ]
    },
    {
     "data": {
      "application/vnd.jupyter.widget-view+json": {
       "model_id": "a86f14c08d23417980a8b976f27a6f94",
       "version_major": 2,
       "version_minor": 0
      },
      "text/plain": [
       "  0%|          | 0/3750 [00:00<?, ?it/s]"
      ]
     },
     "metadata": {},
     "output_type": "display_data"
    },
    {
     "name": "stdout",
     "output_type": "stream",
     "text": [
      "Epoch [1] Mean loss on train: 0.13468865837392707 Learning Rate: 0.0005\n",
      "Start Validation ...\n"
     ]
    },
    {
     "data": {
      "application/vnd.jupyter.widget-view+json": {
       "model_id": "d4b0b64c7f0b45f3af29abff6196d929",
       "version_major": 2,
       "version_minor": 0
      },
      "text/plain": [
       "  0%|          | 0/375 [00:00<?, ?it/s]"
      ]
     },
     "metadata": {},
     "output_type": "display_data"
    },
    {
     "name": "stdout",
     "output_type": "stream",
     "text": [
      "Epoch:  1 AUC valid Score: 0.7752024446865347 Mean Loss 0.19993488912284374\n",
      "saving model\n",
      "Start Train ...\n"
     ]
    },
    {
     "data": {
      "application/vnd.jupyter.widget-view+json": {
       "model_id": "d41d65d9bcec4b47ba7d00a97d996ca5",
       "version_major": 2,
       "version_minor": 0
      },
      "text/plain": [
       "  0%|          | 0/3750 [00:00<?, ?it/s]"
      ]
     },
     "metadata": {},
     "output_type": "display_data"
    },
    {
     "name": "stdout",
     "output_type": "stream",
     "text": [
      "Epoch [2] Mean loss on train: 0.119413060085165 Learning Rate: 0.00025\n",
      "Start Validation ...\n"
     ]
    },
    {
     "data": {
      "application/vnd.jupyter.widget-view+json": {
       "model_id": "63b8bebf562b45198807d976392b9689",
       "version_major": 2,
       "version_minor": 0
      },
      "text/plain": [
       "  0%|          | 0/375 [00:00<?, ?it/s]"
      ]
     },
     "metadata": {},
     "output_type": "display_data"
    },
    {
     "name": "stdout",
     "output_type": "stream",
     "text": [
      "Epoch:  2 AUC valid Score: 0.7734358208715071 Mean Loss 0.25621953982987905\n",
      "Start Train ...\n"
     ]
    },
    {
     "data": {
      "application/vnd.jupyter.widget-view+json": {
       "model_id": "e4769a804bee4dd881133434eff81976",
       "version_major": 2,
       "version_minor": 0
      },
      "text/plain": [
       "  0%|          | 0/3750 [00:00<?, ?it/s]"
      ]
     },
     "metadata": {},
     "output_type": "display_data"
    },
    {
     "name": "stdout",
     "output_type": "stream",
     "text": [
      "Epoch [3] Mean loss on train: 0.11135686763748527 Learning Rate: 0.000125\n",
      "Start Validation ...\n"
     ]
    },
    {
     "data": {
      "application/vnd.jupyter.widget-view+json": {
       "model_id": "a640cd36a23347dc8cd63e8d8f419f7d",
       "version_major": 2,
       "version_minor": 0
      },
      "text/plain": [
       "  0%|          | 0/375 [00:00<?, ?it/s]"
      ]
     },
     "metadata": {},
     "output_type": "display_data"
    },
    {
     "name": "stdout",
     "output_type": "stream",
     "text": [
      "Epoch:  3 AUC valid Score: 0.7829397884723007 Mean Loss 0.2276937530025219\n",
      "Start Train ...\n"
     ]
    },
    {
     "data": {
      "application/vnd.jupyter.widget-view+json": {
       "model_id": "18df411e53fc4de384e2da0a315d5993",
       "version_major": 2,
       "version_minor": 0
      },
      "text/plain": [
       "  0%|          | 0/3750 [00:00<?, ?it/s]"
      ]
     },
     "metadata": {},
     "output_type": "display_data"
    },
    {
     "name": "stdout",
     "output_type": "stream",
     "text": [
      "Epoch [4] Mean loss on train: 0.10687883878257126 Learning Rate: 6.25e-05\n",
      "Start Validation ...\n"
     ]
    },
    {
     "data": {
      "application/vnd.jupyter.widget-view+json": {
       "model_id": "a56c652a8c4749da8978fc98b2310634",
       "version_major": 2,
       "version_minor": 0
      },
      "text/plain": [
       "  0%|          | 0/375 [00:00<?, ?it/s]"
      ]
     },
     "metadata": {},
     "output_type": "display_data"
    },
    {
     "name": "stdout",
     "output_type": "stream",
     "text": [
      "Epoch:  4 AUC valid Score: 0.8026134829293052 Mean Loss 0.2339534491969971\n",
      "Start Train ...\n"
     ]
    },
    {
     "data": {
      "application/vnd.jupyter.widget-view+json": {
       "model_id": "6caf93a7fd0e4b53b7adb847951e5e63",
       "version_major": 2,
       "version_minor": 0
      },
      "text/plain": [
       "  0%|          | 0/3750 [00:00<?, ?it/s]"
      ]
     },
     "metadata": {},
     "output_type": "display_data"
    },
    {
     "name": "stdout",
     "output_type": "stream",
     "text": [
      "Epoch [5] Mean loss on train: 0.10400362422525262 Learning Rate: 3.125e-05\n",
      "Start Validation ...\n"
     ]
    },
    {
     "data": {
      "application/vnd.jupyter.widget-view+json": {
       "model_id": "98037d6c991d452ea7d1863e253c0e7f",
       "version_major": 2,
       "version_minor": 0
      },
      "text/plain": [
       "  0%|          | 0/375 [00:00<?, ?it/s]"
      ]
     },
     "metadata": {},
     "output_type": "display_data"
    },
    {
     "name": "stdout",
     "output_type": "stream",
     "text": [
      "Epoch:  5 AUC valid Score: 0.804714140332127 Mean Loss 0.22845111216569786\n",
      "Start Train ...\n"
     ]
    },
    {
     "data": {
      "application/vnd.jupyter.widget-view+json": {
       "model_id": "453ac77d82da488cbe92e829f7a11682",
       "version_major": 2,
       "version_minor": 0
      },
      "text/plain": [
       "  0%|          | 0/3750 [00:00<?, ?it/s]"
      ]
     },
     "metadata": {},
     "output_type": "display_data"
    },
    {
     "name": "stdout",
     "output_type": "stream",
     "text": [
      "Epoch [6] Mean loss on train: 0.10247711669718847 Learning Rate: 1.5625e-05\n",
      "Start Validation ...\n"
     ]
    },
    {
     "data": {
      "application/vnd.jupyter.widget-view+json": {
       "model_id": "cac2f4d76b16457bac3e7b0d109242ad",
       "version_major": 2,
       "version_minor": 0
      },
      "text/plain": [
       "  0%|          | 0/375 [00:00<?, ?it/s]"
      ]
     },
     "metadata": {},
     "output_type": "display_data"
    },
    {
     "name": "stdout",
     "output_type": "stream",
     "text": [
      "Epoch:  6 AUC valid Score: 0.8009234716480923 Mean Loss 0.22863697936832128\n",
      "Start Train ...\n"
     ]
    },
    {
     "data": {
      "application/vnd.jupyter.widget-view+json": {
       "model_id": "660b14c5ecd546ccac6ba5e3e26897e2",
       "version_major": 2,
       "version_minor": 0
      },
      "text/plain": [
       "  0%|          | 0/3750 [00:00<?, ?it/s]"
      ]
     },
     "metadata": {},
     "output_type": "display_data"
    },
    {
     "name": "stdout",
     "output_type": "stream",
     "text": [
      "Epoch [7] Mean loss on train: 0.10175197106737954 Learning Rate: 7.8125e-06\n",
      "Start Validation ...\n"
     ]
    },
    {
     "data": {
      "application/vnd.jupyter.widget-view+json": {
       "model_id": "e99b615aaf3149458c469117a32bb55f",
       "version_major": 2,
       "version_minor": 0
      },
      "text/plain": [
       "  0%|          | 0/375 [00:00<?, ?it/s]"
      ]
     },
     "metadata": {},
     "output_type": "display_data"
    },
    {
     "name": "stdout",
     "output_type": "stream",
     "text": [
      "Epoch:  7 AUC valid Score: 0.78452304427476 Mean Loss 0.25281840223642454\n",
      "Start Train ...\n"
     ]
    },
    {
     "data": {
      "application/vnd.jupyter.widget-view+json": {
       "model_id": "b722d2c6a992457999156494b40a5e2f",
       "version_major": 2,
       "version_minor": 0
      },
      "text/plain": [
       "  0%|          | 0/3750 [00:00<?, ?it/s]"
      ]
     },
     "metadata": {},
     "output_type": "display_data"
    },
    {
     "name": "stdout",
     "output_type": "stream",
     "text": [
      "Epoch [8] Mean loss on train: 0.10130553247684923 Learning Rate: 3.90625e-06\n",
      "Start Validation ...\n"
     ]
    },
    {
     "data": {
      "application/vnd.jupyter.widget-view+json": {
       "model_id": "f3070b6ba9fd4ee2a1d5554d51ef4772",
       "version_major": 2,
       "version_minor": 0
      },
      "text/plain": [
       "  0%|          | 0/375 [00:00<?, ?it/s]"
      ]
     },
     "metadata": {},
     "output_type": "display_data"
    },
    {
     "name": "stdout",
     "output_type": "stream",
     "text": [
      "Epoch:  8 AUC valid Score: 0.7916898163113895 Mean Loss 0.24517167350723562\n",
      "Start Train ...\n"
     ]
    },
    {
     "data": {
      "application/vnd.jupyter.widget-view+json": {
       "model_id": "793f0cfc41a6464796311b4abbe4d154",
       "version_major": 2,
       "version_minor": 0
      },
      "text/plain": [
       "  0%|          | 0/3750 [00:00<?, ?it/s]"
      ]
     },
     "metadata": {},
     "output_type": "display_data"
    }
   ],
   "source": [
    "import numpy as np\n",
    "import torch\n",
    "from PIL import Image\n",
    "import pandas as pd\n",
    "import os\n",
    "import matplotlib.pyplot as plt\n",
    "torch.manual_seed(0)\n",
    "from glob import glob\n",
    "import numpy as np\n",
    "import pandas as pd\n",
    "import os\n",
    "import torch\n",
    "from torch.utils.data import Dataset, DataLoader\n",
    "from torchvision import transforms\n",
    "from torchvision import transforms, models, datasets\n",
    "from PIL import Image\n",
    "from torch import nn\n",
    "from torch import optim\n",
    "from tqdm.auto import tqdm\n",
    "from sklearn.metrics import roc_auc_score, auc\n",
    "from sklearn.metrics import precision_score,recall_score, f1_score\n",
    "import timm\n",
    "\n",
    "class fourteen_class(Dataset):\n",
    "    def __init__(self, label_loc, img_location, transform,  data_type= 'train'):\n",
    "        label_dataframe = pd.read_csv(label_loc)\n",
    "        label_dataframe.set_index(\"image_id\", inplace = True)\n",
    "        filenames = label_dataframe.index.values\n",
    "        self.full_filename = [os.path.join(img_location,i+'.png') for i in filenames]\n",
    "        self.labels = label_dataframe.iloc[:].values\n",
    "        self.transform = transform\n",
    "    def __len__(self):\n",
    "        return len(self.full_filename)\n",
    "    \n",
    "    def __getitem__(self, idx):\n",
    "        \n",
    "        image = Image.open(self.full_filename[idx])\n",
    "        image = self.transform(image)\n",
    "        return image, self.labels[idx]\n",
    "#         return image, np.expand_dims(np.array(self.labels[idx]), axis = 0)\n",
    "        \n",
    "\n",
    "data_transforms = { \n",
    "    \"train\": transforms.Compose([\n",
    "        transforms.RandomHorizontalFlip(p = 0.5), \n",
    "        transforms.RandomPerspective(distortion_scale=0.3),\n",
    "        transforms.RandomRotation((-30,30)),\n",
    "        transforms.ToTensor(),\n",
    "        transforms.Normalize(mean =  [0.485, 0.456, 0.406], std = [0.229, 0.224, 0.225])\n",
    "    ]),\n",
    "    \n",
    "    \"test\": transforms.Compose([\n",
    "        transforms.ToTensor(),\n",
    "        transforms.Normalize(mean =  [0.485, 0.456, 0.406], std = [0.229, 0.224, 0.225])        \n",
    "    ])\n",
    "    \n",
    "}\n",
    "\n",
    "train_data = fourteen_class(\"/storage/home/akansh12/Vin-ChestXR-Abnormality-detection/Notebooks/14_class/labels/exp_6.csv\",\n",
    "                                       img_location = \"/scratch/scratch6/akansh12/DeepEXrays/data/data_256/train/\", transform =data_transforms['train'])\n",
    "test_data = fourteen_class(\"/storage/home/akansh12/Vin-ChestXR-Abnormality-detection/Notebooks/14_class/labels/test.csv\",\n",
    "                                       img_location = \"/scratch/scratch6/akansh12/DeepEXrays/data/data_256/test/\", transform =data_transforms['test'])\n",
    "\n",
    "\n",
    "trainloader = DataLoader(train_data,batch_size = 4,shuffle = True)\n",
    "testloader = DataLoader(test_data,batch_size = 8,shuffle = False)\n",
    "\n",
    "model = timm.models.efficientnet_b0(pretrained=False)\n",
    "\n",
    "model.load_state_dict(torch.load(\"/scratch/scratch6/akansh12/DeepEXrays/radiologist_selection/eff_bo.pt\"))\n",
    "\n",
    "from collections import OrderedDict\n",
    "from torch import nn\n",
    "model.classifier = nn.Sequential(OrderedDict([\n",
    "    ('fcl1', nn.Linear(1280,15)),\n",
    "    ('out', nn.Sigmoid()),\n",
    "]))\n",
    "\n",
    "device = 'cuda' if torch.cuda.is_available() else 'cpu'\n",
    "if torch.cuda.is_available():\n",
    "    model = model.cuda()\n",
    "    print(\"cuda\")\n",
    "    model = nn.DataParallel(model)\n",
    "\n",
    "def train_one_epoch(model, optimizer, lr_scheduler,\n",
    "                    dataloader, epoch, criterion, device):\n",
    "    \n",
    "    print(\"Start Train ...\")\n",
    "    model.train()\n",
    "\n",
    "    losses_train = []\n",
    "    model_train_result = []\n",
    "    train_target = []\n",
    "\n",
    "\n",
    "    for data, targets in tqdm(dataloader):\n",
    "        data = data.to(device)\n",
    "        targets = targets.to(device).type(torch.float)\n",
    "\n",
    "\n",
    "        outputs = model(data)\n",
    "        model_train_result.extend(outputs.detach().cpu().numpy().tolist())\n",
    "        train_target.extend(targets.cpu().numpy())\n",
    "\n",
    "\n",
    "        loss = criterion(outputs, targets)\n",
    "\n",
    "        losses_train.append(loss.item())\n",
    "\n",
    "        optimizer.zero_grad()\n",
    "        loss.backward()\n",
    "        optimizer.step()\n",
    "\n",
    "\n",
    "        \n",
    "    if lr_scheduler is not None:\n",
    "        lr_scheduler.step()\n",
    "\n",
    "    lr = lr_scheduler.get_last_lr()[0]\n",
    "    print(\"Epoch [%d]\" % (epoch),\n",
    "          \"Mean loss on train:\", np.array(losses_train).mean(), \n",
    "          \"Learning Rate:\", lr)\n",
    "\n",
    "    \n",
    "    return np.array(losses_train).mean(), lr\n",
    "\n",
    "\n",
    "def val_epoch(model, dataloader, epoch, criterion, device):\n",
    "    \n",
    "    print(\"Start Validation ...\")\n",
    "    model.eval()\n",
    "    \n",
    "    model_val_result = []\n",
    "    val_target = []\n",
    "    losses_val = []\n",
    "\n",
    "    with torch.no_grad():\n",
    "        for data, targets in tqdm(dataloader):\n",
    "\n",
    "            data = data.to(device)\n",
    "            targets = targets.to(device).type(torch.float)\n",
    "\n",
    "            outputs = model(data)\n",
    "            \n",
    "            #loss\n",
    "            loss = criterion(outputs, targets)\n",
    "            losses_val.append(loss.item())\n",
    "\n",
    "            \n",
    "            model_val_result.extend(outputs.detach().cpu().numpy().tolist())\n",
    "            val_target.extend(targets.cpu().numpy())\n",
    "\n",
    "        auc_score_valid = roc_auc_score(val_target, model_val_result)    \n",
    "    \n",
    "        print(\"Epoch:  \" + str(epoch) + \" AUC valid Score:\", np.array(auc_score_valid), \n",
    "              \"Mean Loss\", np.array(losses_val).mean())\n",
    "        \n",
    "    return np.array(losses_val).mean(), np.array(auc_score_valid)\n",
    "\n",
    "\n",
    "\n",
    "for param in model.parameters():\n",
    "    param.requires_grad = True\n",
    "\n",
    "num_epochs = 25\n",
    "optimizer = optimizer = torch.optim.Adam(model.parameters(), lr=2e-4)\n",
    "lr_scheduler = torch.optim.lr_scheduler.OneCycleLR(optimizer, max_lr = 0.0002, steps_per_epoch=5, epochs=5)\n",
    "criterion = nn.BCELoss()\n",
    "\n",
    "train_loss_history = []\n",
    "val_loss_history = []\n",
    "val_auc_history = []\n",
    "lr_history = []\n",
    "weights_dir = \"/scratch/scratch6/akansh12/DeepEXrays/radiologist_selection/exp_6/\"\n",
    "\n",
    "\n",
    "for epoch in range(num_epochs):\n",
    "    \n",
    "    \n",
    "    train_loss, lr = train_one_epoch(model, optimizer, lr_scheduler,trainloader, epoch, criterion, device = device)\n",
    "    val_loss, val_auc = val_epoch(model, testloader, epoch, criterion, device = device)\n",
    "    \n",
    "    \n",
    "#     train history\n",
    "    train_loss_history.append(train_loss)\n",
    "    lr_history.append(lr)\n",
    "    \n",
    "    #val history\n",
    "    val_loss_history.append(val_loss)\n",
    "    val_auc_history.append(val_auc)\n",
    "    \n",
    "    # save best weights\n",
    "    best_loss = min(val_loss_history)\n",
    "    if (val_loss <= best_loss) or (epoch % 10 == 0):\n",
    "        print('saving model')\n",
    "        torch.save({'state_dict': model.state_dict()},\n",
    "                    os.path.join(weights_dir, f\"exp_6_eff_b0{val_loss:0.6f}_{epoch}_.pth\"))\n",
    "\n",
    "\n",
    "np.save(\"/storage/home/akansh12/Vin-ChestXR-Abnormality-detection/model/exp_6_train_loss_hist_label_1.npy\", np.array(train_loss_history))\n",
    "np.save(\"/storage/home/akansh12/Vin-ChestXR-Abnormality-detection/model/exp_6_test_loss_hist_label_1.npy\", np.array(val_loss_history))\n",
    "np.save(\"/storage/home/akansh12/Vin-ChestXR-Abnormality-detection/model/exp_6_test_auc_hist_label_1.npy\", np.array(val_auc_history))\n"
   ]
  },
  {
   "cell_type": "code",
   "execution_count": null,
   "id": "0ea3ee9c",
   "metadata": {},
   "outputs": [],
   "source": []
  }
 ],
 "metadata": {
  "kernelspec": {
   "display_name": "env",
   "language": "python",
   "name": "env"
  },
  "language_info": {
   "codemirror_mode": {
    "name": "ipython",
    "version": 3
   },
   "file_extension": ".py",
   "mimetype": "text/x-python",
   "name": "python",
   "nbconvert_exporter": "python",
   "pygments_lexer": "ipython3",
   "version": "3.7.6"
  }
 },
 "nbformat": 4,
 "nbformat_minor": 5
}
