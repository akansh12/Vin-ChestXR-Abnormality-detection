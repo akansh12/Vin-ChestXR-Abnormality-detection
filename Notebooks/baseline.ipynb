{
 "cells": [
  {
   "cell_type": "code",
   "execution_count": 1,
   "metadata": {
    "collapsed": true
   },
   "outputs": [],
   "source": [
    "import warnings\n",
    "warnings.filterwarnings('ignore')\n",
    "import torch\n",
    "from torchvision import transforms, models, datasets\n",
    "import numpy as np\n",
    "import torch.optim as optim\n",
    "import torch.nn as nn\n",
    "import pandas as pd\n",
    "import os\n",
    "from tqdm.auto import tqdm\n",
    "from torch.utils.data import DataLoader, Dataset\n",
    "from torch.nn import functional as F"
   ]
  },
  {
   "cell_type": "code",
   "execution_count": 2,
   "metadata": {
    "collapsed": true
   },
   "outputs": [],
   "source": [
    "from collections import OrderedDict"
   ]
  },
  {
   "cell_type": "code",
   "execution_count": null,
   "metadata": {},
   "outputs": [],
   "source": []
  },
  {
   "cell_type": "code",
   "execution_count": 3,
   "metadata": {
    "collapsed": true
   },
   "outputs": [],
   "source": [
    "import matplotlib.pyplot as plt\n",
    "from PIL import Image"
   ]
  },
  {
   "cell_type": "code",
   "execution_count": 4,
   "metadata": {
    "collapsed": true
   },
   "outputs": [],
   "source": [
    "labels_csv = {'train': \"/scratch/scratch6/akansh12/DeepEXrays/physionet.org/files/vindr-cxr/1.0.0/annotations/image_labels_train.csv\",\n",
    "             'test': \"/scratch/scratch6/akansh12/DeepEXrays/physionet.org/files/vindr-cxr/1.0.0/annotations/image_labels_test.csv\"\n",
    "             }\n",
    "\n",
    "data_dir = {'train': \"/scratch/scratch6/akansh12/DeepEXrays/data/data_256/train/\",\n",
    "           'test': \"/scratch/scratch6/akansh12/DeepEXrays/data/data_256/test/\"}"
   ]
  },
  {
   "cell_type": "code",
   "execution_count": 5,
   "metadata": {
    "collapsed": true
   },
   "outputs": [],
   "source": [
    "#Normalization values:\n",
    "global_labels = ['Pleural effusion', 'Lung tumor', 'Pneumonia', 'Tuberculosis', 'Other diseases', 'No finding']"
   ]
  },
  {
   "cell_type": "code",
   "execution_count": 6,
   "metadata": {
    "collapsed": true
   },
   "outputs": [],
   "source": [
    "#dataset\n",
    "class Vin_big_dataset(Dataset):\n",
    "    def __init__(self, image_loc, label_loc, transforms, data_type = 'train'):\n",
    "        global_labels = ['Pleural effusion', 'Lung tumor', 'Pneumonia', 'Tuberculosis', 'Other diseases', 'No finding']\n",
    "        filenames = os.listdir(image_loc)\n",
    "        self.full_filenames = [os.path.join(image_loc, i) for i in filenames]\n",
    "        \n",
    "        label_df = pd.read_csv(label_loc)\n",
    "        label_df.set_index(\"image_id\", inplace = True)\n",
    "        self.labels = [label_df[global_labels].loc[filename[:-4]].values for filename in filenames]\n",
    "            \n",
    "        self.transforms = transforms\n",
    "        self.data_type = data_type\n",
    "    def __len__(self):\n",
    "        return len(self.full_filenames)\n",
    "    \n",
    "    def __getitem__(self, idx):\n",
    "        image = Image.open(self.full_filenames[idx])\n",
    "        image = self.transforms(image)\n",
    "        \n",
    "        if self.data_type == 'train':\n",
    "            return image, self.labels[idx][np.random.choice([0,1,2], size = 1)[0]]\n",
    "        else:\n",
    "            return image, self.labels[idx]\n",
    "    \n",
    "    \n",
    "            "
   ]
  },
  {
   "cell_type": "markdown",
   "metadata": {},
   "source": [
    "### Get mean and STD"
   ]
  },
  {
   "cell_type": "code",
   "execution_count": 8,
   "metadata": {},
   "outputs": [
    {
     "data": {
      "application/vnd.jupyter.widget-view+json": {
       "model_id": "cf96cf9b3c32471fa124cf9ffd4a1674",
       "version_major": 2,
       "version_minor": 0
      },
      "text/plain": [
       "HBox(children=(FloatProgress(value=0.0, max=938.0), HTML(value='')))"
      ]
     },
     "metadata": {},
     "output_type": "display_data"
    },
    {
     "name": "stdout",
     "output_type": "stream",
     "text": [
      "\n",
      "tensor([0.5490, 0.5490, 0.5490]) tensor([0.2679, 0.2679, 0.2679])\n"
     ]
    }
   ],
   "source": [
    "# train_data = Vin_big_dataset(image_loc = data_dir['train'],\n",
    "#                           label_loc = labels_csv['train'],\n",
    "#                           transforms = transforms.ToTensor(),\n",
    "#                           data_type = 'train')\n",
    "\n",
    "# def get_mean_std(loader):\n",
    "#     channels_sum, channels_squared_sum, num_batches = 0,0,0\n",
    "    \n",
    "#     for data,_ in tqdm(loader):\n",
    "#         channels_sum += torch.mean(data, dim = [0,2,3])\n",
    "#         channels_squared_sum += torch.mean(data**2, dim = [0,2,3])\n",
    "#         num_batches += 1\n",
    "        \n",
    "#     mean = channels_sum/num_batches\n",
    "#     std = (channels_squared_sum/num_batches - mean**2)**0.5\n",
    "    \n",
    "#     return mean, std\n",
    "\n",
    "# mean, std = get_mean_std(DataLoader(train_data,batch_size = 16,shuffle = True))\n",
    "# print(mean, std)"
   ]
  },
  {
   "cell_type": "code",
   "execution_count": 7,
   "metadata": {
    "collapsed": true
   },
   "outputs": [],
   "source": [
    "data_transforms = { \n",
    "    \"train\": transforms.Compose([\n",
    "#         transforms.Resize((256,256)),\n",
    "        transforms.CenterCrop((224,224)),\n",
    "        transforms.RandomHorizontalFlip(p = 0.5), \n",
    "        transforms.RandomRotation((-20,20)),\n",
    "        transforms.ToTensor(),\n",
    "        transforms.Normalize([0.5490, 0.5490, 0.5490], [0.2679, 0.2679, 0.2679])\n",
    "    ]),\n",
    "    \n",
    "    \"test\": transforms.Compose([\n",
    "        transforms.Resize((224,224)),\n",
    "        transforms.ToTensor(),\n",
    "        transforms.Normalize([0.5490, 0.5490, 0.5490], [0.2679, 0.2679, 0.2679])        \n",
    "    ])\n",
    "    \n",
    "}"
   ]
  },
  {
   "cell_type": "code",
   "execution_count": 8,
   "metadata": {
    "collapsed": true
   },
   "outputs": [],
   "source": [
    "train_data = Vin_big_dataset(image_loc = data_dir['train'],\n",
    "                          label_loc = labels_csv['train'],\n",
    "                          transforms = data_transforms['train'],\n",
    "                          data_type = 'train')\n",
    "\n",
    "test_data = Vin_big_dataset(image_loc = data_dir['test'],\n",
    "                          label_loc = labels_csv['test'],\n",
    "                          transforms = data_transforms['test'],\n",
    "                          data_type = 'test')"
   ]
  },
  {
   "cell_type": "code",
   "execution_count": 15,
   "metadata": {
    "collapsed": true
   },
   "outputs": [],
   "source": [
    "trainloader = DataLoader(train_data,batch_size = 16,shuffle = True)\n",
    "testloader = DataLoader(test_data,batch_size = 16,shuffle = False)"
   ]
  },
  {
   "cell_type": "code",
   "execution_count": 16,
   "metadata": {
    "collapsed": true
   },
   "outputs": [],
   "source": [
    "model = models.densenet121(pretrained=False)"
   ]
  },
  {
   "cell_type": "code",
   "execution_count": 17,
   "metadata": {},
   "outputs": [
    {
     "data": {
      "text/plain": [
       "<All keys matched successfully>"
      ]
     },
     "execution_count": 17,
     "metadata": {},
     "output_type": "execute_result"
    }
   ],
   "source": [
    "model.load_state_dict(torch.load(\"/storage/home/akansh12/Vin-ChestXR-Abnormality-detection/model/imageNet.pth\"))"
   ]
  },
  {
   "cell_type": "code",
   "execution_count": 18,
   "metadata": {
    "collapsed": true
   },
   "outputs": [],
   "source": [
    "model.classifier = nn.Sequential(OrderedDict([\n",
    "    ('fcl1', nn.Linear(1024,256)),\n",
    "    ('dp1', nn.Dropout(0.3)),\n",
    "    ('r1', nn.ReLU()),\n",
    "    ('fcl2', nn.Linear(256,32)),\n",
    "    ('dp2', nn.Dropout(0.3)),\n",
    "    ('r2', nn.ReLU()),\n",
    "    ('fcl3', nn.Linear(32,6)),\n",
    "    ('out', nn.Sigmoid()),\n",
    "]))"
   ]
  },
  {
   "cell_type": "code",
   "execution_count": null,
   "metadata": {
    "collapsed": true
   },
   "outputs": [],
   "source": []
  },
  {
   "cell_type": "code",
   "execution_count": 19,
   "metadata": {
    "collapsed": true
   },
   "outputs": [],
   "source": [
    "#metric\n",
    "from sklearn.metrics import roc_auc_score\n",
    "from sklearn.metrics import precision_score,recall_score, f1_score\n",
    "# roc_auc_score(y, clf.decision_function(X), average=None)\n",
    "def calculate_metrics(pred, target, threshold=0.5):\n",
    "    pred = np.array(pred > threshold, dtype=float)\n",
    "    return {'micro/precision': precision_score(y_true=target, y_pred=pred, average='micro')*100,\n",
    "            'micro/recall': recall_score(y_true=target, y_pred=pred, average='micro')*100,\n",
    "            'micro/f1': f1_score(y_true=target, y_pred=pred, average='micro')*100,\n",
    "            'macro/precision': precision_score(y_true=target, y_pred=pred, average='macro')*100,\n",
    "            'macro/recall': recall_score(y_true=target, y_pred=pred, average='macro')*100,\n",
    "            'macro/f1': f1_score(y_true=target, y_pred=pred, average='macro')*100,\n",
    "            'samples/precision': precision_score(y_true=target, y_pred=pred, average='samples')*100,\n",
    "            'samples/recall': recall_score(y_true=target, y_pred=pred, average='samples')*100,\n",
    "            'samples/f1': f1_score(y_true=target, y_pred=pred, average='samples')*100,\n",
    "            }\n"
   ]
  },
  {
   "cell_type": "code",
   "execution_count": 20,
   "metadata": {
    "collapsed": true
   },
   "outputs": [],
   "source": [
    "criterion = nn.BCELoss()\n",
    "optimizer = optim.Adam(model.parameters(),lr = 0.001)\n",
    "schedular = optim.lr_scheduler.ReduceLROnPlateau(optimizer,factor = 0.1,patience = 5, verbose= True)\n",
    "epochs = 40\n",
    "test_loss_min = np.Inf"
   ]
  },
  {
   "cell_type": "code",
   "execution_count": 21,
   "metadata": {
    "collapsed": true
   },
   "outputs": [],
   "source": [
    "device = 'cuda' if torch.cuda.is_available() else 'cpu'"
   ]
  },
  {
   "cell_type": "code",
   "execution_count": 22,
   "metadata": {
    "collapsed": true
   },
   "outputs": [],
   "source": [
    "if torch.cuda.is_available():\n",
    "    model = model.cuda()"
   ]
  },
  {
   "cell_type": "code",
   "execution_count": 41,
   "metadata": {
    "collapsed": true
   },
   "outputs": [
    {
     "data": {
      "application/vnd.jupyter.widget-view+json": {
       "model_id": "c8ef856613b3466b86f3c4cee882b900",
       "version_major": 2,
       "version_minor": 0
      },
      "text/plain": [
       "HBox(children=(FloatProgress(value=0.0, max=938.0), HTML(value='')))"
      ]
     },
     "metadata": {},
     "output_type": "display_data"
    },
    {
     "name": "stdout",
     "output_type": "stream",
     "text": [
      "\n"
     ]
    },
    {
     "ename": "KeyboardInterrupt",
     "evalue": "",
     "output_type": "error",
     "traceback": [
      "\u001b[0;31m---------------------------------------------------------------------------\u001b[0m",
      "\u001b[0;31mKeyboardInterrupt\u001b[0m                         Traceback (most recent call last)",
      "\u001b[0;32m/tmp/ipykernel_24688/3717195538.py\u001b[0m in \u001b[0;36m<module>\u001b[0;34m\u001b[0m\n\u001b[1;32m     15\u001b[0m         \u001b[0mimages\u001b[0m \u001b[0;34m=\u001b[0m \u001b[0mimages\u001b[0m\u001b[0;34m.\u001b[0m\u001b[0mto\u001b[0m\u001b[0;34m(\u001b[0m\u001b[0mdevice\u001b[0m\u001b[0;34m)\u001b[0m\u001b[0;34m\u001b[0m\u001b[0;34m\u001b[0m\u001b[0m\n\u001b[1;32m     16\u001b[0m         \u001b[0mlabels\u001b[0m \u001b[0;34m=\u001b[0m \u001b[0mlabels\u001b[0m\u001b[0;34m.\u001b[0m\u001b[0mto\u001b[0m\u001b[0;34m(\u001b[0m\u001b[0mdevice\u001b[0m\u001b[0;34m)\u001b[0m\u001b[0;34m\u001b[0m\u001b[0;34m\u001b[0m\u001b[0m\n\u001b[0;32m---> 17\u001b[0;31m         \u001b[0mps\u001b[0m \u001b[0;34m=\u001b[0m \u001b[0mmodel\u001b[0m\u001b[0;34m(\u001b[0m\u001b[0mimages\u001b[0m\u001b[0;34m)\u001b[0m\u001b[0;34m\u001b[0m\u001b[0;34m\u001b[0m\u001b[0m\n\u001b[0m\u001b[1;32m     18\u001b[0m \u001b[0;34m\u001b[0m\u001b[0m\n\u001b[1;32m     19\u001b[0m         \u001b[0;31m#for metric computing\u001b[0m\u001b[0;34m\u001b[0m\u001b[0;34m\u001b[0m\u001b[0;34m\u001b[0m\u001b[0m\n",
      "\u001b[0;32m/tools/anaconda3/envs/torch37/lib/python3.7/site-packages/torch/nn/modules/module.py\u001b[0m in \u001b[0;36m__call__\u001b[0;34m(self, *input, **kwargs)\u001b[0m\n\u001b[1;32m    548\u001b[0m             \u001b[0mresult\u001b[0m \u001b[0;34m=\u001b[0m \u001b[0mself\u001b[0m\u001b[0;34m.\u001b[0m\u001b[0m_slow_forward\u001b[0m\u001b[0;34m(\u001b[0m\u001b[0;34m*\u001b[0m\u001b[0minput\u001b[0m\u001b[0;34m,\u001b[0m \u001b[0;34m**\u001b[0m\u001b[0mkwargs\u001b[0m\u001b[0;34m)\u001b[0m\u001b[0;34m\u001b[0m\u001b[0;34m\u001b[0m\u001b[0m\n\u001b[1;32m    549\u001b[0m         \u001b[0;32melse\u001b[0m\u001b[0;34m:\u001b[0m\u001b[0;34m\u001b[0m\u001b[0;34m\u001b[0m\u001b[0m\n\u001b[0;32m--> 550\u001b[0;31m             \u001b[0mresult\u001b[0m \u001b[0;34m=\u001b[0m \u001b[0mself\u001b[0m\u001b[0;34m.\u001b[0m\u001b[0mforward\u001b[0m\u001b[0;34m(\u001b[0m\u001b[0;34m*\u001b[0m\u001b[0minput\u001b[0m\u001b[0;34m,\u001b[0m \u001b[0;34m**\u001b[0m\u001b[0mkwargs\u001b[0m\u001b[0;34m)\u001b[0m\u001b[0;34m\u001b[0m\u001b[0;34m\u001b[0m\u001b[0m\n\u001b[0m\u001b[1;32m    551\u001b[0m         \u001b[0;32mfor\u001b[0m \u001b[0mhook\u001b[0m \u001b[0;32min\u001b[0m \u001b[0mself\u001b[0m\u001b[0;34m.\u001b[0m\u001b[0m_forward_hooks\u001b[0m\u001b[0;34m.\u001b[0m\u001b[0mvalues\u001b[0m\u001b[0;34m(\u001b[0m\u001b[0;34m)\u001b[0m\u001b[0;34m:\u001b[0m\u001b[0;34m\u001b[0m\u001b[0;34m\u001b[0m\u001b[0m\n\u001b[1;32m    552\u001b[0m             \u001b[0mhook_result\u001b[0m \u001b[0;34m=\u001b[0m \u001b[0mhook\u001b[0m\u001b[0;34m(\u001b[0m\u001b[0mself\u001b[0m\u001b[0;34m,\u001b[0m \u001b[0minput\u001b[0m\u001b[0;34m,\u001b[0m \u001b[0mresult\u001b[0m\u001b[0;34m)\u001b[0m\u001b[0;34m\u001b[0m\u001b[0;34m\u001b[0m\u001b[0m\n",
      "\u001b[0;32m/tools/anaconda3/envs/torch37/lib/python3.7/site-packages/torchvision/models/densenet.py\u001b[0m in \u001b[0;36mforward\u001b[0;34m(self, x)\u001b[0m\n\u001b[1;32m    190\u001b[0m \u001b[0;34m\u001b[0m\u001b[0m\n\u001b[1;32m    191\u001b[0m     \u001b[0;32mdef\u001b[0m \u001b[0mforward\u001b[0m\u001b[0;34m(\u001b[0m\u001b[0mself\u001b[0m\u001b[0;34m,\u001b[0m \u001b[0mx\u001b[0m\u001b[0;34m)\u001b[0m\u001b[0;34m:\u001b[0m\u001b[0;34m\u001b[0m\u001b[0;34m\u001b[0m\u001b[0m\n\u001b[0;32m--> 192\u001b[0;31m         \u001b[0mfeatures\u001b[0m \u001b[0;34m=\u001b[0m \u001b[0mself\u001b[0m\u001b[0;34m.\u001b[0m\u001b[0mfeatures\u001b[0m\u001b[0;34m(\u001b[0m\u001b[0mx\u001b[0m\u001b[0;34m)\u001b[0m\u001b[0;34m\u001b[0m\u001b[0;34m\u001b[0m\u001b[0m\n\u001b[0m\u001b[1;32m    193\u001b[0m         \u001b[0mout\u001b[0m \u001b[0;34m=\u001b[0m \u001b[0mF\u001b[0m\u001b[0;34m.\u001b[0m\u001b[0mrelu\u001b[0m\u001b[0;34m(\u001b[0m\u001b[0mfeatures\u001b[0m\u001b[0;34m,\u001b[0m \u001b[0minplace\u001b[0m\u001b[0;34m=\u001b[0m\u001b[0;32mTrue\u001b[0m\u001b[0;34m)\u001b[0m\u001b[0;34m\u001b[0m\u001b[0;34m\u001b[0m\u001b[0m\n\u001b[1;32m    194\u001b[0m         \u001b[0mout\u001b[0m \u001b[0;34m=\u001b[0m \u001b[0mF\u001b[0m\u001b[0;34m.\u001b[0m\u001b[0madaptive_avg_pool2d\u001b[0m\u001b[0;34m(\u001b[0m\u001b[0mout\u001b[0m\u001b[0;34m,\u001b[0m \u001b[0;34m(\u001b[0m\u001b[0;36m1\u001b[0m\u001b[0;34m,\u001b[0m \u001b[0;36m1\u001b[0m\u001b[0;34m)\u001b[0m\u001b[0;34m)\u001b[0m\u001b[0;34m\u001b[0m\u001b[0;34m\u001b[0m\u001b[0m\n",
      "\u001b[0;32m/tools/anaconda3/envs/torch37/lib/python3.7/site-packages/torch/nn/modules/module.py\u001b[0m in \u001b[0;36m__call__\u001b[0;34m(self, *input, **kwargs)\u001b[0m\n\u001b[1;32m    548\u001b[0m             \u001b[0mresult\u001b[0m \u001b[0;34m=\u001b[0m \u001b[0mself\u001b[0m\u001b[0;34m.\u001b[0m\u001b[0m_slow_forward\u001b[0m\u001b[0;34m(\u001b[0m\u001b[0;34m*\u001b[0m\u001b[0minput\u001b[0m\u001b[0;34m,\u001b[0m \u001b[0;34m**\u001b[0m\u001b[0mkwargs\u001b[0m\u001b[0;34m)\u001b[0m\u001b[0;34m\u001b[0m\u001b[0;34m\u001b[0m\u001b[0m\n\u001b[1;32m    549\u001b[0m         \u001b[0;32melse\u001b[0m\u001b[0;34m:\u001b[0m\u001b[0;34m\u001b[0m\u001b[0;34m\u001b[0m\u001b[0m\n\u001b[0;32m--> 550\u001b[0;31m             \u001b[0mresult\u001b[0m \u001b[0;34m=\u001b[0m \u001b[0mself\u001b[0m\u001b[0;34m.\u001b[0m\u001b[0mforward\u001b[0m\u001b[0;34m(\u001b[0m\u001b[0;34m*\u001b[0m\u001b[0minput\u001b[0m\u001b[0;34m,\u001b[0m \u001b[0;34m**\u001b[0m\u001b[0mkwargs\u001b[0m\u001b[0;34m)\u001b[0m\u001b[0;34m\u001b[0m\u001b[0;34m\u001b[0m\u001b[0m\n\u001b[0m\u001b[1;32m    551\u001b[0m         \u001b[0;32mfor\u001b[0m \u001b[0mhook\u001b[0m \u001b[0;32min\u001b[0m \u001b[0mself\u001b[0m\u001b[0;34m.\u001b[0m\u001b[0m_forward_hooks\u001b[0m\u001b[0;34m.\u001b[0m\u001b[0mvalues\u001b[0m\u001b[0;34m(\u001b[0m\u001b[0;34m)\u001b[0m\u001b[0;34m:\u001b[0m\u001b[0;34m\u001b[0m\u001b[0;34m\u001b[0m\u001b[0m\n\u001b[1;32m    552\u001b[0m             \u001b[0mhook_result\u001b[0m \u001b[0;34m=\u001b[0m \u001b[0mhook\u001b[0m\u001b[0;34m(\u001b[0m\u001b[0mself\u001b[0m\u001b[0;34m,\u001b[0m \u001b[0minput\u001b[0m\u001b[0;34m,\u001b[0m \u001b[0mresult\u001b[0m\u001b[0;34m)\u001b[0m\u001b[0;34m\u001b[0m\u001b[0;34m\u001b[0m\u001b[0m\n",
      "\u001b[0;32m/tools/anaconda3/envs/torch37/lib/python3.7/site-packages/torch/nn/modules/container.py\u001b[0m in \u001b[0;36mforward\u001b[0;34m(self, input)\u001b[0m\n\u001b[1;32m     98\u001b[0m     \u001b[0;32mdef\u001b[0m \u001b[0mforward\u001b[0m\u001b[0;34m(\u001b[0m\u001b[0mself\u001b[0m\u001b[0;34m,\u001b[0m \u001b[0minput\u001b[0m\u001b[0;34m)\u001b[0m\u001b[0;34m:\u001b[0m\u001b[0;34m\u001b[0m\u001b[0;34m\u001b[0m\u001b[0m\n\u001b[1;32m     99\u001b[0m         \u001b[0;32mfor\u001b[0m \u001b[0mmodule\u001b[0m \u001b[0;32min\u001b[0m \u001b[0mself\u001b[0m\u001b[0;34m:\u001b[0m\u001b[0;34m\u001b[0m\u001b[0;34m\u001b[0m\u001b[0m\n\u001b[0;32m--> 100\u001b[0;31m             \u001b[0minput\u001b[0m \u001b[0;34m=\u001b[0m \u001b[0mmodule\u001b[0m\u001b[0;34m(\u001b[0m\u001b[0minput\u001b[0m\u001b[0;34m)\u001b[0m\u001b[0;34m\u001b[0m\u001b[0;34m\u001b[0m\u001b[0m\n\u001b[0m\u001b[1;32m    101\u001b[0m         \u001b[0;32mreturn\u001b[0m \u001b[0minput\u001b[0m\u001b[0;34m\u001b[0m\u001b[0;34m\u001b[0m\u001b[0m\n\u001b[1;32m    102\u001b[0m \u001b[0;34m\u001b[0m\u001b[0m\n",
      "\u001b[0;32m/tools/anaconda3/envs/torch37/lib/python3.7/site-packages/torch/nn/modules/module.py\u001b[0m in \u001b[0;36m__call__\u001b[0;34m(self, *input, **kwargs)\u001b[0m\n\u001b[1;32m    548\u001b[0m             \u001b[0mresult\u001b[0m \u001b[0;34m=\u001b[0m \u001b[0mself\u001b[0m\u001b[0;34m.\u001b[0m\u001b[0m_slow_forward\u001b[0m\u001b[0;34m(\u001b[0m\u001b[0;34m*\u001b[0m\u001b[0minput\u001b[0m\u001b[0;34m,\u001b[0m \u001b[0;34m**\u001b[0m\u001b[0mkwargs\u001b[0m\u001b[0;34m)\u001b[0m\u001b[0;34m\u001b[0m\u001b[0;34m\u001b[0m\u001b[0m\n\u001b[1;32m    549\u001b[0m         \u001b[0;32melse\u001b[0m\u001b[0;34m:\u001b[0m\u001b[0;34m\u001b[0m\u001b[0;34m\u001b[0m\u001b[0m\n\u001b[0;32m--> 550\u001b[0;31m             \u001b[0mresult\u001b[0m \u001b[0;34m=\u001b[0m \u001b[0mself\u001b[0m\u001b[0;34m.\u001b[0m\u001b[0mforward\u001b[0m\u001b[0;34m(\u001b[0m\u001b[0;34m*\u001b[0m\u001b[0minput\u001b[0m\u001b[0;34m,\u001b[0m \u001b[0;34m**\u001b[0m\u001b[0mkwargs\u001b[0m\u001b[0;34m)\u001b[0m\u001b[0;34m\u001b[0m\u001b[0;34m\u001b[0m\u001b[0m\n\u001b[0m\u001b[1;32m    551\u001b[0m         \u001b[0;32mfor\u001b[0m \u001b[0mhook\u001b[0m \u001b[0;32min\u001b[0m \u001b[0mself\u001b[0m\u001b[0;34m.\u001b[0m\u001b[0m_forward_hooks\u001b[0m\u001b[0;34m.\u001b[0m\u001b[0mvalues\u001b[0m\u001b[0;34m(\u001b[0m\u001b[0;34m)\u001b[0m\u001b[0;34m:\u001b[0m\u001b[0;34m\u001b[0m\u001b[0;34m\u001b[0m\u001b[0m\n\u001b[1;32m    552\u001b[0m             \u001b[0mhook_result\u001b[0m \u001b[0;34m=\u001b[0m \u001b[0mhook\u001b[0m\u001b[0;34m(\u001b[0m\u001b[0mself\u001b[0m\u001b[0;34m,\u001b[0m \u001b[0minput\u001b[0m\u001b[0;34m,\u001b[0m \u001b[0mresult\u001b[0m\u001b[0;34m)\u001b[0m\u001b[0;34m\u001b[0m\u001b[0;34m\u001b[0m\u001b[0m\n",
      "\u001b[0;32m/tools/anaconda3/envs/torch37/lib/python3.7/site-packages/torchvision/models/densenet.py\u001b[0m in \u001b[0;36mforward\u001b[0;34m(self, init_features)\u001b[0m\n\u001b[1;32m    109\u001b[0m         \u001b[0mfeatures\u001b[0m \u001b[0;34m=\u001b[0m \u001b[0;34m[\u001b[0m\u001b[0minit_features\u001b[0m\u001b[0;34m]\u001b[0m\u001b[0;34m\u001b[0m\u001b[0;34m\u001b[0m\u001b[0m\n\u001b[1;32m    110\u001b[0m         \u001b[0;32mfor\u001b[0m \u001b[0mname\u001b[0m\u001b[0;34m,\u001b[0m \u001b[0mlayer\u001b[0m \u001b[0;32min\u001b[0m \u001b[0mself\u001b[0m\u001b[0;34m.\u001b[0m\u001b[0mitems\u001b[0m\u001b[0;34m(\u001b[0m\u001b[0;34m)\u001b[0m\u001b[0;34m:\u001b[0m\u001b[0;34m\u001b[0m\u001b[0;34m\u001b[0m\u001b[0m\n\u001b[0;32m--> 111\u001b[0;31m             \u001b[0mnew_features\u001b[0m \u001b[0;34m=\u001b[0m \u001b[0mlayer\u001b[0m\u001b[0;34m(\u001b[0m\u001b[0mfeatures\u001b[0m\u001b[0;34m)\u001b[0m\u001b[0;34m\u001b[0m\u001b[0;34m\u001b[0m\u001b[0m\n\u001b[0m\u001b[1;32m    112\u001b[0m             \u001b[0mfeatures\u001b[0m\u001b[0;34m.\u001b[0m\u001b[0mappend\u001b[0m\u001b[0;34m(\u001b[0m\u001b[0mnew_features\u001b[0m\u001b[0;34m)\u001b[0m\u001b[0;34m\u001b[0m\u001b[0;34m\u001b[0m\u001b[0m\n\u001b[1;32m    113\u001b[0m         \u001b[0;32mreturn\u001b[0m \u001b[0mtorch\u001b[0m\u001b[0;34m.\u001b[0m\u001b[0mcat\u001b[0m\u001b[0;34m(\u001b[0m\u001b[0mfeatures\u001b[0m\u001b[0;34m,\u001b[0m \u001b[0;36m1\u001b[0m\u001b[0;34m)\u001b[0m\u001b[0;34m\u001b[0m\u001b[0;34m\u001b[0m\u001b[0m\n",
      "\u001b[0;32m/tools/anaconda3/envs/torch37/lib/python3.7/site-packages/torch/nn/modules/module.py\u001b[0m in \u001b[0;36m__call__\u001b[0;34m(self, *input, **kwargs)\u001b[0m\n\u001b[1;32m    548\u001b[0m             \u001b[0mresult\u001b[0m \u001b[0;34m=\u001b[0m \u001b[0mself\u001b[0m\u001b[0;34m.\u001b[0m\u001b[0m_slow_forward\u001b[0m\u001b[0;34m(\u001b[0m\u001b[0;34m*\u001b[0m\u001b[0minput\u001b[0m\u001b[0;34m,\u001b[0m \u001b[0;34m**\u001b[0m\u001b[0mkwargs\u001b[0m\u001b[0;34m)\u001b[0m\u001b[0;34m\u001b[0m\u001b[0;34m\u001b[0m\u001b[0m\n\u001b[1;32m    549\u001b[0m         \u001b[0;32melse\u001b[0m\u001b[0;34m:\u001b[0m\u001b[0;34m\u001b[0m\u001b[0;34m\u001b[0m\u001b[0m\n\u001b[0;32m--> 550\u001b[0;31m             \u001b[0mresult\u001b[0m \u001b[0;34m=\u001b[0m \u001b[0mself\u001b[0m\u001b[0;34m.\u001b[0m\u001b[0mforward\u001b[0m\u001b[0;34m(\u001b[0m\u001b[0;34m*\u001b[0m\u001b[0minput\u001b[0m\u001b[0;34m,\u001b[0m \u001b[0;34m**\u001b[0m\u001b[0mkwargs\u001b[0m\u001b[0;34m)\u001b[0m\u001b[0;34m\u001b[0m\u001b[0;34m\u001b[0m\u001b[0m\n\u001b[0m\u001b[1;32m    551\u001b[0m         \u001b[0;32mfor\u001b[0m \u001b[0mhook\u001b[0m \u001b[0;32min\u001b[0m \u001b[0mself\u001b[0m\u001b[0;34m.\u001b[0m\u001b[0m_forward_hooks\u001b[0m\u001b[0;34m.\u001b[0m\u001b[0mvalues\u001b[0m\u001b[0;34m(\u001b[0m\u001b[0;34m)\u001b[0m\u001b[0;34m:\u001b[0m\u001b[0;34m\u001b[0m\u001b[0;34m\u001b[0m\u001b[0m\n\u001b[1;32m    552\u001b[0m             \u001b[0mhook_result\u001b[0m \u001b[0;34m=\u001b[0m \u001b[0mhook\u001b[0m\u001b[0;34m(\u001b[0m\u001b[0mself\u001b[0m\u001b[0;34m,\u001b[0m \u001b[0minput\u001b[0m\u001b[0;34m,\u001b[0m \u001b[0mresult\u001b[0m\u001b[0;34m)\u001b[0m\u001b[0;34m\u001b[0m\u001b[0;34m\u001b[0m\u001b[0m\n",
      "\u001b[0;32m/tools/anaconda3/envs/torch37/lib/python3.7/site-packages/torchvision/models/densenet.py\u001b[0m in \u001b[0;36mforward\u001b[0;34m(self, input)\u001b[0m\n\u001b[1;32m     82\u001b[0m             \u001b[0mbottleneck_output\u001b[0m \u001b[0;34m=\u001b[0m \u001b[0mself\u001b[0m\u001b[0;34m.\u001b[0m\u001b[0mcall_checkpoint_bottleneck\u001b[0m\u001b[0;34m(\u001b[0m\u001b[0mprev_features\u001b[0m\u001b[0;34m)\u001b[0m\u001b[0;34m\u001b[0m\u001b[0;34m\u001b[0m\u001b[0m\n\u001b[1;32m     83\u001b[0m         \u001b[0;32melse\u001b[0m\u001b[0;34m:\u001b[0m\u001b[0;34m\u001b[0m\u001b[0;34m\u001b[0m\u001b[0m\n\u001b[0;32m---> 84\u001b[0;31m             \u001b[0mbottleneck_output\u001b[0m \u001b[0;34m=\u001b[0m \u001b[0mself\u001b[0m\u001b[0;34m.\u001b[0m\u001b[0mbn_function\u001b[0m\u001b[0;34m(\u001b[0m\u001b[0mprev_features\u001b[0m\u001b[0;34m)\u001b[0m\u001b[0;34m\u001b[0m\u001b[0;34m\u001b[0m\u001b[0m\n\u001b[0m\u001b[1;32m     85\u001b[0m \u001b[0;34m\u001b[0m\u001b[0m\n\u001b[1;32m     86\u001b[0m         \u001b[0mnew_features\u001b[0m \u001b[0;34m=\u001b[0m \u001b[0mself\u001b[0m\u001b[0;34m.\u001b[0m\u001b[0mconv2\u001b[0m\u001b[0;34m(\u001b[0m\u001b[0mself\u001b[0m\u001b[0;34m.\u001b[0m\u001b[0mrelu2\u001b[0m\u001b[0;34m(\u001b[0m\u001b[0mself\u001b[0m\u001b[0;34m.\u001b[0m\u001b[0mnorm2\u001b[0m\u001b[0;34m(\u001b[0m\u001b[0mbottleneck_output\u001b[0m\u001b[0;34m)\u001b[0m\u001b[0;34m)\u001b[0m\u001b[0;34m)\u001b[0m\u001b[0;34m\u001b[0m\u001b[0;34m\u001b[0m\u001b[0m\n",
      "\u001b[0;32m/tools/anaconda3/envs/torch37/lib/python3.7/site-packages/torchvision/models/densenet.py\u001b[0m in \u001b[0;36mbn_function\u001b[0;34m(self, inputs)\u001b[0m\n\u001b[1;32m     39\u001b[0m         \u001b[0;31m# type: (List[Tensor]) -> Tensor\u001b[0m\u001b[0;34m\u001b[0m\u001b[0;34m\u001b[0m\u001b[0;34m\u001b[0m\u001b[0m\n\u001b[1;32m     40\u001b[0m         \u001b[0mconcated_features\u001b[0m \u001b[0;34m=\u001b[0m \u001b[0mtorch\u001b[0m\u001b[0;34m.\u001b[0m\u001b[0mcat\u001b[0m\u001b[0;34m(\u001b[0m\u001b[0minputs\u001b[0m\u001b[0;34m,\u001b[0m \u001b[0;36m1\u001b[0m\u001b[0;34m)\u001b[0m\u001b[0;34m\u001b[0m\u001b[0;34m\u001b[0m\u001b[0m\n\u001b[0;32m---> 41\u001b[0;31m         \u001b[0mbottleneck_output\u001b[0m \u001b[0;34m=\u001b[0m \u001b[0mself\u001b[0m\u001b[0;34m.\u001b[0m\u001b[0mconv1\u001b[0m\u001b[0;34m(\u001b[0m\u001b[0mself\u001b[0m\u001b[0;34m.\u001b[0m\u001b[0mrelu1\u001b[0m\u001b[0;34m(\u001b[0m\u001b[0mself\u001b[0m\u001b[0;34m.\u001b[0m\u001b[0mnorm1\u001b[0m\u001b[0;34m(\u001b[0m\u001b[0mconcated_features\u001b[0m\u001b[0;34m)\u001b[0m\u001b[0;34m)\u001b[0m\u001b[0;34m)\u001b[0m  \u001b[0;31m# noqa: T484\u001b[0m\u001b[0;34m\u001b[0m\u001b[0;34m\u001b[0m\u001b[0m\n\u001b[0m\u001b[1;32m     42\u001b[0m         \u001b[0;32mreturn\u001b[0m \u001b[0mbottleneck_output\u001b[0m\u001b[0;34m\u001b[0m\u001b[0;34m\u001b[0m\u001b[0m\n\u001b[1;32m     43\u001b[0m \u001b[0;34m\u001b[0m\u001b[0m\n",
      "\u001b[0;32m/tools/anaconda3/envs/torch37/lib/python3.7/site-packages/torch/nn/modules/module.py\u001b[0m in \u001b[0;36m__call__\u001b[0;34m(self, *input, **kwargs)\u001b[0m\n\u001b[1;32m    548\u001b[0m             \u001b[0mresult\u001b[0m \u001b[0;34m=\u001b[0m \u001b[0mself\u001b[0m\u001b[0;34m.\u001b[0m\u001b[0m_slow_forward\u001b[0m\u001b[0;34m(\u001b[0m\u001b[0;34m*\u001b[0m\u001b[0minput\u001b[0m\u001b[0;34m,\u001b[0m \u001b[0;34m**\u001b[0m\u001b[0mkwargs\u001b[0m\u001b[0;34m)\u001b[0m\u001b[0;34m\u001b[0m\u001b[0;34m\u001b[0m\u001b[0m\n\u001b[1;32m    549\u001b[0m         \u001b[0;32melse\u001b[0m\u001b[0;34m:\u001b[0m\u001b[0;34m\u001b[0m\u001b[0;34m\u001b[0m\u001b[0m\n\u001b[0;32m--> 550\u001b[0;31m             \u001b[0mresult\u001b[0m \u001b[0;34m=\u001b[0m \u001b[0mself\u001b[0m\u001b[0;34m.\u001b[0m\u001b[0mforward\u001b[0m\u001b[0;34m(\u001b[0m\u001b[0;34m*\u001b[0m\u001b[0minput\u001b[0m\u001b[0;34m,\u001b[0m \u001b[0;34m**\u001b[0m\u001b[0mkwargs\u001b[0m\u001b[0;34m)\u001b[0m\u001b[0;34m\u001b[0m\u001b[0;34m\u001b[0m\u001b[0m\n\u001b[0m\u001b[1;32m    551\u001b[0m         \u001b[0;32mfor\u001b[0m \u001b[0mhook\u001b[0m \u001b[0;32min\u001b[0m \u001b[0mself\u001b[0m\u001b[0;34m.\u001b[0m\u001b[0m_forward_hooks\u001b[0m\u001b[0;34m.\u001b[0m\u001b[0mvalues\u001b[0m\u001b[0;34m(\u001b[0m\u001b[0;34m)\u001b[0m\u001b[0;34m:\u001b[0m\u001b[0;34m\u001b[0m\u001b[0;34m\u001b[0m\u001b[0m\n\u001b[1;32m    552\u001b[0m             \u001b[0mhook_result\u001b[0m \u001b[0;34m=\u001b[0m \u001b[0mhook\u001b[0m\u001b[0;34m(\u001b[0m\u001b[0mself\u001b[0m\u001b[0;34m,\u001b[0m \u001b[0minput\u001b[0m\u001b[0;34m,\u001b[0m \u001b[0mresult\u001b[0m\u001b[0;34m)\u001b[0m\u001b[0;34m\u001b[0m\u001b[0;34m\u001b[0m\u001b[0m\n",
      "\u001b[0;32m/tools/anaconda3/envs/torch37/lib/python3.7/site-packages/torch/nn/modules/batchnorm.py\u001b[0m in \u001b[0;36mforward\u001b[0;34m(self, input)\u001b[0m\n\u001b[1;32m    104\u001b[0m             \u001b[0minput\u001b[0m\u001b[0;34m,\u001b[0m \u001b[0mself\u001b[0m\u001b[0;34m.\u001b[0m\u001b[0mrunning_mean\u001b[0m\u001b[0;34m,\u001b[0m \u001b[0mself\u001b[0m\u001b[0;34m.\u001b[0m\u001b[0mrunning_var\u001b[0m\u001b[0;34m,\u001b[0m \u001b[0mself\u001b[0m\u001b[0;34m.\u001b[0m\u001b[0mweight\u001b[0m\u001b[0;34m,\u001b[0m \u001b[0mself\u001b[0m\u001b[0;34m.\u001b[0m\u001b[0mbias\u001b[0m\u001b[0;34m,\u001b[0m\u001b[0;34m\u001b[0m\u001b[0;34m\u001b[0m\u001b[0m\n\u001b[1;32m    105\u001b[0m             \u001b[0mself\u001b[0m\u001b[0;34m.\u001b[0m\u001b[0mtraining\u001b[0m \u001b[0;32mor\u001b[0m \u001b[0;32mnot\u001b[0m \u001b[0mself\u001b[0m\u001b[0;34m.\u001b[0m\u001b[0mtrack_running_stats\u001b[0m\u001b[0;34m,\u001b[0m\u001b[0;34m\u001b[0m\u001b[0;34m\u001b[0m\u001b[0m\n\u001b[0;32m--> 106\u001b[0;31m             exponential_average_factor, self.eps)\n\u001b[0m\u001b[1;32m    107\u001b[0m \u001b[0;34m\u001b[0m\u001b[0m\n\u001b[1;32m    108\u001b[0m \u001b[0;34m\u001b[0m\u001b[0m\n",
      "\u001b[0;32m/tools/anaconda3/envs/torch37/lib/python3.7/site-packages/torch/nn/functional.py\u001b[0m in \u001b[0;36mbatch_norm\u001b[0;34m(input, running_mean, running_var, weight, bias, training, momentum, eps)\u001b[0m\n\u001b[1;32m   1921\u001b[0m     return torch.batch_norm(\n\u001b[1;32m   1922\u001b[0m         \u001b[0minput\u001b[0m\u001b[0;34m,\u001b[0m \u001b[0mweight\u001b[0m\u001b[0;34m,\u001b[0m \u001b[0mbias\u001b[0m\u001b[0;34m,\u001b[0m \u001b[0mrunning_mean\u001b[0m\u001b[0;34m,\u001b[0m \u001b[0mrunning_var\u001b[0m\u001b[0;34m,\u001b[0m\u001b[0;34m\u001b[0m\u001b[0;34m\u001b[0m\u001b[0m\n\u001b[0;32m-> 1923\u001b[0;31m         \u001b[0mtraining\u001b[0m\u001b[0;34m,\u001b[0m \u001b[0mmomentum\u001b[0m\u001b[0;34m,\u001b[0m \u001b[0meps\u001b[0m\u001b[0;34m,\u001b[0m \u001b[0mtorch\u001b[0m\u001b[0;34m.\u001b[0m\u001b[0mbackends\u001b[0m\u001b[0;34m.\u001b[0m\u001b[0mcudnn\u001b[0m\u001b[0;34m.\u001b[0m\u001b[0menabled\u001b[0m\u001b[0;34m\u001b[0m\u001b[0;34m\u001b[0m\u001b[0m\n\u001b[0m\u001b[1;32m   1924\u001b[0m     )\n\u001b[1;32m   1925\u001b[0m \u001b[0;34m\u001b[0m\u001b[0m\n",
      "\u001b[0;31mKeyboardInterrupt\u001b[0m: "
     ]
    }
   ],
   "source": [
    "train_loss = []\n",
    "test_loss = []\n",
    "\n",
    "for epoch in range(0,epochs):\n",
    "    train_loss = 0.0\n",
    "    test_loss = 0.0\n",
    "    model_train_result = []\n",
    "    train_target = []\n",
    "    model_test_result = []\n",
    "    test_target = []\n",
    "    \n",
    "    \n",
    "    model.train()\n",
    "    for images,labels in tqdm(trainloader):\n",
    "        images = images.to(device)\n",
    "        labels = labels.to(device)\n",
    "        ps = model(images)\n",
    "        \n",
    "        #for metric computing\n",
    "        model_train_result.extend(ps.detach().cpu().numpy().tolist())\n",
    "        train_target.extend(labels.cpu().numpy())\n",
    "        \n",
    "        \n",
    "        loss = criterion(ps,labels.type(torch.float))\n",
    "        \n",
    "        optimizer.zero_grad()\n",
    "        train_loss += loss.item()\n",
    "        loss.backward()\n",
    "        optimizer.step()\n",
    "        \n",
    "    avg_train_loss = train_loss / len(trainloader)\n",
    "    train_loss.append(avg_train_loss)\n",
    "    \n",
    "    train_result = calculate_metrics(np.array(model_train_result), train_target)\n",
    "    \n",
    "    \n",
    "    model.eval()\n",
    "    with torch.no_grad():\n",
    "        for images, labels in tqdm(testloader):\n",
    "            images = images.to(device)\n",
    "            ps = model(images)\n",
    "            \n",
    "            model_test_result.extend(ps.cpu().numpy().tolist())\n",
    "            test_target.extend(labels.cpu().numpy())\n",
    "            \n",
    "            \n",
    "            loss = criterion(ps,labels.type(torch.float))\n",
    "            test_loss += loss.item()\n",
    "            \n",
    "        avg_test_loss = test_loss / len(testloader)\n",
    "        test_loss.append(avg_test_loss)\n",
    "        \n",
    "        schedular.step(avg_test_loss)\n",
    "\n",
    "        test_result = calculate_metrics(np.array(model_test_result), test_target)\n",
    "        \n",
    "        if avg_test_loss <= test_loss_min:\n",
    "                    print('testation loss decreased ({:.6f} --> {:.6f}).   Saving model ...'.format(test_loss_min,avg_test_loss))\n",
    "                    torch.save({\n",
    "                        'epoch' : i,\n",
    "                        'model_state_dict' : model.state_dict(),\n",
    "                        'optimizer_state_dict' : optimizer.state_dict(),\n",
    "                        'test_loss_min' : avg_test_loss\n",
    "                    },'DenseNet_size224.pt')\n",
    "                    \n",
    "    \n",
    "    \n",
    "    print(\"epoch:{:2d} iter:{:3d} test: \"\n",
    "                  \"micro f1: {:.3f} \"\n",
    "                  \"macro f1: {:.3f} \"\n",
    "                  \"samples f1: {:.3f}\".format(epoch,0,\n",
    "                                              train_result['micro/f1'],\n",
    "                                              train_result['macro/f1'],\n",
    "                                              train_result['samples/f1']))\n",
    "    \n",
    "    \n",
    "    print(\"epoch:{:2d} iter:{:3d} test: \"\n",
    "                  \"micro f1: {:.3f} \"\n",
    "                  \"macro f1: {:.3f} \"\n",
    "                  \"samples f1: {:.3f}\".format(epoch,0,\n",
    "                                              test_result['micro/f1'],\n",
    "                                              test_result['macro/f1'],\n",
    "                                              test_result['samples/f1']))    \n",
    "    "
   ]
  },
  {
   "cell_type": "code",
   "execution_count": 43,
   "metadata": {},
   "outputs": [],
   "source": [
    "train_result = calculate_metrics(np.array(model_train_result), train_target)\n"
   ]
  },
  {
   "cell_type": "code",
   "execution_count": 46,
   "metadata": {},
   "outputs": [
    {
     "data": {
      "text/plain": [
       "array([[0.51983249, 0.5592528 , 0.44686809, 0.44448015, 0.46356094,\n",
       "        0.45474455],\n",
       "       [0.42699382, 0.52213508, 0.48166659, 0.45932484, 0.44704196,\n",
       "        0.49741608],\n",
       "       [0.46775281, 0.50575209, 0.45208415, 0.49666417, 0.49567685,\n",
       "        0.43390846],\n",
       "       [0.46960643, 0.54458642, 0.47088495, 0.48721927, 0.44947666,\n",
       "        0.46003684],\n",
       "       [0.49342582, 0.4957588 , 0.42869967, 0.44673672, 0.46315604,\n",
       "        0.49914744],\n",
       "       [0.46647838, 0.54671454, 0.46945107, 0.46757528, 0.44379368,\n",
       "        0.46911713],\n",
       "       [0.45594731, 0.51773304, 0.47354519, 0.47759867, 0.47528601,\n",
       "        0.46547723],\n",
       "       [0.44712302, 0.49222067, 0.4545452 , 0.46770176, 0.48652408,\n",
       "        0.50162685],\n",
       "       [0.47634766, 0.54399252, 0.48019615, 0.46795562, 0.47441104,\n",
       "        0.44967094],\n",
       "       [0.48430556, 0.51108694, 0.45219457, 0.48052922, 0.5107891 ,\n",
       "        0.47587454],\n",
       "       [0.46929118, 0.5261851 , 0.4961575 , 0.46493575, 0.4609997 ,\n",
       "        0.47054261],\n",
       "       [0.46480763, 0.52814895, 0.46272579, 0.4534184 , 0.48052183,\n",
       "        0.49483505],\n",
       "       [0.45785645, 0.48767439, 0.45822442, 0.4635514 , 0.47090989,\n",
       "        0.47034648],\n",
       "       [0.46253511, 0.5555622 , 0.45817396, 0.48106557, 0.45353854,\n",
       "        0.43861458],\n",
       "       [0.47040033, 0.54646796, 0.46919611, 0.44957855, 0.49096677,\n",
       "        0.48061699],\n",
       "       [0.51309699, 0.51028764, 0.43743595, 0.48321897, 0.48060837,\n",
       "        0.46902156],\n",
       "       [0.46401009, 0.50511622, 0.47709274, 0.47437164, 0.47966105,\n",
       "        0.46900472],\n",
       "       [0.50608319, 0.54996407, 0.45456731, 0.44745997, 0.44603011,\n",
       "        0.45583275],\n",
       "       [0.44565663, 0.53264284, 0.47351351, 0.49775517, 0.44360361,\n",
       "        0.48809853],\n",
       "       [0.42315543, 0.47263098, 0.44942576, 0.4864291 , 0.47541282,\n",
       "        0.48586342],\n",
       "       [0.47221828, 0.54835898, 0.48843202, 0.46158925, 0.47134739,\n",
       "        0.45926166],\n",
       "       [0.48406073, 0.48079327, 0.43882209, 0.508672  , 0.50187099,\n",
       "        0.4624238 ],\n",
       "       [0.46733817, 0.50903141, 0.45592698, 0.50498825, 0.50047147,\n",
       "        0.44432491],\n",
       "       [0.47474545, 0.49339876, 0.43083549, 0.42996705, 0.44483498,\n",
       "        0.4795278 ],\n",
       "       [0.47530368, 0.50635713, 0.43012556, 0.42880431, 0.42809975,\n",
       "        0.47600946],\n",
       "       [0.4926874 , 0.54957038, 0.47257799, 0.45620376, 0.46068442,\n",
       "        0.48516211],\n",
       "       [0.48210624, 0.50261599, 0.47280103, 0.50057912, 0.46917784,\n",
       "        0.47895983],\n",
       "       [0.48481458, 0.49891791, 0.46085075, 0.43867284, 0.46544617,\n",
       "        0.47355071],\n",
       "       [0.46348888, 0.56059217, 0.49542841, 0.48152971, 0.46511459,\n",
       "        0.45571536],\n",
       "       [0.47532102, 0.51852161, 0.45780215, 0.45268545, 0.48032457,\n",
       "        0.47164986],\n",
       "       [0.5238809 , 0.5575915 , 0.47289991, 0.44556028, 0.48188889,\n",
       "        0.47241399],\n",
       "       [0.44760609, 0.5286631 , 0.45181248, 0.4722659 , 0.47596261,\n",
       "        0.47391039],\n",
       "       [0.45775858, 0.5032894 , 0.44382244, 0.46545151, 0.4723202 ,\n",
       "        0.44871455],\n",
       "       [0.47448757, 0.49194068, 0.44202098, 0.46782753, 0.48138228,\n",
       "        0.4701831 ],\n",
       "       [0.47470054, 0.53054631, 0.47238037, 0.49896917, 0.48153198,\n",
       "        0.45183823],\n",
       "       [0.4763827 , 0.53991967, 0.44923103, 0.42667258, 0.50860482,\n",
       "        0.48604387],\n",
       "       [0.49568874, 0.52213103, 0.46533966, 0.43736988, 0.44602281,\n",
       "        0.49235797],\n",
       "       [0.47065687, 0.54121602, 0.50416374, 0.46245143, 0.47784451,\n",
       "        0.47412696],\n",
       "       [0.46857858, 0.51340711, 0.47179821, 0.45162755, 0.46546349,\n",
       "        0.47545514],\n",
       "       [0.47983754, 0.52726817, 0.45183939, 0.45559716, 0.48246858,\n",
       "        0.48778871],\n",
       "       [0.48924989, 0.55678779, 0.43220803, 0.4558706 , 0.48453772,\n",
       "        0.46575421],\n",
       "       [0.45898399, 0.54538   , 0.49790147, 0.46767458, 0.46107617,\n",
       "        0.45125574],\n",
       "       [0.45293832, 0.53105682, 0.46173319, 0.46028063, 0.46804872,\n",
       "        0.49801326],\n",
       "       [0.45758143, 0.54138064, 0.46014515, 0.46457624, 0.49195442,\n",
       "        0.46836194],\n",
       "       [0.48676905, 0.53107691, 0.46621612, 0.47870505, 0.45762473,\n",
       "        0.47187337],\n",
       "       [0.49730384, 0.49072808, 0.39851055, 0.41153347, 0.50110453,\n",
       "        0.45287147],\n",
       "       [0.46611995, 0.54227585, 0.45138815, 0.44350439, 0.44274518,\n",
       "        0.45040008],\n",
       "       [0.47570971, 0.53200871, 0.46565649, 0.4115572 , 0.42537498,\n",
       "        0.47840708],\n",
       "       [0.50131381, 0.54415292, 0.4583509 , 0.42476854, 0.43280053,\n",
       "        0.47090852],\n",
       "       [0.47194451, 0.5169968 , 0.43528625, 0.47530356, 0.47400486,\n",
       "        0.4425317 ],\n",
       "       [0.47077098, 0.49262601, 0.49333221, 0.46687374, 0.45186198,\n",
       "        0.48106518],\n",
       "       [0.5007633 , 0.51395613, 0.44709912, 0.43387923, 0.44396698,\n",
       "        0.4911088 ],\n",
       "       [0.48846519, 0.523592  , 0.46438399, 0.51079482, 0.48068225,\n",
       "        0.43713453],\n",
       "       [0.48432657, 0.51744878, 0.47468078, 0.43656129, 0.41879734,\n",
       "        0.49197266],\n",
       "       [0.45850924, 0.52577484, 0.4735198 , 0.48365244, 0.4658981 ,\n",
       "        0.47945765],\n",
       "       [0.47521225, 0.55688262, 0.46843949, 0.47487694, 0.45353201,\n",
       "        0.48118535],\n",
       "       [0.47774696, 0.52732468, 0.45992032, 0.45213845, 0.46232694,\n",
       "        0.48415327],\n",
       "       [0.46964294, 0.54554993, 0.43148842, 0.45562235, 0.47066644,\n",
       "        0.44251111],\n",
       "       [0.46754238, 0.51274645, 0.47780967, 0.47433805, 0.4762249 ,\n",
       "        0.44561008],\n",
       "       [0.4699294 , 0.54231232, 0.47788969, 0.48508984, 0.47610435,\n",
       "        0.47014925],\n",
       "       [0.49310011, 0.56191802, 0.51088595, 0.51053643, 0.42516202,\n",
       "        0.45387   ],\n",
       "       [0.43106785, 0.57832414, 0.44260615, 0.47360954, 0.4564189 ,\n",
       "        0.49095854],\n",
       "       [0.44939095, 0.52585417, 0.43927354, 0.40596235, 0.47550973,\n",
       "        0.52843595],\n",
       "       [0.47525784, 0.51475972, 0.46271408, 0.45563635, 0.44137689,\n",
       "        0.46854833],\n",
       "       [0.46933487, 0.48936546, 0.45389628, 0.50381303, 0.46850154,\n",
       "        0.46554857],\n",
       "       [0.42875847, 0.53941464, 0.47982952, 0.51776803, 0.46163964,\n",
       "        0.45499918],\n",
       "       [0.42753544, 0.5081647 , 0.48034415, 0.5030567 , 0.48889917,\n",
       "        0.44777921],\n",
       "       [0.46143186, 0.49056602, 0.44180024, 0.50963366, 0.50523919,\n",
       "        0.43277115],\n",
       "       [0.48442283, 0.54535979, 0.45930377, 0.51957613, 0.46579933,\n",
       "        0.45883515],\n",
       "       [0.44963408, 0.50188816, 0.47707662, 0.47406057, 0.43594417,\n",
       "        0.47267658],\n",
       "       [0.43506968, 0.55490881, 0.48707137, 0.47005868, 0.48003423,\n",
       "        0.46497616],\n",
       "       [0.43695009, 0.50275099, 0.44793841, 0.4822405 , 0.49040586,\n",
       "        0.44404107],\n",
       "       [0.49151051, 0.55473322, 0.46896946, 0.43367103, 0.45263019,\n",
       "        0.47512233],\n",
       "       [0.52153587, 0.52866054, 0.4719989 , 0.4616594 , 0.48134813,\n",
       "        0.47595835],\n",
       "       [0.46210715, 0.51785451, 0.50507832, 0.5330711 , 0.43408462,\n",
       "        0.46008357],\n",
       "       [0.50582474, 0.51680827, 0.45450017, 0.46833318, 0.48705265,\n",
       "        0.4393681 ],\n",
       "       [0.45197266, 0.5137108 , 0.5117538 , 0.48227155, 0.43719977,\n",
       "        0.47011372],\n",
       "       [0.47987667, 0.52648944, 0.44542307, 0.43694109, 0.48121837,\n",
       "        0.49035987],\n",
       "       [0.48009178, 0.52651763, 0.47222418, 0.48475349, 0.49802166,\n",
       "        0.44718394],\n",
       "       [0.4578011 , 0.51496553, 0.4385643 , 0.43560997, 0.45061591,\n",
       "        0.47760874],\n",
       "       [0.48404559, 0.50720733, 0.45874473, 0.44468635, 0.48177287,\n",
       "        0.46814021],\n",
       "       [0.48666608, 0.56579018, 0.46050197, 0.42487848, 0.44210246,\n",
       "        0.49571529],\n",
       "       [0.48065829, 0.50185019, 0.45366779, 0.47299886, 0.45221475,\n",
       "        0.47241315],\n",
       "       [0.48329136, 0.53326511, 0.45674068, 0.47023782, 0.44912133,\n",
       "        0.46083251],\n",
       "       [0.46865654, 0.51741725, 0.46684951, 0.4856135 , 0.4624289 ,\n",
       "        0.46133837],\n",
       "       [0.48995325, 0.49048409, 0.44879675, 0.45015669, 0.46200073,\n",
       "        0.47249511],\n",
       "       [0.52953452, 0.52333188, 0.4498187 , 0.46421704, 0.4624503 ,\n",
       "        0.45137507],\n",
       "       [0.50773495, 0.51530862, 0.47736156, 0.43230647, 0.46388403,\n",
       "        0.50414723],\n",
       "       [0.46151555, 0.53061706, 0.47748917, 0.48500648, 0.45634139,\n",
       "        0.43478712],\n",
       "       [0.46614709, 0.52917117, 0.45579827, 0.47543275, 0.48012266,\n",
       "        0.47961795],\n",
       "       [0.45807052, 0.52002937, 0.45499119, 0.44896552, 0.46476796,\n",
       "        0.47082648],\n",
       "       [0.45259589, 0.49852532, 0.45917645, 0.48104152, 0.46029204,\n",
       "        0.45349896],\n",
       "       [0.46662983, 0.51951444, 0.45849261, 0.4408268 , 0.42738339,\n",
       "        0.48080409],\n",
       "       [0.45579556, 0.50282317, 0.45950371, 0.47844774, 0.47639495,\n",
       "        0.47432992],\n",
       "       [0.47569039, 0.57381368, 0.47806606, 0.48962626, 0.4607124 ,\n",
       "        0.48185158],\n",
       "       [0.5000878 , 0.56585401, 0.48190781, 0.47370955, 0.47725281,\n",
       "        0.4560945 ],\n",
       "       [0.46689421, 0.4944357 , 0.4609257 , 0.50329983, 0.47436908,\n",
       "        0.4146333 ],\n",
       "       [0.4902429 , 0.53204668, 0.45147935, 0.41868025, 0.44752443,\n",
       "        0.48386735],\n",
       "       [0.4577179 , 0.53251082, 0.46913141, 0.44630891, 0.44289571,\n",
       "        0.46485284],\n",
       "       [0.48842305, 0.54249859, 0.46627024, 0.41571289, 0.40667111,\n",
       "        0.50906968],\n",
       "       [0.47699583, 0.55130476, 0.47795895, 0.45484844, 0.46410024,\n",
       "        0.48475075],\n",
       "       [0.4777768 , 0.49559736, 0.45848221, 0.50793403, 0.48996371,\n",
       "        0.47289148],\n",
       "       [0.47802666, 0.52326071, 0.46166712, 0.45682898, 0.47848284,\n",
       "        0.46067825],\n",
       "       [0.49541566, 0.53959394, 0.45993102, 0.44441128, 0.43380719,\n",
       "        0.46346244],\n",
       "       [0.44958612, 0.53995562, 0.50379956, 0.4408932 , 0.43901467,\n",
       "        0.48536476],\n",
       "       [0.44533637, 0.52979088, 0.48476925, 0.48063439, 0.43192771,\n",
       "        0.47797018],\n",
       "       [0.45416522, 0.51934803, 0.48406672, 0.44287217, 0.47035703,\n",
       "        0.48399791],\n",
       "       [0.50190234, 0.5690065 , 0.51935261, 0.50196117, 0.4479517 ,\n",
       "        0.45594567],\n",
       "       [0.4919017 , 0.54051226, 0.47826374, 0.45271099, 0.49644819,\n",
       "        0.46088335],\n",
       "       [0.47645724, 0.52398932, 0.46115685, 0.47656274, 0.47134337,\n",
       "        0.45251241],\n",
       "       [0.48206472, 0.52737248, 0.47642058, 0.46992791, 0.45556271,\n",
       "        0.50513309],\n",
       "       [0.51832706, 0.54212147, 0.43375435, 0.44319463, 0.4285799 ,\n",
       "        0.45933244],\n",
       "       [0.46197283, 0.50433975, 0.45637485, 0.45434254, 0.47735474,\n",
       "        0.47624967],\n",
       "       [0.46599525, 0.54306692, 0.47011125, 0.45354831, 0.51997817,\n",
       "        0.42764801],\n",
       "       [0.42428538, 0.47878182, 0.43792602, 0.49788326, 0.48370591,\n",
       "        0.42974257],\n",
       "       [0.50374711, 0.51777905, 0.45866671, 0.43246129, 0.46458942,\n",
       "        0.48611683],\n",
       "       [0.48746276, 0.54745799, 0.48524955, 0.47436586, 0.43669078,\n",
       "        0.47875729],\n",
       "       [0.47050837, 0.52404583, 0.45681745, 0.46895245, 0.49507341,\n",
       "        0.44661087],\n",
       "       [0.47698277, 0.5363028 , 0.46863386, 0.45455033, 0.46663427,\n",
       "        0.4664897 ],\n",
       "       [0.4784849 , 0.51166505, 0.45947659, 0.45809639, 0.4470259 ,\n",
       "        0.47556451],\n",
       "       [0.4908272 , 0.50088829, 0.41842246, 0.4515588 , 0.49246138,\n",
       "        0.47986421],\n",
       "       [0.45756802, 0.49883258, 0.47836092, 0.47969973, 0.45437029,\n",
       "        0.46646827],\n",
       "       [0.49762124, 0.53664261, 0.45843452, 0.47969446, 0.48273751,\n",
       "        0.45729771],\n",
       "       [0.48208085, 0.54543799, 0.4644753 , 0.52539653, 0.46833089,\n",
       "        0.46051756],\n",
       "       [0.46728557, 0.56951034, 0.48883322, 0.42381424, 0.42558292,\n",
       "        0.48510352],\n",
       "       [0.48222685, 0.54683363, 0.47739145, 0.4566344 , 0.44813994,\n",
       "        0.50531983],\n",
       "       [0.47719103, 0.53658903, 0.47612557, 0.45690998, 0.45985416,\n",
       "        0.46392807],\n",
       "       [0.47813341, 0.57275164, 0.48541173, 0.46187845, 0.45264104,\n",
       "        0.45101333]])"
      ]
     },
     "execution_count": 46,
     "metadata": {},
     "output_type": "execute_result"
    }
   ],
   "source": [
    "np.array(model_train_result)"
   ]
  },
  {
   "cell_type": "code",
   "execution_count": 40,
   "metadata": {},
   "outputs": [
    {
     "data": {
      "text/plain": [
       "array([[False,  True, False, False, False, False],\n",
       "       [ True,  True, False, False, False, False],\n",
       "       [False,  True, False, False, False, False],\n",
       "       [False, False, False, False, False, False],\n",
       "       [False,  True, False, False, False, False],\n",
       "       [ True,  True, False, False, False, False],\n",
       "       [False,  True, False, False, False, False],\n",
       "       [False,  True, False,  True, False, False],\n",
       "       [False,  True, False, False, False, False],\n",
       "       [False, False, False,  True,  True, False],\n",
       "       [False,  True, False, False, False, False],\n",
       "       [False,  True, False, False, False, False],\n",
       "       [False, False, False,  True, False, False],\n",
       "       [False,  True, False, False, False, False],\n",
       "       [False,  True, False, False, False, False],\n",
       "       [False,  True, False, False,  True, False]])"
      ]
     },
     "execution_count": 40,
     "metadata": {},
     "output_type": "execute_result"
    }
   ],
   "source": [
    "ps.detach().cpu().numpy() > 0.5"
   ]
  },
  {
   "cell_type": "code",
   "execution_count": null,
   "metadata": {
    "collapsed": true
   },
   "outputs": [],
   "source": []
  }
 ],
 "metadata": {
  "kernelspec": {
   "display_name": "Python 3.7.6 64-bit ('torch37': conda)",
   "language": "python",
   "name": "python376jvsc74a57bd09372f3443f0100fdfc96191f716ab0c9babbafd749985a282374d5aa08e997ff"
  },
  "language_info": {
   "codemirror_mode": {
    "name": "ipython",
    "version": 3
   },
   "file_extension": ".py",
   "mimetype": "text/x-python",
   "name": "python",
   "nbconvert_exporter": "python",
   "pygments_lexer": "ipython3",
   "version": "3.7.6"
  }
 },
 "nbformat": 4,
 "nbformat_minor": 2
}
