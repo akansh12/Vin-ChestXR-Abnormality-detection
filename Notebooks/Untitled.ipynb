{
 "cells": [
  {
   "cell_type": "code",
   "execution_count": 2,
   "id": "7e892ee7",
   "metadata": {
    "ExecuteTime": {
     "end_time": "2021-11-14T14:30:16.158729Z",
     "start_time": "2021-11-14T14:30:16.122802Z"
    }
   },
   "outputs": [],
   "source": [
    "import numpy as np\n",
    "import pandas as pd\n",
    "import warnings\n",
    "warnings.filterwarnings('ignore')\n",
    "import os\n",
    "import torch\n",
    "import torch.nn as nn\n",
    "from torchvision import transforms, models, datasets\n",
    "from torch.nn import functional as F\n",
    "import cv2\n",
    "from torch.utils.data import DataLoader, Dataset\n",
    "from tqdm.auto import tqdm\n",
    "import torch.optim as optim"
   ]
  },
  {
   "cell_type": "code",
   "execution_count": 3,
   "id": "6a435667",
   "metadata": {
    "ExecuteTime": {
     "end_time": "2021-11-14T14:30:36.839883Z",
     "start_time": "2021-11-14T14:30:36.543598Z"
    }
   },
   "outputs": [],
   "source": [
    "from collections import OrderedDict\n",
    "import matplotlib.pyplot as plt\n",
    "from PIL import Image"
   ]
  },
  {
   "cell_type": "code",
   "execution_count": 4,
   "id": "90e58daf",
   "metadata": {
    "ExecuteTime": {
     "end_time": "2021-11-14T14:30:37.043667Z",
     "start_time": "2021-11-14T14:30:36.845644Z"
    }
   },
   "outputs": [],
   "source": [
    "import timm"
   ]
  },
  {
   "cell_type": "markdown",
   "id": "8c0461f6",
   "metadata": {},
   "source": [
    "### Data path"
   ]
  },
  {
   "cell_type": "code",
   "execution_count": 5,
   "id": "2148f30e",
   "metadata": {
    "ExecuteTime": {
     "end_time": "2021-11-14T14:30:52.034169Z",
     "start_time": "2021-11-14T14:30:52.028790Z"
    }
   },
   "outputs": [],
   "source": [
    "labels_csv = {'train': \"/media/brats/DRIVE1/akansh/Vin-ChestXR-Abnormality-detection/Data/Processed/image_labels_train.csv\",\n",
    "             'test': \"/media/brats/DRIVE1/akansh/Vin-ChestXR-Abnormality-detection/Data/Processed/image_labels_test.csv\"\n",
    "             }\n",
    "\n",
    "data_dir = {'train': \"/media/brats/mirlproject2/vinbigdata-chest-xray-abnormalities-detection/vinbig_png/\",\n",
    "           'test': \"/media/brats/mirlproject2/vinbigdata-chest-xray-abnormalities-detection/test_png/\"}"
   ]
  },
  {
   "cell_type": "markdown",
   "id": "3c61f8da",
   "metadata": {},
   "source": [
    "### Dataset class"
   ]
  },
  {
   "cell_type": "code",
   "execution_count": null,
   "id": "399fda68",
   "metadata": {},
   "outputs": [],
   "source": [
    "class Vin_big_dataset(Dataset):\n",
    "    def __init__(self, image_loc, label_loc, transforms, data_type = 'train'):\n",
    "        global_labels = ['Pleural effusion', 'Lung tumor', 'Pneumonia', 'Tuberculosis', 'Other diseases', 'No finding']\n",
    "        \n",
    "        if data_type == 'train':\n",
    "            label_df = pd.read_csv(label_loc)\n",
    "            label_df['labels'] = label_df['image_id'] +'_'+ label_df['rad_id']\n",
    "            label_df.set_index(\"labels\", inplace = True)\n",
    "            filenames = label_df.index.values.tolist()\n",
    "            \n",
    "            self.full_filenames = [os.path.join(image_loc, i.split('_')[0]+'.png') for i in filenames]\n",
    "            self.labels = []\n",
    "            for i in tqdm(filenames):\n",
    "                self.labels.append(label_df[global_labels].loc[i].values.tolist())         \n",
    "            self.labels = torch.tensor(self.labels)\n",
    "        if data_type == 'test':                     \n",
    "            filenames = os.listdir(image_loc)\n",
    "            self.full_filenames = [os.path.join(image_loc, i) for i in filenames]\n",
    "            label_df = pd.read_csv(label_loc)\n",
    "            label_df.set_index(\"image_id\", inplace = True)\n",
    "            self.labels = [label_df[global_labels].loc[filename[:-4]].values for filename in filenames]\n",
    "            \n",
    "        self.transforms = transforms\n",
    "#         self.data_type = data_type\n",
    "    def __len__(self):\n",
    "        return len(self.full_filenames)\n",
    "    \n",
    "    def __getitem__(self, idx):\n",
    "        image = Image.open(self.full_filenames[idx])\n",
    "        image = np.array(image, dtype = 'uint8')\n",
    "        image = self.transforms(image)\n",
    "        \n",
    "        return image, self.labels[idx]\n",
    "    \n",
    "            "
   ]
  }
 ],
 "metadata": {
  "kernelspec": {
   "display_name": "Python 3",
   "language": "python",
   "name": "python3"
  },
  "language_info": {
   "codemirror_mode": {
    "name": "ipython",
    "version": 3
   },
   "file_extension": ".py",
   "mimetype": "text/x-python",
   "name": "python",
   "nbconvert_exporter": "python",
   "pygments_lexer": "ipython3",
   "version": "3.8.12"
  },
  "toc": {
   "base_numbering": 1,
   "nav_menu": {},
   "number_sections": true,
   "sideBar": true,
   "skip_h1_title": false,
   "title_cell": "Table of Contents",
   "title_sidebar": "Contents",
   "toc_cell": false,
   "toc_position": {},
   "toc_section_display": true,
   "toc_window_display": false
  },
  "varInspector": {
   "cols": {
    "lenName": 16,
    "lenType": 16,
    "lenVar": 40
   },
   "kernels_config": {
    "python": {
     "delete_cmd_postfix": "",
     "delete_cmd_prefix": "del ",
     "library": "var_list.py",
     "varRefreshCmd": "print(var_dic_list())"
    },
    "r": {
     "delete_cmd_postfix": ") ",
     "delete_cmd_prefix": "rm(",
     "library": "var_list.r",
     "varRefreshCmd": "cat(var_dic_list()) "
    }
   },
   "types_to_exclude": [
    "module",
    "function",
    "builtin_function_or_method",
    "instance",
    "_Feature"
   ],
   "window_display": false
  }
 },
 "nbformat": 4,
 "nbformat_minor": 5
}
