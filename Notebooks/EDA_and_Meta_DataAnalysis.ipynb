{
 "cells": [
  {
   "cell_type": "code",
   "execution_count": 1,
   "metadata": {},
   "outputs": [],
   "source": [
    "import pandas as pd\n",
    "import numpy as np\n",
    "import matplotlib.pyplot as plt\n",
    "import os\n",
    "import sys"
   ]
  },
  {
   "cell_type": "code",
   "execution_count": 2,
   "metadata": {},
   "outputs": [],
   "source": [
    "sys.path.append(\"../src\")"
   ]
  },
  {
   "cell_type": "code",
   "execution_count": 3,
   "metadata": {},
   "outputs": [],
   "source": [
    "from utils import read_xray\n",
    "from glob import glob\n",
    "from tqdm.notebook import tqdm\n",
    "import warnings\n",
    "warnings.filterwarnings(\"ignore\")"
   ]
  },
  {
   "cell_type": "markdown",
   "metadata": {},
   "source": [
    "### Understanding Reading DICOM files"
   ]
  },
  {
   "cell_type": "code",
   "execution_count": 4,
   "metadata": {},
   "outputs": [],
   "source": [
    "import pydicom\n",
    "from pydicom.pixel_data_handlers.util import apply_voi_lut"
   ]
  },
  {
   "cell_type": "code",
   "execution_count": null,
   "metadata": {
    "collapsed": true
   },
   "outputs": [],
   "source": [
    "def read_xray(path, voi_lut = True, fix_monochrome = True):\n",
    "    dicom = pydicom.read_file(path)\n",
    "    \n",
    "    if voi_lut:\n",
    "        data = apply_voi_lut(dicom.pixel_array, dicom)\n",
    "    else:\n",
    "        data = dicom.pixel_array\n",
    "               \n",
    "    if fix_monochrome and dicom.PhotometricInterpretation == \"MONOCHROME1\":\n",
    "        data = np.amax(data) - data\n",
    "        \n",
    "    data = data - np.min(data)\n",
    "    data = data / np.max(data)\n",
    "    data = (data * 255).astype(np.uint8)\n",
    "        \n",
    "    return data\n"
   ]
  },
  {
   "cell_type": "code",
   "execution_count": 8,
   "metadata": {
    "collapsed": true
   },
   "outputs": [],
   "source": [
    "#Monochrome1\n",
    "dicom_1 = pydicom.read_file(\"/scratch/scratch6/akansh12/DeepEXrays/physionet.org/files/vindr-cxr/1.0.0/train/000434271f63a053c4128a0ba6352c7f.dicom\")\n",
    "#Monochrome2\n",
    "dicom_2 = pydicom.read_file(\"/scratch/scratch6/akansh12/DeepEXrays/physionet.org/files/vindr-cxr/1.0.0/train/001d127bad87592efe45a5c7678f8b8d.dicom\")\n"
   ]
  },
  {
   "cell_type": "code",
   "execution_count": 9,
   "metadata": {},
   "outputs": [
    {
     "data": {
      "text/plain": [
       "Dataset.file_meta -------------------------------\n",
       "(0002, 0000) File Meta Information Group Length  UL: 156\n",
       "(0002, 0001) File Meta Information Version       OB: b'\\x00\\x01'\n",
       "(0002, 0002) Media Storage SOP Class UID         UI: Digital X-Ray Image Storage - For Presentation\n",
       "(0002, 0003) Media Storage SOP Instance UID      UI: 000434271f63a053c4128a0ba6352c7f\n",
       "(0002, 0010) Transfer Syntax UID                 UI: Implicit VR Little Endian\n",
       "(0002, 0012) Implementation Class UID            UI: 1.2.3.4\n",
       "(0002, 0013) Implementation Version Name         SH: ''\n",
       "(0002, 0016) Source Application Entity Title     AE: 'VITREA1'\n",
       "-------------------------------------------------\n",
       "(0010, 0040) Patient's Sex                       CS: 'O'\n",
       "(0028, 0002) Samples per Pixel                   US: 1\n",
       "(0028, 0004) Photometric Interpretation          CS: 'MONOCHROME1'\n",
       "(0028, 0010) Rows                                US: 2836\n",
       "(0028, 0011) Columns                             US: 2336\n",
       "(0028, 0030) Pixel Spacing                       DS: [0.15, 0.15]\n",
       "(0028, 0100) Bits Allocated                      US: 16\n",
       "(0028, 0101) Bits Stored                         US: 12\n",
       "(0028, 0102) High Bit                            US: 11\n",
       "(0028, 0103) Pixel Representation                US: 0\n",
       "(0028, 1050) Window Center                       DS: '2047.0'\n",
       "(0028, 1051) Window Width                        DS: '4095.0'\n",
       "(0028, 1052) Rescale Intercept                   DS: '0.0'\n",
       "(0028, 1053) Rescale Slope                       DS: '1.0'\n",
       "(0028, 2110) Lossy Image Compression             CS: '00'\n",
       "(7fe0, 0010) Pixel Data                          OW: Array of 13249792 elements"
      ]
     },
     "execution_count": 9,
     "metadata": {},
     "output_type": "execute_result"
    }
   ],
   "source": [
    "dicom_1"
   ]
  },
  {
   "cell_type": "code",
   "execution_count": 10,
   "metadata": {},
   "outputs": [
    {
     "data": {
      "text/plain": [
       "Dataset.file_meta -------------------------------\n",
       "(0002, 0000) File Meta Information Group Length  UL: 154\n",
       "(0002, 0001) File Meta Information Version       OB: b'\\x00\\x01'\n",
       "(0002, 0002) Media Storage SOP Class UID         UI: Computed Radiography Image Storage\n",
       "(0002, 0003) Media Storage SOP Instance UID      UI: 001d127bad87592efe45a5c7678f8b8d\n",
       "(0002, 0010) Transfer Syntax UID                 UI: Implicit VR Little Endian\n",
       "(0002, 0012) Implementation Class UID            UI: 1.2.3.4\n",
       "(0002, 0013) Implementation Version Name         SH: 'OFFIS_DCMTK_360'\n",
       "-------------------------------------------------\n",
       "(0010, 0040) Patient's Sex                       CS: 'F'\n",
       "(0010, 1010) Patient's Age                       AS: '058Y'\n",
       "(0028, 0002) Samples per Pixel                   US: 1\n",
       "(0028, 0004) Photometric Interpretation          CS: 'MONOCHROME2'\n",
       "(0028, 0008) Number of Frames                    IS: '1'\n",
       "(0028, 0010) Rows                                US: 3072\n",
       "(0028, 0011) Columns                             US: 3072\n",
       "(0028, 0030) Pixel Spacing                       DS: [0.140, 0.140]\n",
       "(0028, 0034) Pixel Aspect Ratio                  IS: None\n",
       "(0028, 0100) Bits Allocated                      US: 16\n",
       "(0028, 0101) Bits Stored                         US: 14\n",
       "(0028, 0102) High Bit                            US: 13\n",
       "(0028, 0103) Pixel Representation                US: 0\n",
       "(0028, 1050) Window Center                       DS: '8807.0'\n",
       "(0028, 1051) Window Width                        DS: '11696.0'\n",
       "(0028, 2110) Lossy Image Compression             CS: ''\n",
       "(0028, 2112) Lossy Image Compression Ratio       DS: None\n",
       "(0028, 2114) Lossy Image Compression Method      CS: ''\n",
       "(7fe0, 0010) Pixel Data                          OW: Array of 18874368 elements"
      ]
     },
     "execution_count": 10,
     "metadata": {},
     "output_type": "execute_result"
    }
   ],
   "source": [
    "dicom_2"
   ]
  },
  {
   "cell_type": "code",
   "execution_count": 11,
   "metadata": {},
   "outputs": [
    {
     "data": {
      "text/plain": [
       "array([[2871, 2858, 2833, ..., 3973, 3977, 3988],\n",
       "       [3064, 3033, 3022, ..., 3999, 4003, 4002],\n",
       "       [3241, 3207, 3193, ..., 4014, 4013, 4016],\n",
       "       ...,\n",
       "       [4087, 4089, 4083, ..., 4089, 4095, 4093],\n",
       "       [4087, 4089, 4082, ..., 4088, 4095, 4093],\n",
       "       [4087, 4090, 4083, ..., 4089, 4095, 4093]], dtype=uint16)"
      ]
     },
     "execution_count": 11,
     "metadata": {},
     "output_type": "execute_result"
    }
   ],
   "source": [
    "dicom_1.pixel_array"
   ]
  },
  {
   "cell_type": "code",
   "execution_count": 13,
   "metadata": {},
   "outputs": [
    {
     "data": {
      "text/plain": [
       "array([[0, 0, 0, ..., 0, 0, 0],\n",
       "       [0, 0, 0, ..., 0, 0, 0],\n",
       "       [0, 0, 3, ..., 3, 0, 0],\n",
       "       ...,\n",
       "       [0, 0, 3, ..., 3, 0, 0],\n",
       "       [0, 0, 0, ..., 0, 0, 0],\n",
       "       [0, 0, 0, ..., 0, 0, 0]], dtype=uint16)"
      ]
     },
     "execution_count": 13,
     "metadata": {},
     "output_type": "execute_result"
    }
   ],
   "source": [
    "dicom_2.pixel_array"
   ]
  },
  {
   "cell_type": "code",
   "execution_count": 15,
   "metadata": {},
   "outputs": [
    {
     "data": {
      "text/plain": [
       "<matplotlib.image.AxesImage at 0x7f5bb97b97d0>"
      ]
     },
     "execution_count": 15,
     "metadata": {},
     "output_type": "execute_result"
    },
    {
     "data": {
      "image/png": "[encoded data removed]",
      "text/plain": [
       "<Figure size 432x288 with 1 Axes>"
      ]
     },
     "metadata": {
      "needs_background": "light"
     },
     "output_type": "display_data"
    }
   ],
   "source": [
    "plt.imshow(dicom_1.pixel_array, cmap = 'gray')"
   ]
  },
  {
   "cell_type": "code",
   "execution_count": 16,
   "metadata": {},
   "outputs": [
    {
     "data": {
      "text/plain": [
       "<matplotlib.image.AxesImage at 0x7f5bb19a01d0>"
      ]
     },
     "execution_count": 16,
     "metadata": {},
     "output_type": "execute_result"
    },
    {
     "data": {
      "image/png": "[encoded data removed]",
      "text/plain": [
       "<Figure size 432x288 with 1 Axes>"
      ]
     },
     "metadata": {
      "needs_background": "light"
     },
     "output_type": "display_data"
    }
   ],
   "source": [
    "plt.imshow(dicom_2.pixel_array, cmap = 'gray')"
   ]
  },
  {
   "cell_type": "code",
   "execution_count": 17,
   "metadata": {
    "collapsed": true
   },
   "outputs": [],
   "source": [
    "#VOI is value of interst and lut is lock up table\n",
    "data_1 = apply_voi_lut(dicom_1.pixel_array, dicom_1)\n",
    "data_2 = apply_voi_lut(dicom_2.pixel_array, dicom_2)"
   ]
  },
  {
   "cell_type": "code",
   "execution_count": 20,
   "metadata": {},
   "outputs": [
    {
     "data": {
      "text/plain": [
       "<matplotlib.image.AxesImage at 0x7f5bab180710>"
      ]
     },
     "execution_count": 20,
     "metadata": {},
     "output_type": "execute_result"
    },
    {
     "data": {
      "image/png": "[encoded data removed]",
      "text/plain": [
       "<Figure size 432x288 with 1 Axes>"
      ]
     },
     "metadata": {
      "needs_background": "light"
     },
     "output_type": "display_data"
    }
   ],
   "source": [
    "plt.imshow(data_1, cmap = 'gray')"
   ]
  },
  {
   "cell_type": "code",
   "execution_count": 21,
   "metadata": {},
   "outputs": [
    {
     "data": {
      "text/plain": [
       "<matplotlib.image.AxesImage at 0x7f5bab11de50>"
      ]
     },
     "execution_count": 21,
     "metadata": {},
     "output_type": "execute_result"
    },
    {
     "data": {
      "image/png": "[encoded data removed]",
      "text/plain": [
       "<Figure size 432x288 with 1 Axes>"
      ]
     },
     "metadata": {
      "needs_background": "light"
     },
     "output_type": "display_data"
    }
   ],
   "source": [
    "plt.imshow(data_2, cmap = 'gray')"
   ]
  },
  {
   "cell_type": "code",
   "execution_count": 23,
   "metadata": {},
   "outputs": [
    {
     "data": {
      "text/plain": [
       "<matplotlib.image.AxesImage at 0x7f5bab016a50>"
      ]
     },
     "execution_count": 23,
     "metadata": {},
     "output_type": "execute_result"
    },
    {
     "data": {
      "image/png": "[encoded data removed]",
      "text/plain": [
       "<Figure size 432x288 with 1 Axes>"
      ]
     },
     "metadata": {
      "needs_background": "light"
     },
     "output_type": "display_data"
    }
   ],
   "source": [
    "#fixing MONOChrome\n",
    "plt.imshow(np.amax(data_1) - data_1, cmap = 'gray')"
   ]
  },
  {
   "cell_type": "code",
   "execution_count": 24,
   "metadata": {},
   "outputs": [
    {
     "data": {
      "text/plain": [
       "4095.0"
      ]
     },
     "execution_count": 24,
     "metadata": {},
     "output_type": "execute_result"
    }
   ],
   "source": [
    "np.amax(data_1)"
   ]
  },
  {
   "cell_type": "code",
   "execution_count": 26,
   "metadata": {},
   "outputs": [
    {
     "data": {
      "text/plain": [
       "0.0"
      ]
     },
     "execution_count": 26,
     "metadata": {},
     "output_type": "execute_result"
    }
   ],
   "source": [
    "np.min(data_1)"
   ]
  },
  {
   "cell_type": "code",
   "execution_count": null,
   "metadata": {
    "collapsed": true
   },
   "outputs": [],
   "source": []
  },
  {
   "cell_type": "code",
   "execution_count": null,
   "metadata": {
    "collapsed": true
   },
   "outputs": [],
   "source": []
  },
  {
   "cell_type": "code",
   "execution_count": null,
   "metadata": {
    "collapsed": true
   },
   "outputs": [],
   "source": []
  },
  {
   "cell_type": "code",
   "execution_count": null,
   "metadata": {
    "collapsed": true
   },
   "outputs": [],
   "source": []
  },
  {
   "cell_type": "markdown",
   "metadata": {},
   "source": [
    "### Annotations Path"
   ]
  },
  {
   "cell_type": "code",
   "execution_count": 5,
   "metadata": {},
   "outputs": [],
   "source": [
    "train_local_annotations_path = \"/scratch/scratch6/akansh12/DeepEXrays/physionet.org/files/vindr-cxr/1.0.0/annotations/annotations_train.csv\"\n",
    "train_global_annotations_path = \"/scratch/scratch6/akansh12/DeepEXrays/physionet.org/files/vindr-cxr/1.0.0/annotations/image_labels_train.csv\"\n",
    "\n",
    "test_local_annotations_path = \"/scratch/scratch6/akansh12/DeepEXrays/physionet.org/files/vindr-cxr/1.0.0/annotations/annotations_test.csv\"\n",
    "test_global_annotations_path = \"/scratch/scratch6/akansh12/DeepEXrays/physionet.org/files/vindr-cxr/1.0.0/annotations/image_labels_test.csv\""
   ]
  },
  {
   "cell_type": "code",
   "execution_count": 6,
   "metadata": {},
   "outputs": [],
   "source": [
    "train_local_annotations = pd.read_csv(train_local_annotations_path)\n",
    "train_global_annotations = pd.read_csv(train_global_annotations_path)\n",
    "test_local_annotations = pd.read_csv(test_local_annotations_path)\n",
    "test_global_annotations = pd.read_csv(test_global_annotations_path)"
   ]
  },
  {
   "cell_type": "code",
   "execution_count": 7,
   "metadata": {},
   "outputs": [
    {
     "name": "stdout",
     "output_type": "stream",
     "text": [
      "(45000, 30)\n"
     ]
    },
    {
     "data": {
      "text/html": [
       "<div>\n",
       "<style scoped>\n",
       "    .dataframe tbody tr th:only-of-type {\n",
       "        vertical-align: middle;\n",
       "    }\n",
       "\n",
       "    .dataframe tbody tr th {\n",
       "        vertical-align: top;\n",
       "    }\n",
       "\n",
       "    .dataframe thead th {\n",
       "        text-align: right;\n",
       "    }\n",
       "</style>\n",
       "<table border=\"1\" class=\"dataframe\">\n",
       "  <thead>\n",
       "    <tr style=\"text-align: right;\">\n",
       "      <th></th>\n",
       "      <th>image_id</th>\n",
       "      <th>rad_id</th>\n",
       "      <th>Aortic enlargement</th>\n",
       "      <th>Atelectasis</th>\n",
       "      <th>Calcification</th>\n",
       "      <th>Cardiomegaly</th>\n",
       "      <th>Clavicle fracture</th>\n",
       "      <th>Consolidation</th>\n",
       "      <th>Edema</th>\n",
       "      <th>Emphysema</th>\n",
       "      <th>...</th>\n",
       "      <th>Pneumothorax</th>\n",
       "      <th>Pulmonary fibrosis</th>\n",
       "      <th>Rib fracture</th>\n",
       "      <th>Other lesion</th>\n",
       "      <th>COPD</th>\n",
       "      <th>Lung tumor</th>\n",
       "      <th>Pneumonia</th>\n",
       "      <th>Tuberculosis</th>\n",
       "      <th>Other diseases</th>\n",
       "      <th>No finding</th>\n",
       "    </tr>\n",
       "  </thead>\n",
       "  <tbody>\n",
       "    <tr>\n",
       "      <th>0</th>\n",
       "      <td>000434271f63a053c4128a0ba6352c7f</td>\n",
       "      <td>R2</td>\n",
       "      <td>0</td>\n",
       "      <td>0</td>\n",
       "      <td>0</td>\n",
       "      <td>0</td>\n",
       "      <td>0</td>\n",
       "      <td>0</td>\n",
       "      <td>0</td>\n",
       "      <td>0</td>\n",
       "      <td>...</td>\n",
       "      <td>0</td>\n",
       "      <td>0</td>\n",
       "      <td>0</td>\n",
       "      <td>0</td>\n",
       "      <td>0</td>\n",
       "      <td>0</td>\n",
       "      <td>0</td>\n",
       "      <td>0</td>\n",
       "      <td>0</td>\n",
       "      <td>1</td>\n",
       "    </tr>\n",
       "    <tr>\n",
       "      <th>1</th>\n",
       "      <td>000434271f63a053c4128a0ba6352c7f</td>\n",
       "      <td>R3</td>\n",
       "      <td>0</td>\n",
       "      <td>0</td>\n",
       "      <td>0</td>\n",
       "      <td>0</td>\n",
       "      <td>0</td>\n",
       "      <td>0</td>\n",
       "      <td>0</td>\n",
       "      <td>0</td>\n",
       "      <td>...</td>\n",
       "      <td>0</td>\n",
       "      <td>0</td>\n",
       "      <td>0</td>\n",
       "      <td>0</td>\n",
       "      <td>0</td>\n",
       "      <td>0</td>\n",
       "      <td>0</td>\n",
       "      <td>0</td>\n",
       "      <td>0</td>\n",
       "      <td>1</td>\n",
       "    </tr>\n",
       "    <tr>\n",
       "      <th>2</th>\n",
       "      <td>000434271f63a053c4128a0ba6352c7f</td>\n",
       "      <td>R6</td>\n",
       "      <td>0</td>\n",
       "      <td>0</td>\n",
       "      <td>0</td>\n",
       "      <td>0</td>\n",
       "      <td>0</td>\n",
       "      <td>0</td>\n",
       "      <td>0</td>\n",
       "      <td>0</td>\n",
       "      <td>...</td>\n",
       "      <td>0</td>\n",
       "      <td>0</td>\n",
       "      <td>0</td>\n",
       "      <td>0</td>\n",
       "      <td>0</td>\n",
       "      <td>0</td>\n",
       "      <td>0</td>\n",
       "      <td>0</td>\n",
       "      <td>0</td>\n",
       "      <td>1</td>\n",
       "    </tr>\n",
       "    <tr>\n",
       "      <th>3</th>\n",
       "      <td>00053190460d56c53cc3e57321387478</td>\n",
       "      <td>R11</td>\n",
       "      <td>0</td>\n",
       "      <td>0</td>\n",
       "      <td>0</td>\n",
       "      <td>0</td>\n",
       "      <td>0</td>\n",
       "      <td>0</td>\n",
       "      <td>0</td>\n",
       "      <td>0</td>\n",
       "      <td>...</td>\n",
       "      <td>0</td>\n",
       "      <td>0</td>\n",
       "      <td>0</td>\n",
       "      <td>0</td>\n",
       "      <td>0</td>\n",
       "      <td>0</td>\n",
       "      <td>0</td>\n",
       "      <td>0</td>\n",
       "      <td>0</td>\n",
       "      <td>1</td>\n",
       "    </tr>\n",
       "    <tr>\n",
       "      <th>4</th>\n",
       "      <td>00053190460d56c53cc3e57321387478</td>\n",
       "      <td>R2</td>\n",
       "      <td>0</td>\n",
       "      <td>0</td>\n",
       "      <td>0</td>\n",
       "      <td>0</td>\n",
       "      <td>0</td>\n",
       "      <td>0</td>\n",
       "      <td>0</td>\n",
       "      <td>0</td>\n",
       "      <td>...</td>\n",
       "      <td>0</td>\n",
       "      <td>0</td>\n",
       "      <td>0</td>\n",
       "      <td>0</td>\n",
       "      <td>0</td>\n",
       "      <td>0</td>\n",
       "      <td>0</td>\n",
       "      <td>0</td>\n",
       "      <td>0</td>\n",
       "      <td>1</td>\n",
       "    </tr>\n",
       "    <tr>\n",
       "      <th>5</th>\n",
       "      <td>00053190460d56c53cc3e57321387478</td>\n",
       "      <td>R7</td>\n",
       "      <td>0</td>\n",
       "      <td>0</td>\n",
       "      <td>0</td>\n",
       "      <td>0</td>\n",
       "      <td>0</td>\n",
       "      <td>0</td>\n",
       "      <td>0</td>\n",
       "      <td>0</td>\n",
       "      <td>...</td>\n",
       "      <td>0</td>\n",
       "      <td>0</td>\n",
       "      <td>0</td>\n",
       "      <td>0</td>\n",
       "      <td>0</td>\n",
       "      <td>0</td>\n",
       "      <td>0</td>\n",
       "      <td>0</td>\n",
       "      <td>0</td>\n",
       "      <td>1</td>\n",
       "    </tr>\n",
       "    <tr>\n",
       "      <th>6</th>\n",
       "      <td>0005e8e3701dfb1dd93d53e2ff537b6e</td>\n",
       "      <td>R10</td>\n",
       "      <td>0</td>\n",
       "      <td>0</td>\n",
       "      <td>0</td>\n",
       "      <td>0</td>\n",
       "      <td>0</td>\n",
       "      <td>0</td>\n",
       "      <td>0</td>\n",
       "      <td>0</td>\n",
       "      <td>...</td>\n",
       "      <td>0</td>\n",
       "      <td>0</td>\n",
       "      <td>0</td>\n",
       "      <td>0</td>\n",
       "      <td>0</td>\n",
       "      <td>0</td>\n",
       "      <td>1</td>\n",
       "      <td>1</td>\n",
       "      <td>0</td>\n",
       "      <td>0</td>\n",
       "    </tr>\n",
       "    <tr>\n",
       "      <th>7</th>\n",
       "      <td>0005e8e3701dfb1dd93d53e2ff537b6e</td>\n",
       "      <td>R8</td>\n",
       "      <td>0</td>\n",
       "      <td>0</td>\n",
       "      <td>0</td>\n",
       "      <td>0</td>\n",
       "      <td>0</td>\n",
       "      <td>1</td>\n",
       "      <td>0</td>\n",
       "      <td>0</td>\n",
       "      <td>...</td>\n",
       "      <td>0</td>\n",
       "      <td>0</td>\n",
       "      <td>0</td>\n",
       "      <td>0</td>\n",
       "      <td>0</td>\n",
       "      <td>1</td>\n",
       "      <td>1</td>\n",
       "      <td>0</td>\n",
       "      <td>0</td>\n",
       "      <td>0</td>\n",
       "    </tr>\n",
       "    <tr>\n",
       "      <th>8</th>\n",
       "      <td>0005e8e3701dfb1dd93d53e2ff537b6e</td>\n",
       "      <td>R9</td>\n",
       "      <td>0</td>\n",
       "      <td>0</td>\n",
       "      <td>0</td>\n",
       "      <td>0</td>\n",
       "      <td>0</td>\n",
       "      <td>0</td>\n",
       "      <td>0</td>\n",
       "      <td>0</td>\n",
       "      <td>...</td>\n",
       "      <td>0</td>\n",
       "      <td>0</td>\n",
       "      <td>0</td>\n",
       "      <td>0</td>\n",
       "      <td>0</td>\n",
       "      <td>1</td>\n",
       "      <td>1</td>\n",
       "      <td>1</td>\n",
       "      <td>0</td>\n",
       "      <td>0</td>\n",
       "    </tr>\n",
       "    <tr>\n",
       "      <th>9</th>\n",
       "      <td>0006e0a85696f6bb578e84fafa9a5607</td>\n",
       "      <td>R11</td>\n",
       "      <td>0</td>\n",
       "      <td>0</td>\n",
       "      <td>0</td>\n",
       "      <td>0</td>\n",
       "      <td>0</td>\n",
       "      <td>0</td>\n",
       "      <td>0</td>\n",
       "      <td>0</td>\n",
       "      <td>...</td>\n",
       "      <td>0</td>\n",
       "      <td>0</td>\n",
       "      <td>0</td>\n",
       "      <td>0</td>\n",
       "      <td>0</td>\n",
       "      <td>0</td>\n",
       "      <td>0</td>\n",
       "      <td>0</td>\n",
       "      <td>0</td>\n",
       "      <td>1</td>\n",
       "    </tr>\n",
       "  </tbody>\n",
       "</table>\n",
       "<p>10 rows × 30 columns</p>\n",
       "</div>"
      ],
      "text/plain": [
       "                           image_id rad_id  Aortic enlargement  Atelectasis  \\\n",
       "0  000434271f63a053c4128a0ba6352c7f     R2                   0            0   \n",
       "1  000434271f63a053c4128a0ba6352c7f     R3                   0            0   \n",
       "2  000434271f63a053c4128a0ba6352c7f     R6                   0            0   \n",
       "3  00053190460d56c53cc3e57321387478    R11                   0            0   \n",
       "4  00053190460d56c53cc3e57321387478     R2                   0            0   \n",
       "5  00053190460d56c53cc3e57321387478     R7                   0            0   \n",
       "6  0005e8e3701dfb1dd93d53e2ff537b6e    R10                   0            0   \n",
       "7  0005e8e3701dfb1dd93d53e2ff537b6e     R8                   0            0   \n",
       "8  0005e8e3701dfb1dd93d53e2ff537b6e     R9                   0            0   \n",
       "9  0006e0a85696f6bb578e84fafa9a5607    R11                   0            0   \n",
       "\n",
       "   Calcification  Cardiomegaly  Clavicle fracture  Consolidation  Edema  \\\n",
       "0              0             0                  0              0      0   \n",
       "1              0             0                  0              0      0   \n",
       "2              0             0                  0              0      0   \n",
       "3              0             0                  0              0      0   \n",
       "4              0             0                  0              0      0   \n",
       "5              0             0                  0              0      0   \n",
       "6              0             0                  0              0      0   \n",
       "7              0             0                  0              1      0   \n",
       "8              0             0                  0              0      0   \n",
       "9              0             0                  0              0      0   \n",
       "\n",
       "   Emphysema  ...  Pneumothorax  Pulmonary fibrosis  Rib fracture  \\\n",
       "0          0  ...             0                   0             0   \n",
       "1          0  ...             0                   0             0   \n",
       "2          0  ...             0                   0             0   \n",
       "3          0  ...             0                   0             0   \n",
       "4          0  ...             0                   0             0   \n",
       "5          0  ...             0                   0             0   \n",
       "6          0  ...             0                   0             0   \n",
       "7          0  ...             0                   0             0   \n",
       "8          0  ...             0                   0             0   \n",
       "9          0  ...             0                   0             0   \n",
       "\n",
       "   Other lesion  COPD  Lung tumor  Pneumonia  Tuberculosis  Other diseases  \\\n",
       "0             0     0           0          0             0               0   \n",
       "1             0     0           0          0             0               0   \n",
       "2             0     0           0          0             0               0   \n",
       "3             0     0           0          0             0               0   \n",
       "4             0     0           0          0             0               0   \n",
       "5             0     0           0          0             0               0   \n",
       "6             0     0           0          1             1               0   \n",
       "7             0     0           1          1             0               0   \n",
       "8             0     0           1          1             1               0   \n",
       "9             0     0           0          0             0               0   \n",
       "\n",
       "   No finding  \n",
       "0           1  \n",
       "1           1  \n",
       "2           1  \n",
       "3           1  \n",
       "4           1  \n",
       "5           1  \n",
       "6           0  \n",
       "7           0  \n",
       "8           0  \n",
       "9           1  \n",
       "\n",
       "[10 rows x 30 columns]"
      ]
     },
     "execution_count": 7,
     "metadata": {},
     "output_type": "execute_result"
    }
   ],
   "source": [
    "print(train_global_annotations.shape)\n",
    "train_global_annotations.head(10)"
   ]
  },
  {
   "cell_type": "code",
   "execution_count": 8,
   "metadata": {},
   "outputs": [
    {
     "name": "stdout",
     "output_type": "stream",
     "text": [
      "(69052, 7)\n"
     ]
    },
    {
     "data": {
      "text/html": [
       "<div>\n",
       "<style scoped>\n",
       "    .dataframe tbody tr th:only-of-type {\n",
       "        vertical-align: middle;\n",
       "    }\n",
       "\n",
       "    .dataframe tbody tr th {\n",
       "        vertical-align: top;\n",
       "    }\n",
       "\n",
       "    .dataframe thead th {\n",
       "        text-align: right;\n",
       "    }\n",
       "</style>\n",
       "<table border=\"1\" class=\"dataframe\">\n",
       "  <thead>\n",
       "    <tr style=\"text-align: right;\">\n",
       "      <th></th>\n",
       "      <th>image_id</th>\n",
       "      <th>rad_id</th>\n",
       "      <th>class_name</th>\n",
       "      <th>x_min</th>\n",
       "      <th>y_min</th>\n",
       "      <th>x_max</th>\n",
       "      <th>y_max</th>\n",
       "    </tr>\n",
       "  </thead>\n",
       "  <tbody>\n",
       "    <tr>\n",
       "      <th>0</th>\n",
       "      <td>000434271f63a053c4128a0ba6352c7f</td>\n",
       "      <td>R2</td>\n",
       "      <td>No finding</td>\n",
       "      <td>NaN</td>\n",
       "      <td>NaN</td>\n",
       "      <td>NaN</td>\n",
       "      <td>NaN</td>\n",
       "    </tr>\n",
       "    <tr>\n",
       "      <th>1</th>\n",
       "      <td>000434271f63a053c4128a0ba6352c7f</td>\n",
       "      <td>R3</td>\n",
       "      <td>No finding</td>\n",
       "      <td>NaN</td>\n",
       "      <td>NaN</td>\n",
       "      <td>NaN</td>\n",
       "      <td>NaN</td>\n",
       "    </tr>\n",
       "    <tr>\n",
       "      <th>2</th>\n",
       "      <td>000434271f63a053c4128a0ba6352c7f</td>\n",
       "      <td>R6</td>\n",
       "      <td>No finding</td>\n",
       "      <td>NaN</td>\n",
       "      <td>NaN</td>\n",
       "      <td>NaN</td>\n",
       "      <td>NaN</td>\n",
       "    </tr>\n",
       "    <tr>\n",
       "      <th>3</th>\n",
       "      <td>00053190460d56c53cc3e57321387478</td>\n",
       "      <td>R11</td>\n",
       "      <td>No finding</td>\n",
       "      <td>NaN</td>\n",
       "      <td>NaN</td>\n",
       "      <td>NaN</td>\n",
       "      <td>NaN</td>\n",
       "    </tr>\n",
       "    <tr>\n",
       "      <th>4</th>\n",
       "      <td>00053190460d56c53cc3e57321387478</td>\n",
       "      <td>R2</td>\n",
       "      <td>No finding</td>\n",
       "      <td>NaN</td>\n",
       "      <td>NaN</td>\n",
       "      <td>NaN</td>\n",
       "      <td>NaN</td>\n",
       "    </tr>\n",
       "    <tr>\n",
       "      <th>5</th>\n",
       "      <td>00053190460d56c53cc3e57321387478</td>\n",
       "      <td>R7</td>\n",
       "      <td>No finding</td>\n",
       "      <td>NaN</td>\n",
       "      <td>NaN</td>\n",
       "      <td>NaN</td>\n",
       "      <td>NaN</td>\n",
       "    </tr>\n",
       "    <tr>\n",
       "      <th>6</th>\n",
       "      <td>0005e8e3701dfb1dd93d53e2ff537b6e</td>\n",
       "      <td>R10</td>\n",
       "      <td>Infiltration</td>\n",
       "      <td>900.956970</td>\n",
       "      <td>587.809021</td>\n",
       "      <td>1205.359985</td>\n",
       "      <td>888.710999</td>\n",
       "    </tr>\n",
       "    <tr>\n",
       "      <th>7</th>\n",
       "      <td>0005e8e3701dfb1dd93d53e2ff537b6e</td>\n",
       "      <td>R10</td>\n",
       "      <td>Lung Opacity</td>\n",
       "      <td>900.956970</td>\n",
       "      <td>587.809021</td>\n",
       "      <td>1205.359985</td>\n",
       "      <td>888.710999</td>\n",
       "    </tr>\n",
       "    <tr>\n",
       "      <th>8</th>\n",
       "      <td>0005e8e3701dfb1dd93d53e2ff537b6e</td>\n",
       "      <td>R8</td>\n",
       "      <td>Consolidation</td>\n",
       "      <td>932.471985</td>\n",
       "      <td>567.778992</td>\n",
       "      <td>1197.770020</td>\n",
       "      <td>896.408997</td>\n",
       "    </tr>\n",
       "    <tr>\n",
       "      <th>9</th>\n",
       "      <td>0005e8e3701dfb1dd93d53e2ff537b6e</td>\n",
       "      <td>R8</td>\n",
       "      <td>Nodule/Mass</td>\n",
       "      <td>932.471985</td>\n",
       "      <td>567.778992</td>\n",
       "      <td>1197.770020</td>\n",
       "      <td>896.408997</td>\n",
       "    </tr>\n",
       "  </tbody>\n",
       "</table>\n",
       "</div>"
      ],
      "text/plain": [
       "                           image_id rad_id     class_name       x_min  \\\n",
       "0  000434271f63a053c4128a0ba6352c7f     R2     No finding         NaN   \n",
       "1  000434271f63a053c4128a0ba6352c7f     R3     No finding         NaN   \n",
       "2  000434271f63a053c4128a0ba6352c7f     R6     No finding         NaN   \n",
       "3  00053190460d56c53cc3e57321387478    R11     No finding         NaN   \n",
       "4  00053190460d56c53cc3e57321387478     R2     No finding         NaN   \n",
       "5  00053190460d56c53cc3e57321387478     R7     No finding         NaN   \n",
       "6  0005e8e3701dfb1dd93d53e2ff537b6e    R10   Infiltration  900.956970   \n",
       "7  0005e8e3701dfb1dd93d53e2ff537b6e    R10   Lung Opacity  900.956970   \n",
       "8  0005e8e3701dfb1dd93d53e2ff537b6e     R8  Consolidation  932.471985   \n",
       "9  0005e8e3701dfb1dd93d53e2ff537b6e     R8    Nodule/Mass  932.471985   \n",
       "\n",
       "        y_min        x_max       y_max  \n",
       "0         NaN          NaN         NaN  \n",
       "1         NaN          NaN         NaN  \n",
       "2         NaN          NaN         NaN  \n",
       "3         NaN          NaN         NaN  \n",
       "4         NaN          NaN         NaN  \n",
       "5         NaN          NaN         NaN  \n",
       "6  587.809021  1205.359985  888.710999  \n",
       "7  587.809021  1205.359985  888.710999  \n",
       "8  567.778992  1197.770020  896.408997  \n",
       "9  567.778992  1197.770020  896.408997  "
      ]
     },
     "execution_count": 8,
     "metadata": {},
     "output_type": "execute_result"
    }
   ],
   "source": [
    "print(train_local_annotations.shape)\n",
    "train_local_annotations.head(10)"
   ]
  },
  {
   "cell_type": "code",
   "execution_count": 9,
   "metadata": {},
   "outputs": [
    {
     "name": "stdout",
     "output_type": "stream",
     "text": [
      "(4748, 6)\n"
     ]
    },
    {
     "data": {
      "text/html": [
       "<div>\n",
       "<style scoped>\n",
       "    .dataframe tbody tr th:only-of-type {\n",
       "        vertical-align: middle;\n",
       "    }\n",
       "\n",
       "    .dataframe tbody tr th {\n",
       "        vertical-align: top;\n",
       "    }\n",
       "\n",
       "    .dataframe thead th {\n",
       "        text-align: right;\n",
       "    }\n",
       "</style>\n",
       "<table border=\"1\" class=\"dataframe\">\n",
       "  <thead>\n",
       "    <tr style=\"text-align: right;\">\n",
       "      <th></th>\n",
       "      <th>image_id</th>\n",
       "      <th>class_name</th>\n",
       "      <th>x_min</th>\n",
       "      <th>y_min</th>\n",
       "      <th>x_max</th>\n",
       "      <th>y_max</th>\n",
       "    </tr>\n",
       "  </thead>\n",
       "  <tbody>\n",
       "    <tr>\n",
       "      <th>0</th>\n",
       "      <td>e0dc2e79105ad93532484e956ef8a71a</td>\n",
       "      <td>Calcification</td>\n",
       "      <td>1221.560976</td>\n",
       "      <td>661.580417</td>\n",
       "      <td>1343.298780</td>\n",
       "      <td>783.318222</td>\n",
       "    </tr>\n",
       "    <tr>\n",
       "      <th>1</th>\n",
       "      <td>e0dc2e79105ad93532484e956ef8a71a</td>\n",
       "      <td>Cardiomegaly</td>\n",
       "      <td>638.695122</td>\n",
       "      <td>1310.848710</td>\n",
       "      <td>1800.737805</td>\n",
       "      <td>1937.982856</td>\n",
       "    </tr>\n",
       "    <tr>\n",
       "      <th>2</th>\n",
       "      <td>e0dc2e79105ad93532484e956ef8a71a</td>\n",
       "      <td>ILD</td>\n",
       "      <td>1693.756098</td>\n",
       "      <td>1392.007246</td>\n",
       "      <td>1929.853659</td>\n",
       "      <td>1941.671881</td>\n",
       "    </tr>\n",
       "    <tr>\n",
       "      <th>3</th>\n",
       "      <td>e0dc2e79105ad93532484e956ef8a71a</td>\n",
       "      <td>Pneumothorax</td>\n",
       "      <td>399.924053</td>\n",
       "      <td>145.803282</td>\n",
       "      <td>1016.600328</td>\n",
       "      <td>510.138208</td>\n",
       "    </tr>\n",
       "    <tr>\n",
       "      <th>4</th>\n",
       "      <td>e0dc2e79105ad93532484e956ef8a71a</td>\n",
       "      <td>Pneumothorax</td>\n",
       "      <td>334.300846</td>\n",
       "      <td>493.762382</td>\n",
       "      <td>453.145487</td>\n",
       "      <td>744.509170</td>\n",
       "    </tr>\n",
       "    <tr>\n",
       "      <th>5</th>\n",
       "      <td>e0dc2e79105ad93532484e956ef8a71a</td>\n",
       "      <td>Pleural effusion</td>\n",
       "      <td>229.975703</td>\n",
       "      <td>1482.203045</td>\n",
       "      <td>644.450374</td>\n",
       "      <td>1945.701602</td>\n",
       "    </tr>\n",
       "    <tr>\n",
       "      <th>6</th>\n",
       "      <td>e0dc2e79105ad93532484e956ef8a71a</td>\n",
       "      <td>Atelectasis</td>\n",
       "      <td>379.275719</td>\n",
       "      <td>1248.225409</td>\n",
       "      <td>504.063792</td>\n",
       "      <td>1500.029913</td>\n",
       "    </tr>\n",
       "    <tr>\n",
       "      <th>7</th>\n",
       "      <td>e0dc2e79105ad93532484e956ef8a71a</td>\n",
       "      <td>Pneumothorax</td>\n",
       "      <td>283.456305</td>\n",
       "      <td>1381.926915</td>\n",
       "      <td>414.929454</td>\n",
       "      <td>1546.825440</td>\n",
       "    </tr>\n",
       "    <tr>\n",
       "      <th>8</th>\n",
       "      <td>0aed23e64ebdea798486056b4f174424</td>\n",
       "      <td>Pleural effusion</td>\n",
       "      <td>1593.050179</td>\n",
       "      <td>1885.493865</td>\n",
       "      <td>2164.350008</td>\n",
       "      <td>2288.954196</td>\n",
       "    </tr>\n",
       "    <tr>\n",
       "      <th>9</th>\n",
       "      <td>0aed23e64ebdea798486056b4f174424</td>\n",
       "      <td>Pleural effusion</td>\n",
       "      <td>162.061085</td>\n",
       "      <td>1757.177093</td>\n",
       "      <td>881.412855</td>\n",
       "      <td>2229.059285</td>\n",
       "    </tr>\n",
       "  </tbody>\n",
       "</table>\n",
       "</div>"
      ],
      "text/plain": [
       "                           image_id        class_name        x_min  \\\n",
       "0  e0dc2e79105ad93532484e956ef8a71a     Calcification  1221.560976   \n",
       "1  e0dc2e79105ad93532484e956ef8a71a      Cardiomegaly   638.695122   \n",
       "2  e0dc2e79105ad93532484e956ef8a71a               ILD  1693.756098   \n",
       "3  e0dc2e79105ad93532484e956ef8a71a      Pneumothorax   399.924053   \n",
       "4  e0dc2e79105ad93532484e956ef8a71a      Pneumothorax   334.300846   \n",
       "5  e0dc2e79105ad93532484e956ef8a71a  Pleural effusion   229.975703   \n",
       "6  e0dc2e79105ad93532484e956ef8a71a       Atelectasis   379.275719   \n",
       "7  e0dc2e79105ad93532484e956ef8a71a      Pneumothorax   283.456305   \n",
       "8  0aed23e64ebdea798486056b4f174424  Pleural effusion  1593.050179   \n",
       "9  0aed23e64ebdea798486056b4f174424  Pleural effusion   162.061085   \n",
       "\n",
       "         y_min        x_max        y_max  \n",
       "0   661.580417  1343.298780   783.318222  \n",
       "1  1310.848710  1800.737805  1937.982856  \n",
       "2  1392.007246  1929.853659  1941.671881  \n",
       "3   145.803282  1016.600328   510.138208  \n",
       "4   493.762382   453.145487   744.509170  \n",
       "5  1482.203045   644.450374  1945.701602  \n",
       "6  1248.225409   504.063792  1500.029913  \n",
       "7  1381.926915   414.929454  1546.825440  \n",
       "8  1885.493865  2164.350008  2288.954196  \n",
       "9  1757.177093   881.412855  2229.059285  "
      ]
     },
     "execution_count": 9,
     "metadata": {},
     "output_type": "execute_result"
    }
   ],
   "source": [
    "print(test_local_annotations.shape)\n",
    "test_local_annotations.head(10)"
   ]
  },
  {
   "cell_type": "code",
   "execution_count": 10,
   "metadata": {},
   "outputs": [
    {
     "name": "stdout",
     "output_type": "stream",
     "text": [
      "(3000, 29)\n"
     ]
    },
    {
     "data": {
      "text/html": [
       "<div>\n",
       "<style scoped>\n",
       "    .dataframe tbody tr th:only-of-type {\n",
       "        vertical-align: middle;\n",
       "    }\n",
       "\n",
       "    .dataframe tbody tr th {\n",
       "        vertical-align: top;\n",
       "    }\n",
       "\n",
       "    .dataframe thead th {\n",
       "        text-align: right;\n",
       "    }\n",
       "</style>\n",
       "<table border=\"1\" class=\"dataframe\">\n",
       "  <thead>\n",
       "    <tr style=\"text-align: right;\">\n",
       "      <th></th>\n",
       "      <th>image_id</th>\n",
       "      <th>Aortic enlargement</th>\n",
       "      <th>Atelectasis</th>\n",
       "      <th>Calcification</th>\n",
       "      <th>Cardiomegaly</th>\n",
       "      <th>Clavicle fracture</th>\n",
       "      <th>Consolidation</th>\n",
       "      <th>Edema</th>\n",
       "      <th>Emphysema</th>\n",
       "      <th>Enlarged PA</th>\n",
       "      <th>...</th>\n",
       "      <th>Pneumothorax</th>\n",
       "      <th>Pulmonary fibrosis</th>\n",
       "      <th>Rib fracture</th>\n",
       "      <th>Other lesion</th>\n",
       "      <th>COPD</th>\n",
       "      <th>Lung tumor</th>\n",
       "      <th>Pneumonia</th>\n",
       "      <th>Tuberculosis</th>\n",
       "      <th>Other diseases</th>\n",
       "      <th>No finding</th>\n",
       "    </tr>\n",
       "  </thead>\n",
       "  <tbody>\n",
       "    <tr>\n",
       "      <th>0</th>\n",
       "      <td>e0dc2e79105ad93532484e956ef8a71a</td>\n",
       "      <td>0</td>\n",
       "      <td>1</td>\n",
       "      <td>1</td>\n",
       "      <td>1</td>\n",
       "      <td>0</td>\n",
       "      <td>0</td>\n",
       "      <td>0</td>\n",
       "      <td>0</td>\n",
       "      <td>0</td>\n",
       "      <td>...</td>\n",
       "      <td>1</td>\n",
       "      <td>0</td>\n",
       "      <td>0</td>\n",
       "      <td>0</td>\n",
       "      <td>0</td>\n",
       "      <td>0</td>\n",
       "      <td>1</td>\n",
       "      <td>0</td>\n",
       "      <td>1</td>\n",
       "      <td>0</td>\n",
       "    </tr>\n",
       "    <tr>\n",
       "      <th>1</th>\n",
       "      <td>0aed23e64ebdea798486056b4f174424</td>\n",
       "      <td>0</td>\n",
       "      <td>0</td>\n",
       "      <td>0</td>\n",
       "      <td>0</td>\n",
       "      <td>0</td>\n",
       "      <td>1</td>\n",
       "      <td>0</td>\n",
       "      <td>0</td>\n",
       "      <td>0</td>\n",
       "      <td>...</td>\n",
       "      <td>0</td>\n",
       "      <td>0</td>\n",
       "      <td>0</td>\n",
       "      <td>0</td>\n",
       "      <td>0</td>\n",
       "      <td>0</td>\n",
       "      <td>1</td>\n",
       "      <td>0</td>\n",
       "      <td>0</td>\n",
       "      <td>0</td>\n",
       "    </tr>\n",
       "    <tr>\n",
       "      <th>2</th>\n",
       "      <td>aa15cfcfca7605465ca0513902738b95</td>\n",
       "      <td>0</td>\n",
       "      <td>0</td>\n",
       "      <td>0</td>\n",
       "      <td>0</td>\n",
       "      <td>0</td>\n",
       "      <td>0</td>\n",
       "      <td>0</td>\n",
       "      <td>0</td>\n",
       "      <td>0</td>\n",
       "      <td>...</td>\n",
       "      <td>0</td>\n",
       "      <td>1</td>\n",
       "      <td>0</td>\n",
       "      <td>0</td>\n",
       "      <td>0</td>\n",
       "      <td>0</td>\n",
       "      <td>0</td>\n",
       "      <td>1</td>\n",
       "      <td>0</td>\n",
       "      <td>0</td>\n",
       "    </tr>\n",
       "    <tr>\n",
       "      <th>3</th>\n",
       "      <td>665c4a6d2693dc0286d65ab479c9b169</td>\n",
       "      <td>0</td>\n",
       "      <td>0</td>\n",
       "      <td>0</td>\n",
       "      <td>0</td>\n",
       "      <td>0</td>\n",
       "      <td>0</td>\n",
       "      <td>0</td>\n",
       "      <td>0</td>\n",
       "      <td>0</td>\n",
       "      <td>...</td>\n",
       "      <td>0</td>\n",
       "      <td>0</td>\n",
       "      <td>0</td>\n",
       "      <td>0</td>\n",
       "      <td>0</td>\n",
       "      <td>1</td>\n",
       "      <td>0</td>\n",
       "      <td>0</td>\n",
       "      <td>0</td>\n",
       "      <td>0</td>\n",
       "    </tr>\n",
       "    <tr>\n",
       "      <th>4</th>\n",
       "      <td>42da2c134b53cb5594774d3d29faac59</td>\n",
       "      <td>1</td>\n",
       "      <td>0</td>\n",
       "      <td>1</td>\n",
       "      <td>1</td>\n",
       "      <td>0</td>\n",
       "      <td>0</td>\n",
       "      <td>0</td>\n",
       "      <td>0</td>\n",
       "      <td>0</td>\n",
       "      <td>...</td>\n",
       "      <td>0</td>\n",
       "      <td>0</td>\n",
       "      <td>0</td>\n",
       "      <td>0</td>\n",
       "      <td>0</td>\n",
       "      <td>0</td>\n",
       "      <td>0</td>\n",
       "      <td>0</td>\n",
       "      <td>1</td>\n",
       "      <td>0</td>\n",
       "    </tr>\n",
       "    <tr>\n",
       "      <th>5</th>\n",
       "      <td>c7179539654a1b3b7977e56e7e3009d5</td>\n",
       "      <td>1</td>\n",
       "      <td>0</td>\n",
       "      <td>0</td>\n",
       "      <td>1</td>\n",
       "      <td>0</td>\n",
       "      <td>0</td>\n",
       "      <td>0</td>\n",
       "      <td>0</td>\n",
       "      <td>0</td>\n",
       "      <td>...</td>\n",
       "      <td>0</td>\n",
       "      <td>0</td>\n",
       "      <td>0</td>\n",
       "      <td>0</td>\n",
       "      <td>0</td>\n",
       "      <td>0</td>\n",
       "      <td>0</td>\n",
       "      <td>0</td>\n",
       "      <td>1</td>\n",
       "      <td>0</td>\n",
       "    </tr>\n",
       "    <tr>\n",
       "      <th>6</th>\n",
       "      <td>bfd1974dc9778aadb407a11b57ab748f</td>\n",
       "      <td>1</td>\n",
       "      <td>0</td>\n",
       "      <td>0</td>\n",
       "      <td>0</td>\n",
       "      <td>0</td>\n",
       "      <td>0</td>\n",
       "      <td>0</td>\n",
       "      <td>0</td>\n",
       "      <td>0</td>\n",
       "      <td>...</td>\n",
       "      <td>0</td>\n",
       "      <td>0</td>\n",
       "      <td>0</td>\n",
       "      <td>0</td>\n",
       "      <td>0</td>\n",
       "      <td>0</td>\n",
       "      <td>0</td>\n",
       "      <td>0</td>\n",
       "      <td>1</td>\n",
       "      <td>0</td>\n",
       "    </tr>\n",
       "    <tr>\n",
       "      <th>7</th>\n",
       "      <td>618777b8305b062583337d9a6b7a3d4e</td>\n",
       "      <td>0</td>\n",
       "      <td>0</td>\n",
       "      <td>1</td>\n",
       "      <td>0</td>\n",
       "      <td>0</td>\n",
       "      <td>0</td>\n",
       "      <td>0</td>\n",
       "      <td>0</td>\n",
       "      <td>0</td>\n",
       "      <td>...</td>\n",
       "      <td>0</td>\n",
       "      <td>0</td>\n",
       "      <td>0</td>\n",
       "      <td>1</td>\n",
       "      <td>0</td>\n",
       "      <td>0</td>\n",
       "      <td>0</td>\n",
       "      <td>0</td>\n",
       "      <td>1</td>\n",
       "      <td>0</td>\n",
       "    </tr>\n",
       "    <tr>\n",
       "      <th>8</th>\n",
       "      <td>e54b5a593bc03c789ecdc18d8270964e</td>\n",
       "      <td>1</td>\n",
       "      <td>0</td>\n",
       "      <td>1</td>\n",
       "      <td>0</td>\n",
       "      <td>0</td>\n",
       "      <td>0</td>\n",
       "      <td>0</td>\n",
       "      <td>0</td>\n",
       "      <td>0</td>\n",
       "      <td>...</td>\n",
       "      <td>0</td>\n",
       "      <td>0</td>\n",
       "      <td>0</td>\n",
       "      <td>0</td>\n",
       "      <td>0</td>\n",
       "      <td>0</td>\n",
       "      <td>0</td>\n",
       "      <td>0</td>\n",
       "      <td>1</td>\n",
       "      <td>0</td>\n",
       "    </tr>\n",
       "    <tr>\n",
       "      <th>9</th>\n",
       "      <td>3019aec706bd013e1e3348564fbfd086</td>\n",
       "      <td>0</td>\n",
       "      <td>0</td>\n",
       "      <td>0</td>\n",
       "      <td>0</td>\n",
       "      <td>0</td>\n",
       "      <td>0</td>\n",
       "      <td>0</td>\n",
       "      <td>0</td>\n",
       "      <td>0</td>\n",
       "      <td>...</td>\n",
       "      <td>0</td>\n",
       "      <td>1</td>\n",
       "      <td>0</td>\n",
       "      <td>0</td>\n",
       "      <td>0</td>\n",
       "      <td>0</td>\n",
       "      <td>0</td>\n",
       "      <td>1</td>\n",
       "      <td>0</td>\n",
       "      <td>0</td>\n",
       "    </tr>\n",
       "  </tbody>\n",
       "</table>\n",
       "<p>10 rows × 29 columns</p>\n",
       "</div>"
      ],
      "text/plain": [
       "                           image_id  Aortic enlargement  Atelectasis  \\\n",
       "0  e0dc2e79105ad93532484e956ef8a71a                   0            1   \n",
       "1  0aed23e64ebdea798486056b4f174424                   0            0   \n",
       "2  aa15cfcfca7605465ca0513902738b95                   0            0   \n",
       "3  665c4a6d2693dc0286d65ab479c9b169                   0            0   \n",
       "4  42da2c134b53cb5594774d3d29faac59                   1            0   \n",
       "5  c7179539654a1b3b7977e56e7e3009d5                   1            0   \n",
       "6  bfd1974dc9778aadb407a11b57ab748f                   1            0   \n",
       "7  618777b8305b062583337d9a6b7a3d4e                   0            0   \n",
       "8  e54b5a593bc03c789ecdc18d8270964e                   1            0   \n",
       "9  3019aec706bd013e1e3348564fbfd086                   0            0   \n",
       "\n",
       "   Calcification  Cardiomegaly  Clavicle fracture  Consolidation  Edema  \\\n",
       "0              1             1                  0              0      0   \n",
       "1              0             0                  0              1      0   \n",
       "2              0             0                  0              0      0   \n",
       "3              0             0                  0              0      0   \n",
       "4              1             1                  0              0      0   \n",
       "5              0             1                  0              0      0   \n",
       "6              0             0                  0              0      0   \n",
       "7              1             0                  0              0      0   \n",
       "8              1             0                  0              0      0   \n",
       "9              0             0                  0              0      0   \n",
       "\n",
       "   Emphysema  Enlarged PA  ...  Pneumothorax  Pulmonary fibrosis  \\\n",
       "0          0            0  ...             1                   0   \n",
       "1          0            0  ...             0                   0   \n",
       "2          0            0  ...             0                   1   \n",
       "3          0            0  ...             0                   0   \n",
       "4          0            0  ...             0                   0   \n",
       "5          0            0  ...             0                   0   \n",
       "6          0            0  ...             0                   0   \n",
       "7          0            0  ...             0                   0   \n",
       "8          0            0  ...             0                   0   \n",
       "9          0            0  ...             0                   1   \n",
       "\n",
       "   Rib fracture  Other lesion  COPD  Lung tumor  Pneumonia  Tuberculosis  \\\n",
       "0             0             0     0           0          1             0   \n",
       "1             0             0     0           0          1             0   \n",
       "2             0             0     0           0          0             1   \n",
       "3             0             0     0           1          0             0   \n",
       "4             0             0     0           0          0             0   \n",
       "5             0             0     0           0          0             0   \n",
       "6             0             0     0           0          0             0   \n",
       "7             0             1     0           0          0             0   \n",
       "8             0             0     0           0          0             0   \n",
       "9             0             0     0           0          0             1   \n",
       "\n",
       "   Other diseases  No finding  \n",
       "0               1           0  \n",
       "1               0           0  \n",
       "2               0           0  \n",
       "3               0           0  \n",
       "4               1           0  \n",
       "5               1           0  \n",
       "6               1           0  \n",
       "7               1           0  \n",
       "8               1           0  \n",
       "9               0           0  \n",
       "\n",
       "[10 rows x 29 columns]"
      ]
     },
     "execution_count": 10,
     "metadata": {},
     "output_type": "execute_result"
    }
   ],
   "source": [
    "print(test_global_annotations.shape)\n",
    "test_global_annotations.head(10)"
   ]
  },
  {
   "cell_type": "markdown",
   "metadata": {},
   "source": [
    "### Checking Data leakage"
   ]
  },
  {
   "cell_type": "code",
   "execution_count": 33,
   "metadata": {},
   "outputs": [
    {
     "name": "stdout",
     "output_type": "stream",
     "text": [
      "15000\n",
      "3000\n",
      "18000\n"
     ]
    }
   ],
   "source": [
    "print(len(np.unique(train_global_annotations['image_id'])))\n",
    "print(len(np.unique(test_global_annotations['image_id'])))\n",
    "print(len(np.unique(np.concatenate((train_global_annotations['image_id'],test_global_annotations['image_id'])))))"
   ]
  },
  {
   "cell_type": "code",
   "execution_count": 34,
   "metadata": {},
   "outputs": [
    {
     "name": "stdout",
     "output_type": "stream",
     "text": [
      "15000\n",
      "3000\n",
      "18000\n"
     ]
    }
   ],
   "source": [
    "print(len(np.unique(train_local_annotations['image_id'])))\n",
    "print(len(np.unique(test_local_annotations['image_id'])))\n",
    "print(len(np.unique(np.concatenate((train_local_annotations['image_id'],test_local_annotations['image_id'])))))"
   ]
  },
  {
   "cell_type": "markdown",
   "metadata": {},
   "source": [
    "### Global annotations"
   ]
  },
  {
   "cell_type": "code",
   "execution_count": 13,
   "metadata": {},
   "outputs": [
    {
     "name": "stdout",
     "output_type": "stream",
     "text": [
      "['R1' 'R10' 'R11' 'R12' 'R13' 'R14' 'R15' 'R16' 'R17' 'R2' 'R3' 'R4' 'R5'\n",
      " 'R6' 'R7' 'R8' 'R9']\n"
     ]
    }
   ],
   "source": [
    "print(np.unique(train_global_annotations['rad_id']))"
   ]
  },
  {
   "cell_type": "code",
   "execution_count": 14,
   "metadata": {},
   "outputs": [
    {
     "name": "stdout",
     "output_type": "stream",
     "text": [
      "['image_id' 'rad_id' 'Aortic enlargement' 'Atelectasis' 'Calcification'\n",
      " 'Cardiomegaly' 'Clavicle fracture' 'Consolidation' 'Edema' 'Emphysema'\n",
      " 'Enlarged PA' 'ILD' 'Infiltration' 'Lung Opacity' 'Lung cavity'\n",
      " 'Lung cyst' 'Mediastinal shift' 'Nodule/Mass' 'Pleural effusion'\n",
      " 'Pleural thickening' 'Pneumothorax' 'Pulmonary fibrosis' 'Rib fracture'\n",
      " 'Other lesion' 'COPD' 'Lung tumor' 'Pneumonia' 'Tuberculosis'\n",
      " 'Other diseases' 'No finding']\n"
     ]
    }
   ],
   "source": [
    "col = train_global_annotations.columns.values\n",
    "print(col)"
   ]
  },
  {
   "cell_type": "code",
   "execution_count": 15,
   "metadata": {},
   "outputs": [
    {
     "name": "stdout",
     "output_type": "stream",
     "text": [
      "['Aortic enlargement' 'Atelectasis' 'Calcification' 'Cardiomegaly'\n",
      " 'Clavicle fracture' 'Consolidation' 'Edema' 'Emphysema' 'Enlarged PA'\n",
      " 'ILD' 'Infiltration' 'Lung Opacity' 'Lung cavity' 'Lung cyst'\n",
      " 'Mediastinal shift' 'Nodule/Mass' 'Pleural effusion' 'Pleural thickening'\n",
      " 'Pneumothorax' 'Pulmonary fibrosis' 'Rib fracture' 'Other lesion' 'COPD'\n",
      " 'Lung tumor' 'Pneumonia' 'Tuberculosis' 'Other diseases' 'No finding']\n",
      "28\n"
     ]
    }
   ],
   "source": [
    "all_labels = np.delete(col, [0,1])\n",
    "print(all_labels)\n",
    "print(len(all_labels))"
   ]
  },
  {
   "cell_type": "code",
   "execution_count": 121,
   "metadata": {
    "collapsed": true
   },
   "outputs": [],
   "source": [
    "count = []\n",
    "for i in all_labels: \n",
    "    s = (15000- (np.sum(train_global_annotations.groupby(['image_id']).sum()[i] == 0)))\n",
    "    count.append(s)\n",
    "    \n",
    "Count = {}\n",
    "for i,j in enumerate(all_labels):\n",
    "    Count[j] = count[i] \n"
   ]
  },
  {
   "cell_type": "code",
   "execution_count": 187,
   "metadata": {},
   "outputs": [
    {
     "data": {
      "image/png": "[encoded data removed]",
      "text/plain": [
       "<Figure size 864x576 with 1 Axes>"
      ]
     },
     "metadata": {
      "needs_background": "light"
     },
     "output_type": "display_data"
    }
   ],
   "source": [
    "df = pd.DataFrame(count, index = all_labels)\n",
    "df = df.sort_values(by=[0])\n",
    "ax = df.plot(kind = 'bar', figsize=(12, 8), title = 'Frequency Plot', legend = False)\n",
    "# ax.bar_label(ax.containers[0], label_type='edge')\n",
    "ax.margins(y=0.1)"
   ]
  },
  {
   "cell_type": "code",
   "execution_count": 18,
   "metadata": {},
   "outputs": [
    {
     "data": {
      "image/png": "[encoded data removed]",
      "text/plain": [
       "<Figure size 864x576 with 1 Axes>"
      ]
     },
     "metadata": {
      "needs_background": "light"
     },
     "output_type": "display_data"
    }
   ],
   "source": [
    " \n"
   ]
  },
  {
   "cell_type": "code",
   "execution_count": 19,
   "metadata": {},
   "outputs": [
    {
     "data": {
      "text/html": [
       "<div>\n",
       "<style scoped>\n",
       "    .dataframe tbody tr th:only-of-type {\n",
       "        vertical-align: middle;\n",
       "    }\n",
       "\n",
       "    .dataframe tbody tr th {\n",
       "        vertical-align: top;\n",
       "    }\n",
       "\n",
       "    .dataframe thead th {\n",
       "        text-align: right;\n",
       "    }\n",
       "</style>\n",
       "<table border=\"1\" class=\"dataframe\">\n",
       "  <thead>\n",
       "    <tr style=\"text-align: right;\">\n",
       "      <th></th>\n",
       "      <th>0</th>\n",
       "    </tr>\n",
       "  </thead>\n",
       "  <tbody>\n",
       "    <tr>\n",
       "      <th>Edema</th>\n",
       "      <td>0</td>\n",
       "    </tr>\n",
       "    <tr>\n",
       "      <th>Lung cyst</th>\n",
       "      <td>2</td>\n",
       "    </tr>\n",
       "    <tr>\n",
       "      <th>COPD</th>\n",
       "      <td>2</td>\n",
       "    </tr>\n",
       "    <tr>\n",
       "      <th>Clavicle fracture</th>\n",
       "      <td>2</td>\n",
       "    </tr>\n",
       "    <tr>\n",
       "      <th>Emphysema</th>\n",
       "      <td>3</td>\n",
       "    </tr>\n",
       "    <tr>\n",
       "      <th>Enlarged PA</th>\n",
       "      <td>8</td>\n",
       "    </tr>\n",
       "    <tr>\n",
       "      <th>Lung cavity</th>\n",
       "      <td>9</td>\n",
       "    </tr>\n",
       "    <tr>\n",
       "      <th>Rib fracture</th>\n",
       "      <td>11</td>\n",
       "    </tr>\n",
       "    <tr>\n",
       "      <th>Pneumothorax</th>\n",
       "      <td>18</td>\n",
       "    </tr>\n",
       "    <tr>\n",
       "      <th>Mediastinal shift</th>\n",
       "      <td>20</td>\n",
       "    </tr>\n",
       "    <tr>\n",
       "      <th>Infiltration</th>\n",
       "      <td>58</td>\n",
       "    </tr>\n",
       "    <tr>\n",
       "      <th>Lung tumor</th>\n",
       "      <td>80</td>\n",
       "    </tr>\n",
       "    <tr>\n",
       "      <th>Lung Opacity</th>\n",
       "      <td>84</td>\n",
       "    </tr>\n",
       "    <tr>\n",
       "      <th>Atelectasis</th>\n",
       "      <td>86</td>\n",
       "    </tr>\n",
       "    <tr>\n",
       "      <th>Other lesion</th>\n",
       "      <td>94</td>\n",
       "    </tr>\n",
       "    <tr>\n",
       "      <th>Consolidation</th>\n",
       "      <td>96</td>\n",
       "    </tr>\n",
       "    <tr>\n",
       "      <th>Pleural effusion</th>\n",
       "      <td>111</td>\n",
       "    </tr>\n",
       "    <tr>\n",
       "      <th>Tuberculosis</th>\n",
       "      <td>164</td>\n",
       "    </tr>\n",
       "    <tr>\n",
       "      <th>Pleural thickening</th>\n",
       "      <td>169</td>\n",
       "    </tr>\n",
       "    <tr>\n",
       "      <th>Nodule/Mass</th>\n",
       "      <td>176</td>\n",
       "    </tr>\n",
       "    <tr>\n",
       "      <th>Calcification</th>\n",
       "      <td>194</td>\n",
       "    </tr>\n",
       "    <tr>\n",
       "      <th>Pulmonary fibrosis</th>\n",
       "      <td>217</td>\n",
       "    </tr>\n",
       "    <tr>\n",
       "      <th>Aortic enlargement</th>\n",
       "      <td>220</td>\n",
       "    </tr>\n",
       "    <tr>\n",
       "      <th>ILD</th>\n",
       "      <td>221</td>\n",
       "    </tr>\n",
       "    <tr>\n",
       "      <th>Pneumonia</th>\n",
       "      <td>246</td>\n",
       "    </tr>\n",
       "    <tr>\n",
       "      <th>Cardiomegaly</th>\n",
       "      <td>309</td>\n",
       "    </tr>\n",
       "    <tr>\n",
       "      <th>Other diseases</th>\n",
       "      <td>657</td>\n",
       "    </tr>\n",
       "    <tr>\n",
       "      <th>No finding</th>\n",
       "      <td>2051</td>\n",
       "    </tr>\n",
       "  </tbody>\n",
       "</table>\n",
       "</div>"
      ],
      "text/plain": [
       "                       0\n",
       "Edema                  0\n",
       "Lung cyst              2\n",
       "COPD                   2\n",
       "Clavicle fracture      2\n",
       "Emphysema              3\n",
       "Enlarged PA            8\n",
       "Lung cavity            9\n",
       "Rib fracture          11\n",
       "Pneumothorax          18\n",
       "Mediastinal shift     20\n",
       "Infiltration          58\n",
       "Lung tumor            80\n",
       "Lung Opacity          84\n",
       "Atelectasis           86\n",
       "Other lesion          94\n",
       "Consolidation         96\n",
       "Pleural effusion     111\n",
       "Tuberculosis         164\n",
       "Pleural thickening   169\n",
       "Nodule/Mass          176\n",
       "Calcification        194\n",
       "Pulmonary fibrosis   217\n",
       "Aortic enlargement   220\n",
       "ILD                  221\n",
       "Pneumonia            246\n",
       "Cardiomegaly         309\n",
       "Other diseases       657\n",
       "No finding          2051"
      ]
     },
     "execution_count": 19,
     "metadata": {},
     "output_type": "execute_result"
    }
   ],
   "source": [
    "df_test"
   ]
  },
  {
   "cell_type": "markdown",
   "metadata": {},
   "source": [
    "### Pneumonia, tuberculosis, lung tumor, pleural effusion, other diseases, and no finding"
   ]
  },
  {
   "cell_type": "code",
   "execution_count": 189,
   "metadata": {},
   "outputs": [
    {
     "data": {
      "text/html": [
       "<div>\n",
       "<style scoped>\n",
       "    .dataframe tbody tr th:only-of-type {\n",
       "        vertical-align: middle;\n",
       "    }\n",
       "\n",
       "    .dataframe tbody tr th {\n",
       "        vertical-align: top;\n",
       "    }\n",
       "\n",
       "    .dataframe thead th {\n",
       "        text-align: right;\n",
       "    }\n",
       "</style>\n",
       "<table border=\"1\" class=\"dataframe\">\n",
       "  <thead>\n",
       "    <tr style=\"text-align: right;\">\n",
       "      <th></th>\n",
       "      <th>0</th>\n",
       "    </tr>\n",
       "  </thead>\n",
       "  <tbody>\n",
       "    <tr>\n",
       "      <th>Edema</th>\n",
       "      <td>13</td>\n",
       "    </tr>\n",
       "    <tr>\n",
       "      <th>Clavicle fracture</th>\n",
       "      <td>27</td>\n",
       "    </tr>\n",
       "    <tr>\n",
       "      <th>Lung cyst</th>\n",
       "      <td>33</td>\n",
       "    </tr>\n",
       "    <tr>\n",
       "      <th>COPD</th>\n",
       "      <td>36</td>\n",
       "    </tr>\n",
       "    <tr>\n",
       "      <th>Lung cavity</th>\n",
       "      <td>51</td>\n",
       "    </tr>\n",
       "    <tr>\n",
       "      <th>Emphysema</th>\n",
       "      <td>81</td>\n",
       "    </tr>\n",
       "    <tr>\n",
       "      <th>Rib fracture</th>\n",
       "      <td>90</td>\n",
       "    </tr>\n",
       "    <tr>\n",
       "      <th>Pneumothorax</th>\n",
       "      <td>96</td>\n",
       "    </tr>\n",
       "    <tr>\n",
       "      <th>Enlarged PA</th>\n",
       "      <td>131</td>\n",
       "    </tr>\n",
       "    <tr>\n",
       "      <th>Mediastinal shift</th>\n",
       "      <td>150</td>\n",
       "    </tr>\n",
       "    <tr>\n",
       "      <th>Atelectasis</th>\n",
       "      <td>187</td>\n",
       "    </tr>\n",
       "    <tr>\n",
       "      <th>Lung tumor</th>\n",
       "      <td>291</td>\n",
       "    </tr>\n",
       "    <tr>\n",
       "      <th>Consolidation</th>\n",
       "      <td>353</td>\n",
       "    </tr>\n",
       "    <tr>\n",
       "      <th>ILD</th>\n",
       "      <td>397</td>\n",
       "    </tr>\n",
       "    <tr>\n",
       "      <th>Calcification</th>\n",
       "      <td>458</td>\n",
       "    </tr>\n",
       "    <tr>\n",
       "      <th>Infiltration</th>\n",
       "      <td>613</td>\n",
       "    </tr>\n",
       "    <tr>\n",
       "      <th>Tuberculosis</th>\n",
       "      <td>750</td>\n",
       "    </tr>\n",
       "    <tr>\n",
       "      <th>Nodule/Mass</th>\n",
       "      <td>841</td>\n",
       "    </tr>\n",
       "    <tr>\n",
       "      <th>Pneumonia</th>\n",
       "      <td>919</td>\n",
       "    </tr>\n",
       "    <tr>\n",
       "      <th>Pleural effusion</th>\n",
       "      <td>1038</td>\n",
       "    </tr>\n",
       "    <tr>\n",
       "      <th>Other lesion</th>\n",
       "      <td>1154</td>\n",
       "    </tr>\n",
       "    <tr>\n",
       "      <th>Lung Opacity</th>\n",
       "      <td>1331</td>\n",
       "    </tr>\n",
       "    <tr>\n",
       "      <th>Pulmonary fibrosis</th>\n",
       "      <td>1621</td>\n",
       "    </tr>\n",
       "    <tr>\n",
       "      <th>Pleural thickening</th>\n",
       "      <td>2010</td>\n",
       "    </tr>\n",
       "    <tr>\n",
       "      <th>Cardiomegaly</th>\n",
       "      <td>2316</td>\n",
       "    </tr>\n",
       "    <tr>\n",
       "      <th>Aortic enlargement</th>\n",
       "      <td>3098</td>\n",
       "    </tr>\n",
       "    <tr>\n",
       "      <th>Other diseases</th>\n",
       "      <td>4377</td>\n",
       "    </tr>\n",
       "    <tr>\n",
       "      <th>No finding</th>\n",
       "      <td>10606</td>\n",
       "    </tr>\n",
       "  </tbody>\n",
       "</table>\n",
       "</div>"
      ],
      "text/plain": [
       "                        0\n",
       "Edema                  13\n",
       "Clavicle fracture      27\n",
       "Lung cyst              33\n",
       "COPD                   36\n",
       "Lung cavity            51\n",
       "Emphysema              81\n",
       "Rib fracture           90\n",
       "Pneumothorax           96\n",
       "Enlarged PA           131\n",
       "Mediastinal shift     150\n",
       "Atelectasis           187\n",
       "Lung tumor            291\n",
       "Consolidation         353\n",
       "ILD                   397\n",
       "Calcification         458\n",
       "Infiltration          613\n",
       "Tuberculosis          750\n",
       "Nodule/Mass           841\n",
       "Pneumonia             919\n",
       "Pleural effusion     1038\n",
       "Other lesion         1154\n",
       "Lung Opacity         1331\n",
       "Pulmonary fibrosis   1621\n",
       "Pleural thickening   2010\n",
       "Cardiomegaly         2316\n",
       "Aortic enlargement   3098\n",
       "Other diseases       4377\n",
       "No finding          10606"
      ]
     },
     "execution_count": 189,
     "metadata": {},
     "output_type": "execute_result"
    }
   ],
   "source": [
    "df"
   ]
  },
  {
   "cell_type": "code",
   "execution_count": 1,
   "metadata": {},
   "outputs": [
    {
     "data": {
      "text/plain": [
       "17981"
      ]
     },
     "execution_count": 1,
     "metadata": {},
     "output_type": "execute_result"
    }
   ],
   "source": [
    "10606+4377+1038+291+750+919"
   ]
  },
  {
   "cell_type": "code",
   "execution_count": null,
   "metadata": {
    "collapsed": true
   },
   "outputs": [],
   "source": []
  },
  {
   "cell_type": "code",
   "execution_count": null,
   "metadata": {
    "collapsed": true
   },
   "outputs": [],
   "source": []
  },
  {
   "cell_type": "code",
   "execution_count": null,
   "metadata": {
    "collapsed": true
   },
   "outputs": [],
   "source": []
  },
  {
   "cell_type": "markdown",
   "metadata": {},
   "source": [
    "### Local annotations"
   ]
  },
  {
   "cell_type": "code",
   "execution_count": 190,
   "metadata": {},
   "outputs": [
    {
     "data": {
      "text/html": [
       "<div>\n",
       "<style scoped>\n",
       "    .dataframe tbody tr th:only-of-type {\n",
       "        vertical-align: middle;\n",
       "    }\n",
       "\n",
       "    .dataframe tbody tr th {\n",
       "        vertical-align: top;\n",
       "    }\n",
       "\n",
       "    .dataframe thead th {\n",
       "        text-align: right;\n",
       "    }\n",
       "</style>\n",
       "<table border=\"1\" class=\"dataframe\">\n",
       "  <thead>\n",
       "    <tr style=\"text-align: right;\">\n",
       "      <th></th>\n",
       "      <th>image_id</th>\n",
       "      <th>rad_id</th>\n",
       "      <th>class_name</th>\n",
       "      <th>x_min</th>\n",
       "      <th>y_min</th>\n",
       "      <th>x_max</th>\n",
       "      <th>y_max</th>\n",
       "    </tr>\n",
       "  </thead>\n",
       "  <tbody>\n",
       "    <tr>\n",
       "      <th>0</th>\n",
       "      <td>000434271f63a053c4128a0ba6352c7f</td>\n",
       "      <td>R2</td>\n",
       "      <td>No finding</td>\n",
       "      <td>NaN</td>\n",
       "      <td>NaN</td>\n",
       "      <td>NaN</td>\n",
       "      <td>NaN</td>\n",
       "    </tr>\n",
       "    <tr>\n",
       "      <th>1</th>\n",
       "      <td>000434271f63a053c4128a0ba6352c7f</td>\n",
       "      <td>R3</td>\n",
       "      <td>No finding</td>\n",
       "      <td>NaN</td>\n",
       "      <td>NaN</td>\n",
       "      <td>NaN</td>\n",
       "      <td>NaN</td>\n",
       "    </tr>\n",
       "    <tr>\n",
       "      <th>2</th>\n",
       "      <td>000434271f63a053c4128a0ba6352c7f</td>\n",
       "      <td>R6</td>\n",
       "      <td>No finding</td>\n",
       "      <td>NaN</td>\n",
       "      <td>NaN</td>\n",
       "      <td>NaN</td>\n",
       "      <td>NaN</td>\n",
       "    </tr>\n",
       "    <tr>\n",
       "      <th>3</th>\n",
       "      <td>00053190460d56c53cc3e57321387478</td>\n",
       "      <td>R11</td>\n",
       "      <td>No finding</td>\n",
       "      <td>NaN</td>\n",
       "      <td>NaN</td>\n",
       "      <td>NaN</td>\n",
       "      <td>NaN</td>\n",
       "    </tr>\n",
       "    <tr>\n",
       "      <th>4</th>\n",
       "      <td>00053190460d56c53cc3e57321387478</td>\n",
       "      <td>R2</td>\n",
       "      <td>No finding</td>\n",
       "      <td>NaN</td>\n",
       "      <td>NaN</td>\n",
       "      <td>NaN</td>\n",
       "      <td>NaN</td>\n",
       "    </tr>\n",
       "    <tr>\n",
       "      <th>5</th>\n",
       "      <td>00053190460d56c53cc3e57321387478</td>\n",
       "      <td>R7</td>\n",
       "      <td>No finding</td>\n",
       "      <td>NaN</td>\n",
       "      <td>NaN</td>\n",
       "      <td>NaN</td>\n",
       "      <td>NaN</td>\n",
       "    </tr>\n",
       "    <tr>\n",
       "      <th>6</th>\n",
       "      <td>0005e8e3701dfb1dd93d53e2ff537b6e</td>\n",
       "      <td>R10</td>\n",
       "      <td>Infiltration</td>\n",
       "      <td>900.956970</td>\n",
       "      <td>587.809021</td>\n",
       "      <td>1205.359985</td>\n",
       "      <td>888.710999</td>\n",
       "    </tr>\n",
       "    <tr>\n",
       "      <th>7</th>\n",
       "      <td>0005e8e3701dfb1dd93d53e2ff537b6e</td>\n",
       "      <td>R10</td>\n",
       "      <td>Lung Opacity</td>\n",
       "      <td>900.956970</td>\n",
       "      <td>587.809021</td>\n",
       "      <td>1205.359985</td>\n",
       "      <td>888.710999</td>\n",
       "    </tr>\n",
       "    <tr>\n",
       "      <th>8</th>\n",
       "      <td>0005e8e3701dfb1dd93d53e2ff537b6e</td>\n",
       "      <td>R8</td>\n",
       "      <td>Consolidation</td>\n",
       "      <td>932.471985</td>\n",
       "      <td>567.778992</td>\n",
       "      <td>1197.770020</td>\n",
       "      <td>896.408997</td>\n",
       "    </tr>\n",
       "    <tr>\n",
       "      <th>9</th>\n",
       "      <td>0005e8e3701dfb1dd93d53e2ff537b6e</td>\n",
       "      <td>R8</td>\n",
       "      <td>Nodule/Mass</td>\n",
       "      <td>932.471985</td>\n",
       "      <td>567.778992</td>\n",
       "      <td>1197.770020</td>\n",
       "      <td>896.408997</td>\n",
       "    </tr>\n",
       "  </tbody>\n",
       "</table>\n",
       "</div>"
      ],
      "text/plain": [
       "                           image_id rad_id     class_name       x_min  \\\n",
       "0  000434271f63a053c4128a0ba6352c7f     R2     No finding         NaN   \n",
       "1  000434271f63a053c4128a0ba6352c7f     R3     No finding         NaN   \n",
       "2  000434271f63a053c4128a0ba6352c7f     R6     No finding         NaN   \n",
       "3  00053190460d56c53cc3e57321387478    R11     No finding         NaN   \n",
       "4  00053190460d56c53cc3e57321387478     R2     No finding         NaN   \n",
       "5  00053190460d56c53cc3e57321387478     R7     No finding         NaN   \n",
       "6  0005e8e3701dfb1dd93d53e2ff537b6e    R10   Infiltration  900.956970   \n",
       "7  0005e8e3701dfb1dd93d53e2ff537b6e    R10   Lung Opacity  900.956970   \n",
       "8  0005e8e3701dfb1dd93d53e2ff537b6e     R8  Consolidation  932.471985   \n",
       "9  0005e8e3701dfb1dd93d53e2ff537b6e     R8    Nodule/Mass  932.471985   \n",
       "\n",
       "        y_min        x_max       y_max  \n",
       "0         NaN          NaN         NaN  \n",
       "1         NaN          NaN         NaN  \n",
       "2         NaN          NaN         NaN  \n",
       "3         NaN          NaN         NaN  \n",
       "4         NaN          NaN         NaN  \n",
       "5         NaN          NaN         NaN  \n",
       "6  587.809021  1205.359985  888.710999  \n",
       "7  587.809021  1205.359985  888.710999  \n",
       "8  567.778992  1197.770020  896.408997  \n",
       "9  567.778992  1197.770020  896.408997  "
      ]
     },
     "execution_count": 190,
     "metadata": {},
     "output_type": "execute_result"
    }
   ],
   "source": [
    "train_local_annotations.head(10)"
   ]
  },
  {
   "cell_type": "code",
   "execution_count": 191,
   "metadata": {},
   "outputs": [
    {
     "name": "stdout",
     "output_type": "stream",
     "text": [
      "['R1' 'R10' 'R11' 'R12' 'R13' 'R14' 'R15' 'R16' 'R17' 'R2' 'R3' 'R4' 'R5'\n",
      " 'R6' 'R7' 'R8' 'R9']\n"
     ]
    }
   ],
   "source": [
    "print(np.unique(train_local_annotations['rad_id']))"
   ]
  },
  {
   "cell_type": "code",
   "execution_count": 218,
   "metadata": {},
   "outputs": [
    {
     "name": "stdout",
     "output_type": "stream",
     "text": [
      "['Aortic enlargement' 'Atelectasis' 'Calcification' 'Cardiomegaly'\n",
      " 'Clavicle fracture' 'Consolidation' 'Edema' 'Emphysema' 'Enlarged PA'\n",
      " 'ILD' 'Infiltration' 'Lung Opacity' 'Lung cavity' 'Lung cyst'\n",
      " 'Mediastinal shift' 'No finding' 'Nodule/Mass' 'Other lesion'\n",
      " 'Pleural effusion' 'Pleural thickening' 'Pneumothorax'\n",
      " 'Pulmonary fibrosis' 'Rib fracture']\n",
      "23\n"
     ]
    }
   ],
   "source": [
    "print(np.unique(train_local_annotations['class_name']))\n",
    "print(len(np.unique(train_local_annotations['class_name'])))"
   ]
  },
  {
   "cell_type": "code",
   "execution_count": null,
   "metadata": {
    "collapsed": true
   },
   "outputs": [],
   "source": []
  }
 ],
 "metadata": {
  "kernelspec": {
   "display_name": "Python 3.7.6 64-bit ('torch37': conda)",
   "language": "python",
   "name": "python376jvsc74a57bd09372f3443f0100fdfc96191f716ab0c9babbafd749985a282374d5aa08e997ff"
  },
  "language_info": {
   "codemirror_mode": {
    "name": "ipython",
    "version": 3
   },
   "file_extension": ".py",
   "mimetype": "text/x-python",
   "name": "python",
   "nbconvert_exporter": "python",
   "pygments_lexer": "ipython3",
   "version": "3.7.6"
  }
 },
 "nbformat": 4,
 "nbformat_minor": 2
}
