{
 "cells": [
  {
   "cell_type": "code",
   "execution_count": 1,
   "metadata": {},
   "outputs": [
    {
     "data": {
      "text/plain": [
       "<torch._C.Generator at 0x7f57cbe6eaf0>"
      ]
     },
     "execution_count": 1,
     "metadata": {},
     "output_type": "execute_result"
    }
   ],
   "source": [
    "import numpy as np\n",
    "import torch\n",
    "from PIL import Image\n",
    "import pandas as pd\n",
    "import os\n",
    "torch.manual_seed(0)"
   ]
  },
  {
   "cell_type": "code",
   "execution_count": 4,
   "metadata": {
    "collapsed": true
   },
   "outputs": [],
   "source": [
    "# import zipfile"
   ]
  },
  {
   "cell_type": "code",
   "execution_count": null,
   "metadata": {
    "collapsed": true
   },
   "outputs": [],
   "source": [
    "# with zipfile.ZipFile(\"/scratch/scratch6/akansh12/DeepEXrays/data/data_256/Vin_big_dataCXR.zip\", 'r') as zip_ref:\n",
    "#     zip_ref.extractall(\"/scratch/scratch6/akansh12/DeepEXrays/data/data_256/\")"
   ]
  },
  {
   "cell_type": "code",
   "execution_count": 2,
   "metadata": {
    "collapsed": true
   },
   "outputs": [],
   "source": [
    "orig_ann = pd.read_csv(\"/scratch/scratch6/akansh12/DeepEXrays/physionet.org/files/vindr-cxr/1.0.0/annotations/annotations_train.csv\")"
   ]
  },
  {
   "cell_type": "code",
   "execution_count": 3,
   "metadata": {},
   "outputs": [
    {
     "data": {
      "text/html": [
       "<div>\n",
       "<style scoped>\n",
       "    .dataframe tbody tr th:only-of-type {\n",
       "        vertical-align: middle;\n",
       "    }\n",
       "\n",
       "    .dataframe tbody tr th {\n",
       "        vertical-align: top;\n",
       "    }\n",
       "\n",
       "    .dataframe thead th {\n",
       "        text-align: right;\n",
       "    }\n",
       "</style>\n",
       "<table border=\"1\" class=\"dataframe\">\n",
       "  <thead>\n",
       "    <tr style=\"text-align: right;\">\n",
       "      <th></th>\n",
       "      <th>image_id</th>\n",
       "      <th>rad_id</th>\n",
       "      <th>class_name</th>\n",
       "      <th>x_min</th>\n",
       "      <th>y_min</th>\n",
       "      <th>x_max</th>\n",
       "      <th>y_max</th>\n",
       "    </tr>\n",
       "  </thead>\n",
       "  <tbody>\n",
       "    <tr>\n",
       "      <th>0</th>\n",
       "      <td>000434271f63a053c4128a0ba6352c7f</td>\n",
       "      <td>R2</td>\n",
       "      <td>No finding</td>\n",
       "      <td>NaN</td>\n",
       "      <td>NaN</td>\n",
       "      <td>NaN</td>\n",
       "      <td>NaN</td>\n",
       "    </tr>\n",
       "    <tr>\n",
       "      <th>1</th>\n",
       "      <td>000434271f63a053c4128a0ba6352c7f</td>\n",
       "      <td>R3</td>\n",
       "      <td>No finding</td>\n",
       "      <td>NaN</td>\n",
       "      <td>NaN</td>\n",
       "      <td>NaN</td>\n",
       "      <td>NaN</td>\n",
       "    </tr>\n",
       "    <tr>\n",
       "      <th>2</th>\n",
       "      <td>000434271f63a053c4128a0ba6352c7f</td>\n",
       "      <td>R6</td>\n",
       "      <td>No finding</td>\n",
       "      <td>NaN</td>\n",
       "      <td>NaN</td>\n",
       "      <td>NaN</td>\n",
       "      <td>NaN</td>\n",
       "    </tr>\n",
       "    <tr>\n",
       "      <th>3</th>\n",
       "      <td>00053190460d56c53cc3e57321387478</td>\n",
       "      <td>R11</td>\n",
       "      <td>No finding</td>\n",
       "      <td>NaN</td>\n",
       "      <td>NaN</td>\n",
       "      <td>NaN</td>\n",
       "      <td>NaN</td>\n",
       "    </tr>\n",
       "    <tr>\n",
       "      <th>4</th>\n",
       "      <td>00053190460d56c53cc3e57321387478</td>\n",
       "      <td>R2</td>\n",
       "      <td>No finding</td>\n",
       "      <td>NaN</td>\n",
       "      <td>NaN</td>\n",
       "      <td>NaN</td>\n",
       "      <td>NaN</td>\n",
       "    </tr>\n",
       "    <tr>\n",
       "      <th>...</th>\n",
       "      <td>...</td>\n",
       "      <td>...</td>\n",
       "      <td>...</td>\n",
       "      <td>...</td>\n",
       "      <td>...</td>\n",
       "      <td>...</td>\n",
       "      <td>...</td>\n",
       "    </tr>\n",
       "    <tr>\n",
       "      <th>69047</th>\n",
       "      <td>fff0f82159f9083f3dd1f8967fc54f6a</td>\n",
       "      <td>R8</td>\n",
       "      <td>No finding</td>\n",
       "      <td>NaN</td>\n",
       "      <td>NaN</td>\n",
       "      <td>NaN</td>\n",
       "      <td>NaN</td>\n",
       "    </tr>\n",
       "    <tr>\n",
       "      <th>69048</th>\n",
       "      <td>fff0f82159f9083f3dd1f8967fc54f6a</td>\n",
       "      <td>R9</td>\n",
       "      <td>No finding</td>\n",
       "      <td>NaN</td>\n",
       "      <td>NaN</td>\n",
       "      <td>NaN</td>\n",
       "      <td>NaN</td>\n",
       "    </tr>\n",
       "    <tr>\n",
       "      <th>69049</th>\n",
       "      <td>fff2025e3c1d6970a8a6ee0404ac6940</td>\n",
       "      <td>R1</td>\n",
       "      <td>No finding</td>\n",
       "      <td>NaN</td>\n",
       "      <td>NaN</td>\n",
       "      <td>NaN</td>\n",
       "      <td>NaN</td>\n",
       "    </tr>\n",
       "    <tr>\n",
       "      <th>69050</th>\n",
       "      <td>fff2025e3c1d6970a8a6ee0404ac6940</td>\n",
       "      <td>R2</td>\n",
       "      <td>No finding</td>\n",
       "      <td>NaN</td>\n",
       "      <td>NaN</td>\n",
       "      <td>NaN</td>\n",
       "      <td>NaN</td>\n",
       "    </tr>\n",
       "    <tr>\n",
       "      <th>69051</th>\n",
       "      <td>fff2025e3c1d6970a8a6ee0404ac6940</td>\n",
       "      <td>R5</td>\n",
       "      <td>No finding</td>\n",
       "      <td>NaN</td>\n",
       "      <td>NaN</td>\n",
       "      <td>NaN</td>\n",
       "      <td>NaN</td>\n",
       "    </tr>\n",
       "  </tbody>\n",
       "</table>\n",
       "<p>69052 rows × 7 columns</p>\n",
       "</div>"
      ],
      "text/plain": [
       "                               image_id rad_id  class_name  x_min  y_min  \\\n",
       "0      000434271f63a053c4128a0ba6352c7f     R2  No finding    NaN    NaN   \n",
       "1      000434271f63a053c4128a0ba6352c7f     R3  No finding    NaN    NaN   \n",
       "2      000434271f63a053c4128a0ba6352c7f     R6  No finding    NaN    NaN   \n",
       "3      00053190460d56c53cc3e57321387478    R11  No finding    NaN    NaN   \n",
       "4      00053190460d56c53cc3e57321387478     R2  No finding    NaN    NaN   \n",
       "...                                 ...    ...         ...    ...    ...   \n",
       "69047  fff0f82159f9083f3dd1f8967fc54f6a     R8  No finding    NaN    NaN   \n",
       "69048  fff0f82159f9083f3dd1f8967fc54f6a     R9  No finding    NaN    NaN   \n",
       "69049  fff2025e3c1d6970a8a6ee0404ac6940     R1  No finding    NaN    NaN   \n",
       "69050  fff2025e3c1d6970a8a6ee0404ac6940     R2  No finding    NaN    NaN   \n",
       "69051  fff2025e3c1d6970a8a6ee0404ac6940     R5  No finding    NaN    NaN   \n",
       "\n",
       "       x_max  y_max  \n",
       "0        NaN    NaN  \n",
       "1        NaN    NaN  \n",
       "2        NaN    NaN  \n",
       "3        NaN    NaN  \n",
       "4        NaN    NaN  \n",
       "...      ...    ...  \n",
       "69047    NaN    NaN  \n",
       "69048    NaN    NaN  \n",
       "69049    NaN    NaN  \n",
       "69050    NaN    NaN  \n",
       "69051    NaN    NaN  \n",
       "\n",
       "[69052 rows x 7 columns]"
      ]
     },
     "execution_count": 3,
     "metadata": {},
     "output_type": "execute_result"
    }
   ],
   "source": [
    "orig_ann"
   ]
  },
  {
   "cell_type": "code",
   "execution_count": null,
   "metadata": {
    "collapsed": true
   },
   "outputs": [],
   "source": []
  }
 ],
 "metadata": {
  "kernelspec": {
   "display_name": "Python 3.7.6 64-bit ('torch37': conda)",
   "language": "python",
   "name": "python376jvsc74a57bd09372f3443f0100fdfc96191f716ab0c9babbafd749985a282374d5aa08e997ff"
  },
  "language_info": {
   "codemirror_mode": {
    "name": "ipython",
    "version": 3
   },
   "file_extension": ".py",
   "mimetype": "text/x-python",
   "name": "python",
   "nbconvert_exporter": "python",
   "pygments_lexer": "ipython3",
   "version": "3.7.6"
  }
 },
 "nbformat": 4,
 "nbformat_minor": 2
}
