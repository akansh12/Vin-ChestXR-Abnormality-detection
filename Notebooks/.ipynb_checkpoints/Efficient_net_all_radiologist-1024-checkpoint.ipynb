{
 "cells": [
  {
   "cell_type": "code",
   "execution_count": 3,
   "metadata": {
    "ExecuteTime": {
     "end_time": "2021-11-14T06:09:45.346469Z",
     "start_time": "2021-11-14T06:09:44.475569Z"
    },
    "collapsed": true
   },
   "outputs": [],
   "source": [
    "import warnings\n",
    "warnings.filterwarnings('ignore')\n",
    "import torch\n",
    "from torchvision import transforms, models, datasets\n",
    "import numpy as np\n",
    "import torch.optim as optim\n",
    "import torch.nn as nn\n",
    "import pandas as pd\n",
    "import os\n",
    "from tqdm.auto import tqdm\n",
    "from torch.utils.data import DataLoader, Dataset\n",
    "from torch.nn import functional as F\n",
    "import cv2"
   ]
  },
  {
   "cell_type": "code",
   "execution_count": 4,
   "metadata": {
    "ExecuteTime": {
     "end_time": "2021-11-14T06:09:46.058664Z",
     "start_time": "2021-11-14T06:09:46.054553Z"
    },
    "collapsed": true
   },
   "outputs": [],
   "source": [
    "from collections import OrderedDict"
   ]
  },
  {
   "cell_type": "code",
   "execution_count": 5,
   "metadata": {
    "ExecuteTime": {
     "end_time": "2021-11-14T06:09:46.885081Z",
     "start_time": "2021-11-14T06:09:46.744773Z"
    },
    "collapsed": true
   },
   "outputs": [],
   "source": [
    "import timm"
   ]
  },
  {
   "cell_type": "code",
   "execution_count": 6,
   "metadata": {
    "ExecuteTime": {
     "end_time": "2021-11-14T06:09:47.868154Z",
     "start_time": "2021-11-14T06:09:47.584157Z"
    },
    "collapsed": true
   },
   "outputs": [],
   "source": [
    "import matplotlib.pyplot as plt\n",
    "from PIL import Image"
   ]
  },
  {
   "cell_type": "code",
   "execution_count": 7,
   "metadata": {
    "ExecuteTime": {
     "end_time": "2021-11-14T06:39:39.614225Z",
     "start_time": "2021-11-14T06:39:39.609823Z"
    },
    "collapsed": true
   },
   "outputs": [],
   "source": [
    "labels_csv = {'train': \"/scratch/scratch6/akansh12/DeepEXrays/physionet.org/files/vindr-cxr/1.0.0/annotations/image_labels_train.csv\",\n",
    "             'test': \"/scratch/scratch6/akansh12/DeepEXrays/physionet.org/files/vindr-cxr/1.0.0/annotations/image_labels_test.csv\"\n",
    "             }\n",
    "\n",
    "data_dir = {'train': \"/scratch/scratch6/akansh12/DeepEXrays/data/data_1024/train/\",\n",
    "           'test': \"/scratch/scratch6/akansh12/DeepEXrays/data/data_1024/test/\"}"
   ]
  },
  {
   "cell_type": "code",
   "execution_count": 8,
   "metadata": {
    "ExecuteTime": {
     "end_time": "2021-11-14T06:39:42.610076Z",
     "start_time": "2021-11-14T06:39:42.605076Z"
    },
    "collapsed": true
   },
   "outputs": [],
   "source": [
    "#Normalization values:\n",
    "global_labels = ['Pleural effusion', 'Lung tumor', 'Pneumonia', 'Tuberculosis', 'Other diseases', 'No finding']"
   ]
  },
  {
   "cell_type": "code",
   "execution_count": 9,
   "metadata": {
    "ExecuteTime": {
     "end_time": "2021-11-14T08:14:55.380097Z",
     "start_time": "2021-11-14T08:14:55.362920Z"
    },
    "collapsed": true
   },
   "outputs": [],
   "source": [
    "#dataset\n",
    "class Vin_big_dataset(Dataset):\n",
    "    def __init__(self, image_loc, label_loc, transforms, data_type = 'train'):\n",
    "        global_labels = ['Pleural effusion', 'Lung tumor', 'Pneumonia', 'Tuberculosis', 'Other diseases', 'No finding']\n",
    "        \n",
    "        if data_type == 'train':\n",
    "            label_df = pd.read_csv(label_loc)\n",
    "            label_df['labels'] = label_df['image_id'] +'_'+ label_df['rad_id']\n",
    "            label_df.set_index(\"labels\", inplace = True)\n",
    "            filenames = label_df.index.values.tolist()\n",
    "            \n",
    "            self.full_filenames = [os.path.join(image_loc, i.split('_')[0]+'.png') for i in filenames]\n",
    "            self.labels = []\n",
    "            for i in tqdm(filenames):\n",
    "                self.labels.append(label_df[global_labels].loc[i].values.tolist())         \n",
    "            self.labels = torch.tensor(self.labels)\n",
    "        if data_type == 'test':                     \n",
    "            filenames = os.listdir(image_loc)\n",
    "            self.full_filenames = [os.path.join(image_loc, i) for i in filenames]\n",
    "            label_df = pd.read_csv(label_loc)\n",
    "            label_df.set_index(\"image_id\", inplace = True)\n",
    "            self.labels = [label_df[global_labels].loc[filename[:-4]].values for filename in filenames]\n",
    "            \n",
    "        self.transforms = transforms\n",
    "#         self.data_type = data_type\n",
    "    def __len__(self):\n",
    "        return len(self.full_filenames)\n",
    "    \n",
    "    def __getitem__(self, idx):\n",
    "        image = Image.open(self.full_filenames[idx])\n",
    "        image = self.transforms(image)\n",
    "        \n",
    "        return image, self.labels[idx]\n",
    "    \n",
    "            "
   ]
  },
  {
   "cell_type": "code",
   "execution_count": 10,
   "metadata": {
    "ExecuteTime": {
     "end_time": "2021-11-14T08:14:57.197658Z",
     "start_time": "2021-11-14T08:14:57.187415Z"
    },
    "collapsed": true
   },
   "outputs": [],
   "source": [
    "data_transforms = { \n",
    "    \"train\": transforms.Compose([\n",
    "        transforms.RandomHorizontalFlip(p = 0.4), \n",
    "        transforms.RandomPerspective(distortion_scale=0.3),\n",
    "        transforms.RandomRotation((-30,30)),\n",
    "        transforms.ToTensor(),\n",
    "        transforms.Normalize(mean = [0.485, 0.456, 0.406], std = [0.229, 0.224, 0.225])\n",
    "    ]),\n",
    "    \n",
    "    \"test\": transforms.Compose([\n",
    "        transforms.ToTensor(),\n",
    "        transforms.Normalize(mean = [0.485, 0.456, 0.406], std = [0.229, 0.224, 0.225])        \n",
    "    ])\n",
    "    \n",
    "}"
   ]
  },
  {
   "cell_type": "code",
   "execution_count": 11,
   "metadata": {
    "ExecuteTime": {
     "end_time": "2021-11-14T07:53:53.964649Z",
     "start_time": "2021-11-14T07:53:17.984939Z"
    }
   },
   "outputs": [
    {
     "data": {
      "application/vnd.jupyter.widget-view+json": {
       "model_id": "54159cb8a50646869637d332f63227c4",
       "version_major": 2,
       "version_minor": 0
      },
      "text/plain": [
       "HBox(children=(FloatProgress(value=0.0, max=45000.0), HTML(value='')))"
      ]
     },
     "metadata": {},
     "output_type": "display_data"
    },
    {
     "name": "stdout",
     "output_type": "stream",
     "text": [
      "\n"
     ]
    }
   ],
   "source": [
    "train_data = Vin_big_dataset(image_loc = data_dir['train'],\n",
    "                          label_loc = labels_csv['train'],\n",
    "                          transforms = data_transforms['train'],\n",
    "                          data_type = 'train')\n",
    "\n",
    "test_data = Vin_big_dataset(image_loc = data_dir['test'],\n",
    "                          label_loc = labels_csv['test'],\n",
    "                          transforms = data_transforms['test'],\n",
    "                          data_type = 'test')"
   ]
  },
  {
   "cell_type": "code",
   "execution_count": 12,
   "metadata": {
    "ExecuteTime": {
     "end_time": "2021-11-14T07:54:37.721335Z",
     "start_time": "2021-11-14T07:54:37.664906Z"
    }
   },
   "outputs": [
    {
     "name": "stdout",
     "output_type": "stream",
     "text": [
      "torch.Size([3, 1024, 1024])\n",
      "tensor([0, 0, 0, 0, 0, 1])\n"
     ]
    }
   ],
   "source": [
    "for x,y in train_data:\n",
    "    print(x.shape)\n",
    "    print(y)\n",
    "    break"
   ]
  },
  {
   "cell_type": "code",
   "execution_count": 13,
   "metadata": {
    "ExecuteTime": {
     "end_time": "2021-11-14T06:40:44.143494Z",
     "start_time": "2021-11-14T06:40:44.140961Z"
    },
    "collapsed": true
   },
   "outputs": [],
   "source": [
    "trainloader = DataLoader(train_data,batch_size = 8,shuffle = True)\n",
    "testloader = DataLoader(test_data,batch_size = 8,shuffle = False)"
   ]
  },
  {
   "cell_type": "code",
   "execution_count": 14,
   "metadata": {
    "ExecuteTime": {
     "end_time": "2021-11-14T06:41:16.345077Z",
     "start_time": "2021-11-14T06:41:15.705716Z"
    }
   },
   "outputs": [
    {
     "data": {
      "text/plain": [
       "<All keys matched successfully>"
      ]
     },
     "execution_count": 14,
     "metadata": {},
     "output_type": "execute_result"
    }
   ],
   "source": [
    "model = timm.create_model('efficientnet_b6', pretrained=False)\n",
    "model.load_state_dict(torch.load(\"/storage/home/akansh12/Vin-ChestXR-Abnormality-detection/model/tf_efficientnet_b6_aa-80ba17e4.pth\"))"
   ]
  },
  {
   "cell_type": "code",
   "execution_count": 16,
   "metadata": {
    "ExecuteTime": {
     "end_time": "2021-11-14T06:41:20.024503Z",
     "start_time": "2021-11-14T06:41:20.005965Z"
    },
    "collapsed": true
   },
   "outputs": [],
   "source": [
    "model.classifier = nn.Sequential(OrderedDict([\n",
    "    ('fcl1', nn.Linear(2304,6)),\n",
    "    ('out', nn.Sigmoid()),\n",
    "]))"
   ]
  },
  {
   "cell_type": "code",
   "execution_count": 29,
   "metadata": {
    "collapsed": true
   },
   "outputs": [],
   "source": [
    "def train_one_epoch(model, optimizer, lr_scheduler,\n",
    "                    dataloader, epoch, criterion):\n",
    "    \n",
    "    print(\"Start Train ...\")\n",
    "    model.train()\n",
    "\n",
    "    losses_train = []\n",
    "    model_train_result = []\n",
    "    train_target = []\n",
    "\n",
    "\n",
    "    for data, targets in tqdm(dataloader):\n",
    "        data = data.to(device)\n",
    "        targets = targets.to(device).type(torch.float)\n",
    "\n",
    "\n",
    "        outputs = model(data)\n",
    "        model_train_result.extend(outputs.detach().cpu().numpy().tolist())\n",
    "        train_target.extend(targets.cpu().numpy())\n",
    "\n",
    "\n",
    "        loss = criterion(outputs, targets)\n",
    "\n",
    "        losses_train.append(loss.item())\n",
    "\n",
    "        optimizer.zero_grad()\n",
    "        loss.backward()\n",
    "        optimizer.step()\n",
    "        \n",
    "    train_auc = roc_auc_score(train_target, np.array(model_train_result), average=None)\n",
    "\n",
    "        \n",
    "    if lr_scheduler is not None:\n",
    "        lr_scheduler.step()\n",
    "\n",
    "    lr = lr_scheduler.get_last_lr()[0]\n",
    "    print(\"Epoch [%d]\" % (epoch),\n",
    "          \"Mean loss on train:\", np.array(losses_train).mean(), \n",
    "          \"AUC score:\",np.array(train_auc),\n",
    "          \"Mean AUC score on train:\", np.array(train_auc).mean(), \n",
    "          \"Learning Rate:\", lr)\n",
    "\n",
    "    \n",
    "    return np.array(losses_train).mean(), np.array(train_auc), lr\n",
    "\n",
    "\n",
    "def val_epoch(model, dataloader, epoch, criterion):\n",
    "    \n",
    "    print(\"Start Validation ...\")\n",
    "    model.eval()\n",
    "    \n",
    "    model_val_result = []\n",
    "    val_target = []\n",
    "    losses_val = []\n",
    "\n",
    "    with torch.no_grad():\n",
    "        for data, targets in tqdm(dataloader):\n",
    "\n",
    "            data = data.to('cuda')\n",
    "            targets = targets.to('cuda').type(torch.float)\n",
    "\n",
    "            outputs = model(data)\n",
    "            \n",
    "            #loss\n",
    "            loss = criterion(outputs, targets)\n",
    "            losses_val.append(loss.item())\n",
    "\n",
    "            \n",
    "            model_val_result.extend(outputs.detach().cpu().numpy().tolist())\n",
    "            val_target.extend(targets.cpu().numpy())\n",
    "            \n",
    "        val_auc = roc_auc_score(val_target, np.array(model_val_result), average=None)\n",
    "\n",
    "\n",
    "\n",
    "\n",
    "        print(\"Epoch:  \" + str(epoch) + \" AUC valid Score:\", np.array(val_auc), \n",
    "              \"Mean valid AUC score\", np.array(val_auc).mean())\n",
    "        \n",
    "    return np.array(losses_val).mean(), np.array(val_auc)"
   ]
  },
  {
   "cell_type": "code",
   "execution_count": 30,
   "metadata": {
    "ExecuteTime": {
     "end_time": "2021-11-14T06:41:34.307876Z",
     "start_time": "2021-11-14T06:41:32.077625Z"
    },
    "collapsed": true
   },
   "outputs": [],
   "source": [
    "device = 'cuda' if torch.cuda.is_available() else 'cpu'\n",
    "if torch.cuda.is_available():\n",
    "    model = model.cuda()\n",
    "    model = nn.DataParallel(model)"
   ]
  },
  {
   "cell_type": "code",
   "execution_count": 31,
   "metadata": {
    "collapsed": true
   },
   "outputs": [],
   "source": [
    "for param in model.parameters():\n",
    "    param.requires_grad = True\n",
    "    \n",
    "params = [p for p in model.parameters() if p.requires_grad]\n",
    "\n",
    "stage_epoch =  [20, 10, 20] #[12, 8, 5]\n",
    "stage_optimizer = [\n",
    "    torch.optim.Adamax(params, lr=0.0002),\n",
    "    torch.optim.SGD(params, lr=0.00009, momentum=0.9),\n",
    "    torch.optim.Adam(params, lr=0.00005),\n",
    "]\n",
    "\n",
    "stage_scheduler = [\n",
    "    torch.optim.lr_scheduler.CosineAnnealingLR(stage_optimizer[0], 4, 1e-6),\n",
    "    torch.optim.lr_scheduler.CyclicLR(stage_optimizer[1], base_lr=1e-5, max_lr=2e-4),\n",
    "    torch.optim.lr_scheduler.CosineAnnealingLR(stage_optimizer[2], 4, 1e-6),\n",
    "]\n"
   ]
  },
  {
   "cell_type": "code",
   "execution_count": 32,
   "metadata": {
    "collapsed": true
   },
   "outputs": [],
   "source": [
    "criterion = nn.BCELoss()"
   ]
  },
  {
   "cell_type": "code",
   "execution_count": null,
   "metadata": {
    "ExecuteTime": {
     "end_time": "2021-11-14T06:42:36.780414Z",
     "start_time": "2021-11-14T06:42:36.696384Z"
    }
   },
   "outputs": [
    {
     "name": "stdout",
     "output_type": "stream",
     "text": [
      "Start Train ...\n"
     ]
    },
    {
     "data": {
      "application/vnd.jupyter.widget-view+json": {
       "model_id": "b786883af9244f71960fdba08e588067",
       "version_major": 2,
       "version_minor": 0
      },
      "text/plain": [
       "HBox(children=(FloatProgress(value=0.0, max=5625.0), HTML(value='')))"
      ]
     },
     "metadata": {},
     "output_type": "display_data"
    }
   ],
   "source": [
    "weights_dir = \"/scratch/scratch6/akansh12/DeepEXrays/model\"\n",
    "\n",
    "train_loss_history = []\n",
    "val_loss_history = []\n",
    "train_AUC_history = []\n",
    "val_AUC_history = []\n",
    "lr_history = []\n",
    "\n",
    "for k, (num_epochs, optimizer, lr_scheduler) in enumerate(zip(stage_epoch, stage_optimizer, stage_scheduler)):\n",
    "    for epoch in range(num_epochs):\n",
    "        \n",
    "        \n",
    "        train_loss, train_auc, lr = train_one_epoch(model, optimizer, lr_scheduler,trainloader, epoch, criterion)\n",
    "    \n",
    "        val_loss, val_auc = val_epoch(model, testloader, epoch, criterion)\n",
    "        \n",
    "        \n",
    "        # train history\n",
    "        train_loss_history.append(train_loss)\n",
    "        train_AUC_history.append(train_auc)\n",
    "        lr_history.append(lr)\n",
    "        \n",
    "        #val history\n",
    "        val_loss_history.append(val_loss)\n",
    "        val_AUC_history.append(val_auc)\n",
    "        \n",
    "        # save best weights\n",
    "        best_auc = max(np.mean(val_AUC_history, axis =1 ))\n",
    "        if np.mean(val_auc) >= best_auc:\n",
    "            torch.save({'state_dict': model.state_dict()},\n",
    "                        os.path.join(weights_dir, f\"{np.mean(val_auc):0.6f}_.pth\"))\n",
    "    \n",
    "    print(\"\\nNext stage\\n\")\n",
    "    # Load the best weights\n",
    "    best_weights =  sorted(glob.glob(weights_dir + \"/*\"),\n",
    "                       key= lambda x: x[8:-5])[-1]\n",
    "    checkpoint = torch.load(best_weights)\n",
    "    model.load_state_dict(checkpoint['state_dict'])\n",
    "\n",
    "    print(f'Loaded model: {best_weights.split(\"/\")[1]}')\n"
   ]
  },
  {
   "cell_type": "code",
   "execution_count": null,
   "metadata": {
    "collapsed": true
   },
   "outputs": [],
   "source": []
  }
 ],
 "metadata": {
  "kernelspec": {
   "display_name": "Python 3.7.6 64-bit ('torch37': conda)",
   "language": "python",
   "name": "python376jvsc74a57bd09372f3443f0100fdfc96191f716ab0c9babbafd749985a282374d5aa08e997ff"
  },
  "language_info": {
   "codemirror_mode": {
    "name": "ipython",
    "version": 3
   },
   "file_extension": ".py",
   "mimetype": "text/x-python",
   "name": "python",
   "nbconvert_exporter": "python",
   "pygments_lexer": "ipython3",
   "version": "3.7.6"
  },
  "toc": {
   "base_numbering": 1,
   "nav_menu": {},
   "number_sections": true,
   "sideBar": true,
   "skip_h1_title": false,
   "title_cell": "Table of Contents",
   "title_sidebar": "Contents",
   "toc_cell": false,
   "toc_position": {},
   "toc_section_display": true,
   "toc_window_display": false
  },
  "varInspector": {
   "cols": {
    "lenName": 16,
    "lenType": 16,
    "lenVar": 40
   },
   "kernels_config": {
    "python": {
     "delete_cmd_postfix": "",
     "delete_cmd_prefix": "del ",
     "library": "var_list.py",
     "varRefreshCmd": "print(var_dic_list())"
    },
    "r": {
     "delete_cmd_postfix": ") ",
     "delete_cmd_prefix": "rm(",
     "library": "var_list.r",
     "varRefreshCmd": "cat(var_dic_list()) "
    }
   },
   "types_to_exclude": [
    "module",
    "function",
    "builtin_function_or_method",
    "instance",
    "_Feature"
   ],
   "window_display": false
  }
 },
 "nbformat": 4,
 "nbformat_minor": 2
}
