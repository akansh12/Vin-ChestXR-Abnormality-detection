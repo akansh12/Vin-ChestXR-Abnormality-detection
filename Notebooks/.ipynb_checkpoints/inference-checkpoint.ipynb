{
 "cells": [
  {
   "cell_type": "code",
   "execution_count": 19,
   "id": "b3b81cea",
   "metadata": {},
   "outputs": [],
   "source": [
    "import numpy as np\n",
    "import pandas as pd\n",
    "import sys\n",
    "sys.path.append('../src')\n",
    "import torch"
   ]
  },
  {
   "cell_type": "code",
   "execution_count": 8,
   "id": "bea7605a",
   "metadata": {},
   "outputs": [],
   "source": [
    "import os\n",
    "from PIL import Image"
   ]
  },
  {
   "cell_type": "code",
   "execution_count": 4,
   "id": "16a7116a",
   "metadata": {},
   "outputs": [],
   "source": [
    "from vin_big_dataset import Vin_big_dataset\n",
    "from transform_vin_big import vin_big_transform\n",
    "from model_global import global_model\n",
    "from model_local import local_model"
   ]
  },
  {
   "cell_type": "code",
   "execution_count": 14,
   "id": "073d61de",
   "metadata": {},
   "outputs": [],
   "source": [
    "labels_csv = {'train': \"/scratch/scratch6/akansh12/DeepEXrays/physionet.org/files/vindr-cxr/1.0.0/annotations/image_labels_train.csv\",\n",
    "             'test': \"/scratch/scratch6/akansh12/DeepEXrays/physionet.org/files/vindr-cxr/1.0.0/annotations/image_labels_test.csv\"\n",
    "             }\n",
    "data_dir = {'train': \"/scratch/scratch6/akansh12/DeepEXrays/data/data_256/train/\",\n",
    "           'test': \"/scratch/scratch6/akansh12/DeepEXrays/data/data_256/test/\"}\n",
    "\n",
    "global_labels = ['Pleural effusion', 'Lung tumor', 'Pneumonia', 'Tuberculosis', 'Other diseases', 'No finding']\n",
    "\n",
    "local_labels = ['Aortic enlargement', 'Atelectasis', 'Calcification', 'Cardiomegaly', 'Clavicle fracture', \n",
    "                             'Consolidation', 'Emphysema', 'Enlarged PA', 'ILD', 'Infiltration',\n",
    "                             'Lung Opacity', 'Lung cavity', 'Lung cyst', 'Mediastinal shift',\n",
    "                             'Nodule/Mass', 'Pleural effusion', 'Pneumothorax',\n",
    "                             'Pulmonary fibrosis', 'Rib fracture', 'Other lesion', 'COPD', 'No finding']\n"
   ]
  },
  {
   "cell_type": "code",
   "execution_count": 10,
   "id": "31b75edc",
   "metadata": {},
   "outputs": [],
   "source": [
    "train_label = pd.read_csv(labels_csv['train'])\n",
    "test_label = pd.read_csv(labels_csv['test'])"
   ]
  },
  {
   "cell_type": "code",
   "execution_count": 16,
   "id": "83623263",
   "metadata": {},
   "outputs": [],
   "source": [
    "test_tranform = vin_big_transform(t_type = 'test')"
   ]
  },
  {
   "cell_type": "code",
   "execution_count": 25,
   "id": "98174a6d",
   "metadata": {},
   "outputs": [],
   "source": [
    "global_model = global_model(\"/scratch/scratch6/akansh12/DeepEXrays/model/0.927723_.pth\")"
   ]
  },
  {
   "cell_type": "code",
   "execution_count": 33,
   "id": "c8a18a2b",
   "metadata": {},
   "outputs": [],
   "source": [
    "path2img = os.path.join(data_dir['test'] + '013c169f9dad6f1f6485da961b9f7bf2' + '.png')"
   ]
  },
  {
   "cell_type": "code",
   "execution_count": 34,
   "id": "3028f093",
   "metadata": {},
   "outputs": [],
   "source": [
    "with torch.no_grad():\n",
    "    global_model.eval()\n",
    "    out = global_model(torch.unsqueeze(test_tranform(Image.open(path2img)), dim = 0)) "
   ]
  },
  {
   "cell_type": "code",
   "execution_count": 35,
   "id": "d5e2ce7f",
   "metadata": {},
   "outputs": [
    {
     "data": {
      "text/plain": [
       "tensor([[False, False, False, False, False,  True]])"
      ]
     },
     "execution_count": 35,
     "metadata": {},
     "output_type": "execute_result"
    }
   ],
   "source": [
    "out > 0.5"
   ]
  },
  {
   "cell_type": "code",
   "execution_count": 37,
   "id": "72961654",
   "metadata": {},
   "outputs": [
    {
     "data": {
      "text/plain": [
       "array([0, 0, 0, 0, 0, 1])"
      ]
     },
     "execution_count": 37,
     "metadata": {},
     "output_type": "execute_result"
    }
   ],
   "source": [
    "test_label.set_index('image_id').loc['013c169f9dad6f1f6485da961b9f7bf2'][global_labels].values"
   ]
  },
  {
   "cell_type": "code",
   "execution_count": 32,
   "id": "82213efa",
   "metadata": {},
   "outputs": [
    {
     "data": {
      "text/plain": [
       "tensor([[False, False, False, False, False,  True]])"
      ]
     },
     "execution_count": 32,
     "metadata": {},
     "output_type": "execute_result"
    }
   ],
   "source": [
    "out > 0.5"
   ]
  },
  {
   "cell_type": "code",
   "execution_count": null,
   "id": "bc4ea9c4",
   "metadata": {},
   "outputs": [],
   "source": []
  }
 ],
 "metadata": {
  "kernelspec": {
   "display_name": "env",
   "language": "python",
   "name": "env"
  },
  "language_info": {
   "codemirror_mode": {
    "name": "ipython",
    "version": 3
   },
   "file_extension": ".py",
   "mimetype": "text/x-python",
   "name": "python",
   "nbconvert_exporter": "python",
   "pygments_lexer": "ipython3",
   "version": "3.7.6"
  }
 },
 "nbformat": 4,
 "nbformat_minor": 5
}
