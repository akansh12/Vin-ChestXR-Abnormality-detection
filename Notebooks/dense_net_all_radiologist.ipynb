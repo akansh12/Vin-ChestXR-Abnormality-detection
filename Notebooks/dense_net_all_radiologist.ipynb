{
 "cells": [
  {
   "cell_type": "code",
   "execution_count": 2,
   "metadata": {
    "collapsed": true
   },
   "outputs": [],
   "source": [
    "import warnings\n",
    "warnings.filterwarnings('ignore')\n",
    "import torch\n",
    "from torchvision import transforms, models, datasets\n",
    "import numpy as np\n",
    "import torch.optim as optim\n",
    "import torch.nn as nn\n",
    "import pandas as pd\n",
    "import os\n",
    "from tqdm.auto import tqdm\n",
    "from torch.utils.data import DataLoader, Dataset\n",
    "from torch.nn import functional as F"
   ]
  },
  {
   "cell_type": "code",
   "execution_count": 3,
   "metadata": {
    "collapsed": true
   },
   "outputs": [],
   "source": [
    "from collections import OrderedDict"
   ]
  },
  {
   "cell_type": "code",
   "execution_count": 4,
   "metadata": {
    "collapsed": true
   },
   "outputs": [],
   "source": [
    "import timm"
   ]
  },
  {
   "cell_type": "code",
   "execution_count": 5,
   "metadata": {
    "collapsed": true
   },
   "outputs": [],
   "source": [
    "import matplotlib.pyplot as plt\n",
    "from PIL import Image"
   ]
  },
  {
   "cell_type": "code",
   "execution_count": 6,
   "metadata": {
    "collapsed": true
   },
   "outputs": [],
   "source": [
    "labels_csv = {'train': \"/scratch/scratch6/akansh12/DeepEXrays/physionet.org/files/vindr-cxr/1.0.0/annotations/image_labels_train.csv\",\n",
    "             'test': \"/scratch/scratch6/akansh12/DeepEXrays/physionet.org/files/vindr-cxr/1.0.0/annotations/image_labels_test.csv\"\n",
    "             }\n",
    "\n",
    "data_dir = {'train': \"/scratch/scratch6/akansh12/DeepEXrays/data/data_1024/train/\",\n",
    "           'test': \"/scratch/scratch6/akansh12/DeepEXrays/data/data_1024/test/\"}"
   ]
  },
  {
   "cell_type": "code",
   "execution_count": 7,
   "metadata": {
    "collapsed": true
   },
   "outputs": [],
   "source": [
    "#Normalization values:\n",
    "global_labels = ['Pleural effusion', 'Lung tumor', 'Pneumonia', 'Tuberculosis', 'Other diseases', 'No finding']"
   ]
  },
  {
   "cell_type": "code",
   "execution_count": 15,
   "metadata": {
    "collapsed": true
   },
   "outputs": [],
   "source": [
    "#dataset\n",
    "class Vin_big_dataset(Dataset):\n",
    "    def __init__(self, image_loc, label_loc, transforms, data_type = 'train'):\n",
    "        global_labels = ['Pleural effusion', 'Lung tumor', 'Pneumonia', 'Tuberculosis', 'Other diseases', 'No finding']\n",
    "        \n",
    "        if data_type == 'train':\n",
    "            label_df = pd.read_csv(label_loc)\n",
    "            label_df['labels'] = label_df['image_id'] +'_'+ label_df['rad_id']\n",
    "            label_df.set_index(\"labels\", inplace = True)\n",
    "            filenames = label_df.index.values.tolist()\n",
    "            \n",
    "            self.full_filenames = [os.path.join(image_loc, i.split('_')[0]+'.png') for i in filenames]\n",
    "            self.labels = []\n",
    "            for i in tqdm(filenames):\n",
    "                self.labels.append(label_df[global_labels].loc[i].values.tolist())         \n",
    "            self.labels = torch.tensor(self.labels)\n",
    "        if data_type == 'test':                     \n",
    "            filenames = os.listdir(image_loc)\n",
    "            self.full_filenames = [os.path.join(image_loc, i) for i in filenames]\n",
    "            label_df = pd.read_csv(label_loc)\n",
    "            label_df.set_index(\"image_id\", inplace = True)\n",
    "            self.labels = [label_df[global_labels].loc[filename[:-4]].values for filename in filenames]\n",
    "            \n",
    "        self.transforms = transforms\n",
    "#         self.data_type = data_type\n",
    "    def __len__(self):\n",
    "        return len(self.full_filenames)\n",
    "    \n",
    "    def __getitem__(self, idx):\n",
    "        image = Image.open(self.full_filenames[idx])\n",
    "        image = self.transforms(image)\n",
    "        \n",
    "        return image, self.labels[idx]\n",
    "    \n",
    "            "
   ]
  },
  {
   "cell_type": "markdown",
   "metadata": {},
   "source": [
    "### Get mean and STD"
   ]
  },
  {
   "cell_type": "code",
   "execution_count": 16,
   "metadata": {},
   "outputs": [
    {
     "data": {
      "application/vnd.jupyter.widget-view+json": {
       "model_id": "de4cd3d8d89e42e685416cca7f96b654",
       "version_major": 2,
       "version_minor": 0
      },
      "text/plain": [
       "HBox(children=(FloatProgress(value=0.0, max=45000.0), HTML(value='')))"
      ]
     },
     "metadata": {},
     "output_type": "display_data"
    },
    {
     "name": "stdout",
     "output_type": "stream",
     "text": [
      "\n"
     ]
    },
    {
     "data": {
      "application/vnd.jupyter.widget-view+json": {
       "model_id": "344e6ddefbf744c981134dd9627f9ed1",
       "version_major": 2,
       "version_minor": 0
      },
      "text/plain": [
       "HBox(children=(FloatProgress(value=0.0, max=2813.0), HTML(value='')))"
      ]
     },
     "metadata": {},
     "output_type": "display_data"
    },
    {
     "name": "stdout",
     "output_type": "stream",
     "text": [
      "\n",
      "tensor([0.5490, 0.5490, 0.5490]) tensor([0.2684, 0.2684, 0.2684])\n"
     ]
    }
   ],
   "source": [
    "train_data = Vin_big_dataset(image_loc = data_dir['train'],\n",
    "                          label_loc = labels_csv['train'],\n",
    "                          transforms = transforms.ToTensor(),\n",
    "                          data_type = 'train')\n",
    "\n",
    "def get_mean_std(loader):\n",
    "    channels_sum, channels_squared_sum, num_batches = 0,0,0\n",
    "    \n",
    "    for data,_ in tqdm(loader):\n",
    "        channels_sum += torch.mean(data, dim = [0,2,3])\n",
    "        channels_squared_sum += torch.mean(data**2, dim = [0,2,3])\n",
    "        num_batches += 1\n",
    "        \n",
    "    mean = channels_sum/num_batches\n",
    "    std = (channels_squared_sum/num_batches - mean**2)**0.5\n",
    "    \n",
    "    return mean, std\n",
    "\n",
    "mean, std = get_mean_std(DataLoader(train_data,batch_size = 16,shuffle = True))\n",
    "print(mean, std)"
   ]
  },
  {
   "cell_type": "code",
   "execution_count": 17,
   "metadata": {
    "collapsed": true
   },
   "outputs": [],
   "source": [
    "data_transforms = { \n",
    "    \"train\": transforms.Compose([\n",
    "#         transforms.Resize((256,256)),\n",
    "#         transforms.CenterCrop((224,224)),\n",
    "        transforms.RandomHorizontalFlip(p = 0.5), \n",
    "        transforms.RandomPerspective(distortion_scale=0.3),\n",
    "        transforms.RandomRotation((-20,20)),\n",
    "        transforms.ToTensor(),\n",
    "        transforms.Normalize([0.5490, 0.5490, 0.5490], [0.2684, 0.2684, 0.2684])\n",
    "    ]),\n",
    "    \n",
    "    \"test\": transforms.Compose([\n",
    "#         transforms.Resize((224,224)),\n",
    "        transforms.ToTensor(),\n",
    "        transforms.Normalize([0.5490, 0.5490, 0.5490], [0.2684, 0.2684, 0.2684])        \n",
    "    ])\n",
    "    \n",
    "}"
   ]
  },
  {
   "cell_type": "code",
   "execution_count": 18,
   "metadata": {},
   "outputs": [
    {
     "data": {
      "application/vnd.jupyter.widget-view+json": {
       "model_id": "51e63cc1e96c4a3c86a57c7226090fb8",
       "version_major": 2,
       "version_minor": 0
      },
      "text/plain": [
       "HBox(children=(FloatProgress(value=0.0, max=45000.0), HTML(value='')))"
      ]
     },
     "metadata": {},
     "output_type": "display_data"
    },
    {
     "name": "stdout",
     "output_type": "stream",
     "text": [
      "\n"
     ]
    }
   ],
   "source": [
    "train_data = Vin_big_dataset(image_loc = data_dir['train'],\n",
    "                          label_loc = labels_csv['train'],\n",
    "                          transforms = data_transforms['train'],\n",
    "                          data_type = 'train')\n",
    "\n",
    "test_data = Vin_big_dataset(image_loc = data_dir['test'],\n",
    "                          label_loc = labels_csv['test'],\n",
    "                          transforms = data_transforms['test'],\n",
    "                          data_type = 'test')"
   ]
  },
  {
   "cell_type": "code",
   "execution_count": 19,
   "metadata": {},
   "outputs": [],
   "source": [
    "trainloader = DataLoader(train_data,batch_size = 4,shuffle = True)\n",
    "testloader = DataLoader(test_data,batch_size = 4,shuffle = False)"
   ]
  },
  {
   "cell_type": "code",
   "execution_count": 20,
   "metadata": {
    "collapsed": true
   },
   "outputs": [],
   "source": [
    "model = timm.create_model('efficientnet_b6', pretrained=False)"
   ]
  },
  {
   "cell_type": "code",
   "execution_count": 21,
   "metadata": {
    "collapsed": true
   },
   "outputs": [],
   "source": [
    "# torch.save(model.state_dict(), \"/storage/home/akansh12/Vin-ChestXR-Abnormality-detection/model/imageNet_DenseNet201.pt\")"
   ]
  },
  {
   "cell_type": "code",
   "execution_count": 22,
   "metadata": {},
   "outputs": [
    {
     "data": {
      "text/plain": [
       "<All keys matched successfully>"
      ]
     },
     "execution_count": 22,
     "metadata": {},
     "output_type": "execute_result"
    }
   ],
   "source": [
    "model.load_state_dict(torch.load(\"/storage/home/akansh12/Vin-ChestXR-Abnormality-detection/model/tf_efficientnet_b6_aa-80ba17e4.pth\"))"
   ]
  },
  {
   "cell_type": "code",
   "execution_count": 23,
   "metadata": {
    "collapsed": true
   },
   "outputs": [],
   "source": [
    "model.classifier = nn.Sequential(OrderedDict([\n",
    "    ('fcl1', nn.Linear(2304,512)),\n",
    "    ('dp1', nn.Dropout(0.3)),\n",
    "    ('r1', nn.ReLU()),\n",
    "    ('fcl2', nn.Linear(512,6)),\n",
    "    ('out', nn.Sigmoid()),\n",
    "]))"
   ]
  },
  {
   "cell_type": "code",
   "execution_count": 24,
   "metadata": {
    "collapsed": true
   },
   "outputs": [],
   "source": [
    "#metric\n",
    "from sklearn.metrics import roc_auc_score\n",
    "from sklearn.metrics import precision_score,recall_score, f1_score\n",
    "# roc_auc_score(y, clf.decision_function(X), average=None)\n",
    "def calculate_metrics(pred, target, threshold=0.5):\n",
    "    pred = np.array(pred > threshold, dtype=float)\n",
    "    return {'micro/precision': precision_score(y_true=target, y_pred=pred, average='micro')*100,\n",
    "            'micro/recall': recall_score(y_true=target, y_pred=pred, average='micro')*100,\n",
    "            'micro/f1': f1_score(y_true=target, y_pred=pred, average='micro')*100,\n",
    "            'macro/precision': precision_score(y_true=target, y_pred=pred, average='macro')*100,\n",
    "            'macro/recall': recall_score(y_true=target, y_pred=pred, average='macro')*100,\n",
    "            'macro/f1': f1_score(y_true=target, y_pred=pred, average='macro')*100,\n",
    "            'samples/precision': precision_score(y_true=target, y_pred=pred, average='samples')*100,\n",
    "            'samples/recall': recall_score(y_true=target, y_pred=pred, average='samples')*100,\n",
    "            'samples/f1': f1_score(y_true=target, y_pred=pred, average='samples')*100,\n",
    "            }\n"
   ]
  },
  {
   "cell_type": "code",
   "execution_count": 25,
   "metadata": {
    "collapsed": true
   },
   "outputs": [],
   "source": [
    "criterion = nn.BCELoss()\n",
    "optimizer = optim.Adam(model.parameters(),lr = 0.001)\n",
    "schedular = optim.lr_scheduler.ReduceLROnPlateau(optimizer,factor = 0.1,patience = 5, verbose= True)\n",
    "epochs = 40\n",
    "test_loss_min = np.Inf"
   ]
  },
  {
   "cell_type": "code",
   "execution_count": 26,
   "metadata": {
    "collapsed": true
   },
   "outputs": [],
   "source": [
    "device = 'cuda' if torch.cuda.is_available() else 'cpu'"
   ]
  },
  {
   "cell_type": "code",
   "execution_count": 27,
   "metadata": {
    "collapsed": true
   },
   "outputs": [],
   "source": [
    "if torch.cuda.is_available():\n",
    "    model = model.cuda()"
   ]
  },
  {
   "cell_type": "code",
   "execution_count": null,
   "metadata": {},
   "outputs": [
    {
     "data": {
      "application/vnd.jupyter.widget-view+json": {
       "model_id": "964e66003d84442d9a62ec35eed8de49",
       "version_major": 2,
       "version_minor": 0
      },
      "text/plain": [
       "HBox(children=(FloatProgress(value=0.0, max=11250.0), HTML(value='')))"
      ]
     },
     "metadata": {},
     "output_type": "display_data"
    }
   ],
   "source": [
    "train_loss = []\n",
    "test_loss = []\n",
    "\n",
    "for epoch in range(0,epochs):\n",
    "    train_loss = 0.0\n",
    "    test_loss = 0.0\n",
    "    model_train_result = []\n",
    "    train_target = []\n",
    "    model_test_result = []\n",
    "    test_target = []\n",
    "    \n",
    "    \n",
    "    model.train()\n",
    "    for images,labels in tqdm(trainloader):\n",
    "        images = images.to(device)\n",
    "        labels = labels.to(device)\n",
    "        ps = model(images)\n",
    "        \n",
    "        #for metric computing\n",
    "        model_train_result.extend(ps.detach().cpu().numpy().tolist())\n",
    "        train_target.extend(labels.cpu().numpy())\n",
    "        \n",
    "        \n",
    "        loss = criterion(ps,labels.type(torch.float))\n",
    "        \n",
    "        optimizer.zero_grad()\n",
    "        train_loss += loss.item()\n",
    "        loss.backward()\n",
    "        optimizer.step()\n",
    "        \n",
    "    avg_train_loss = train_loss / len(trainloader)\n",
    "    train_loss.append(avg_train_loss)\n",
    "    \n",
    "    train_result = calculate_metrics(np.array(model_train_result), train_target)\n",
    "    train_auc = roc_auc_score(train_target, np.array(model_train_result), average=None)\n",
    "    \n",
    "    model.eval()\n",
    "    with torch.no_grad():\n",
    "        for images, labels in tqdm(testloader):\n",
    "            images = images.to(device)\n",
    "            ps = model(images)\n",
    "            \n",
    "            model_test_result.extend(ps.cpu().numpy().tolist())\n",
    "            test_target.extend(labels.cpu().numpy())\n",
    "            \n",
    "            \n",
    "            loss = criterion(ps,labels.type(torch.float))\n",
    "            test_loss += loss.item()\n",
    "            \n",
    "        avg_test_loss = test_loss / len(testloader)\n",
    "        test_loss.append(avg_test_loss)\n",
    "        \n",
    "        schedular.step(avg_test_loss)\n",
    "\n",
    "        test_result = calculate_metrics(np.array(model_test_result), test_target)\n",
    "        test_auc = roc_auc_score(test_target, np.array(model_test_result), average=None)\n",
    "\n",
    "        \n",
    "        if avg_test_loss <= test_loss_min:\n",
    "                    print('testation loss decreased ({:.6f} --> {:.6f}).   Saving model ...'.format(test_loss_min,avg_test_loss))\n",
    "                    torch.save({\n",
    "                        'epoch' : i,\n",
    "                        'model_state_dict' : model.state_dict(),\n",
    "                        'optimizer_state_dict' : optimizer.state_dict(),\n",
    "                        'test_loss_min' : avg_test_loss\n",
    "                    },'DenseNet_size224.pt')\n",
    "                \n",
    "    \n",
    "    \n",
    "    print(f\"Train Loss: {avg_train_loss}\")\n",
    "    \n",
    "    print(\"epoch:{:2d} iter:{:3d} Train: \"\n",
    "                  \"micro f1: {:.3f} \"\n",
    "                  \"macro f1: {:.3f} \"\n",
    "                  \"samples f1: {:.3f}\".format(epoch,0,\n",
    "                                              train_result['micro/f1'],\n",
    "                                              train_result['macro/f1'],\n",
    "                                              train_result['samples/f1']))\n",
    "    print(f\"Train AUC{train_auc}\")\n",
    "    \n",
    "    \n",
    "    print(f\"Test Loss: {avg_test_loss}\")\n",
    "\n",
    "    print(\"epoch:{:2d} iter:{:3d} test: \"\n",
    "                  \"micro f1: {:.3f} \"\n",
    "                  \"macro f1: {:.3f} \"\n",
    "                  \"samples f1: {:.3f}\".format(epoch,0,\n",
    "                                              test_result['micro/f1'],\n",
    "                                              test_result['macro/f1'],\n",
    "                                              test_result['samples/f1']))    \n",
    "    print(f\"Test AUC{test_auc}\")\n",
    "    "
   ]
  },
  {
   "cell_type": "code",
   "execution_count": null,
   "metadata": {
    "collapsed": true
   },
   "outputs": [],
   "source": []
  }
 ],
 "metadata": {
  "kernelspec": {
   "display_name": "Python 3.7.6 64-bit ('torch37': conda)",
   "language": "python",
   "name": "python376jvsc74a57bd09372f3443f0100fdfc96191f716ab0c9babbafd749985a282374d5aa08e997ff"
  },
  "language_info": {
   "codemirror_mode": {
    "name": "ipython",
    "version": 3
   },
   "file_extension": ".py",
   "mimetype": "text/x-python",
   "name": "python",
   "nbconvert_exporter": "python",
   "pygments_lexer": "ipython3",
   "version": "3.7.6"
  }
 },
 "nbformat": 4,
 "nbformat_minor": 2
}
